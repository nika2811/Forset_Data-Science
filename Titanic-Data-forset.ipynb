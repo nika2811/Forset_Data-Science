{
 "cells": [
  {
   "cell_type": "code",
   "execution_count": 1,
   "metadata": {
    "_cell_guid": "b1076dfc-b9ad-4769-8c92-a6c4dae69d19",
    "_uuid": "8f2839f25d086af736a60e9eeb907d3b93b6e0e5",
    "execution": {
     "iopub.execute_input": "2022-04-18T22:18:47.260295Z",
     "iopub.status.busy": "2022-04-18T22:18:47.260009Z",
     "iopub.status.idle": "2022-04-18T22:18:47.291862Z",
     "shell.execute_reply": "2022-04-18T22:18:47.291209Z",
     "shell.execute_reply.started": "2022-04-18T22:18:47.260267Z"
    }
   },
   "outputs": [],
   "source": [
    "# This Python 3 environment comes with many helpful analytics libraries installed\n",
    "# It is defined by the kaggle/python Docker image: https://github.com/kaggle/docker-python\n",
    "# For example, here's several helpful packages to load\n",
    "\n",
    "import numpy as np # linear algebra\n",
    "import pandas as pd # data processing, CSV file I/O (e.g. pd.read_csv)\n",
    "\n",
    "# Input data files are available in the read-only \"../input/\" directory\n",
    "# For example, running this (by clicking run or pressing Shift+Enter) will list all files under the input directory\n",
    "\n",
    "import os\n",
    "for dirname, _, filenames in os.walk('/kaggle/input'):\n",
    "    for filename in filenames:\n",
    "        print(os.path.join(dirname, filename))\n",
    "\n",
    "# You can write up to 20GB to the current directory (/kaggle/working/) that gets preserved as output when you create a version using \"Save & Run All\" \n",
    "# You can also write temporary files to /kaggle/temp/, but they won't be saved outside of the current session"
   ]
  },
  {
   "cell_type": "code",
   "execution_count": 2,
   "metadata": {
    "execution": {
     "iopub.execute_input": "2022-04-18T22:18:47.681523Z",
     "iopub.status.busy": "2022-04-18T22:18:47.680833Z",
     "iopub.status.idle": "2022-04-18T22:18:47.688278Z",
     "shell.execute_reply": "2022-04-18T22:18:47.687345Z",
     "shell.execute_reply.started": "2022-04-18T22:18:47.681472Z"
    }
   },
   "outputs": [],
   "source": [
    "import pandas as pd\n",
    "import numpy as np\n",
    "import matplotlib.pyplot as plt\n",
    "from mpl_toolkits import mplot3d\n",
    "import seaborn as sns\n",
    "\n",
    "\n",
    "from sklearn.metrics import r2_score\n",
    "from sklearn.feature_selection import f_regression\n",
    "from sklearn.linear_model import LinearRegression\n",
    "from sklearn.preprocessing import PolynomialFeatures\n",
    "from sklearn.model_selection import train_test_split\n",
    "from sklearn.metrics import mean_squared_error, r2_score\n",
    "from sklearn.linear_model import LogisticRegression\n",
    "from sklearn.neighbors import KNeighborsClassifier\n",
    "\n",
    "\n",
    "import statsmodels.api as sm"
   ]
  },
  {
   "cell_type": "code",
   "execution_count": 3,
   "metadata": {
    "execution": {
     "iopub.execute_input": "2022-04-18T22:18:48.096452Z",
     "iopub.status.busy": "2022-04-18T22:18:48.095718Z",
     "iopub.status.idle": "2022-04-18T22:18:48.120364Z",
     "shell.execute_reply": "2022-04-18T22:18:48.119312Z",
     "shell.execute_reply.started": "2022-04-18T22:18:48.096405Z"
    }
   },
   "outputs": [],
   "source": [
    "train_data = pd.read_csv('train.csv')\n",
    "test_data = pd.read_csv('test.csv')\n",
    "train =  pd.concat(objs=[train_data, test_data], axis=0).reset_index(drop=True)\n",
    "train = train.fillna(np.nan)"
   ]
  },
  {
   "cell_type": "markdown",
   "metadata": {},
   "source": [
    "# Data pre-processing"
   ]
  },
  {
   "cell_type": "code",
   "execution_count": 4,
   "metadata": {
    "execution": {
     "iopub.execute_input": "2022-04-18T22:18:48.532844Z",
     "iopub.status.busy": "2022-04-18T22:18:48.532533Z",
     "iopub.status.idle": "2022-04-18T22:18:48.541747Z",
     "shell.execute_reply": "2022-04-18T22:18:48.540923Z",
     "shell.execute_reply.started": "2022-04-18T22:18:48.532812Z"
    }
   },
   "outputs": [
    {
     "name": "stdout",
     "output_type": "stream",
     "text": [
      "PassengerId       0\n",
      "Survived        418\n",
      "Pclass            0\n",
      "Name              0\n",
      "Sex               0\n",
      "Age             263\n",
      "SibSp             0\n",
      "Parch             0\n",
      "Ticket            0\n",
      "Fare              1\n",
      "Cabin          1014\n",
      "Embarked          2\n",
      "dtype: int64\n"
     ]
    }
   ],
   "source": [
    "#### გავიგოთ რამდენი უჯრაა ცარიელი \n",
    "print(train.isnull().sum())\n",
    "\n"
   ]
  },
  {
   "cell_type": "code",
   "execution_count": 5,
   "metadata": {
    "execution": {
     "iopub.execute_input": "2022-04-18T22:18:48.971249Z",
     "iopub.status.busy": "2022-04-18T22:18:48.970514Z",
     "iopub.status.idle": "2022-04-18T22:18:48.976378Z",
     "shell.execute_reply": "2022-04-18T22:18:48.975761Z",
     "shell.execute_reply.started": "2022-04-18T22:18:48.971199Z"
    }
   },
   "outputs": [],
   "source": [
    "#### რადგან კაბინის სვეტში 687 ცარიელი უჯრაა 890-დან,ამოვიღოთ ეს სვეტი\n",
    "train = train.drop(columns = 'Cabin',axis = 1)"
   ]
  },
  {
   "cell_type": "code",
   "execution_count": 6,
   "metadata": {
    "execution": {
     "iopub.execute_input": "2022-04-18T22:18:49.357946Z",
     "iopub.status.busy": "2022-04-18T22:18:49.35716Z",
     "iopub.status.idle": "2022-04-18T22:18:49.36548Z",
     "shell.execute_reply": "2022-04-18T22:18:49.364544Z",
     "shell.execute_reply.started": "2022-04-18T22:18:49.357897Z"
    }
   },
   "outputs": [],
   "source": [
    "#### ამოვიღოთ ასევე ბილეთების და ID-ს სვეტი,რადგან შედეგზე ისინი ვერ იმოქმედებენ\n",
    "train = train.drop(columns = 'Ticket',axis = 1)\n",
    "train = train.drop(columns = 'PassengerId',axis = 1)"
   ]
  },
  {
   "cell_type": "code",
   "execution_count": 7,
   "metadata": {
    "execution": {
     "iopub.execute_input": "2022-04-18T22:18:49.741787Z",
     "iopub.status.busy": "2022-04-18T22:18:49.741117Z",
     "iopub.status.idle": "2022-04-18T22:18:49.747344Z",
     "shell.execute_reply": "2022-04-18T22:18:49.746486Z",
     "shell.execute_reply.started": "2022-04-18T22:18:49.741749Z"
    }
   },
   "outputs": [],
   "source": [
    "#### წლოვანების სვეტში 177 ცარიელი უჯრაა 890-დან და მოდი ეს ცარიელი უჯრები არსებულის საშუალოთი წარმოვადგინოთ\n",
    "train[\"Age\"].fillna(train[\"Age\"].mean(),inplace = True)"
   ]
  },
  {
   "cell_type": "code",
   "execution_count": 8,
   "metadata": {
    "execution": {
     "iopub.execute_input": "2022-04-18T22:18:50.165686Z",
     "iopub.status.busy": "2022-04-18T22:18:50.165414Z",
     "iopub.status.idle": "2022-04-18T22:18:50.174195Z",
     "shell.execute_reply": "2022-04-18T22:18:50.173187Z",
     "shell.execute_reply.started": "2022-04-18T22:18:50.165659Z"
    }
   },
   "outputs": [
    {
     "name": "stdout",
     "output_type": "stream",
     "text": [
      "0    S\n",
      "dtype: object\n"
     ]
    }
   ],
   "source": [
    "#### გვრჩება ორი ცარიელი უჯრა Embarked სვეტში და შევავსოთ არსებულის მოდით\n",
    "print(train['Embarked'].mode())\n",
    "train[\"Embarked\"].fillna(train[\"Embarked\"].mode()[0],inplace = True)"
   ]
  },
  {
   "cell_type": "code",
   "execution_count": 9,
   "metadata": {
    "execution": {
     "iopub.execute_input": "2022-04-18T22:18:50.580396Z",
     "iopub.status.busy": "2022-04-18T22:18:50.579896Z",
     "iopub.status.idle": "2022-04-18T22:18:50.590406Z",
     "shell.execute_reply": "2022-04-18T22:18:50.588777Z",
     "shell.execute_reply.started": "2022-04-18T22:18:50.58034Z"
    }
   },
   "outputs": [
    {
     "data": {
      "text/plain": [
       "Survived    418\n",
       "Pclass        0\n",
       "Name          0\n",
       "Sex           0\n",
       "Age           0\n",
       "SibSp         0\n",
       "Parch         0\n",
       "Fare          1\n",
       "Embarked      0\n",
       "dtype: int64"
      ]
     },
     "execution_count": 9,
     "metadata": {},
     "output_type": "execute_result"
    }
   ],
   "source": [
    "#### არჩერთი ცარიელი უჯრა აღარ გვაქვს\n",
    "train.isnull().sum()"
   ]
  },
  {
   "cell_type": "code",
   "execution_count": 10,
   "metadata": {
    "execution": {
     "iopub.execute_input": "2022-04-18T22:18:51.000244Z",
     "iopub.status.busy": "2022-04-18T22:18:50.999737Z",
     "iopub.status.idle": "2022-04-18T22:18:51.015242Z",
     "shell.execute_reply": "2022-04-18T22:18:51.014423Z",
     "shell.execute_reply.started": "2022-04-18T22:18:51.000194Z"
    }
   },
   "outputs": [
    {
     "data": {
      "text/html": [
       "<div>\n",
       "<style scoped>\n",
       "    .dataframe tbody tr th:only-of-type {\n",
       "        vertical-align: middle;\n",
       "    }\n",
       "\n",
       "    .dataframe tbody tr th {\n",
       "        vertical-align: top;\n",
       "    }\n",
       "\n",
       "    .dataframe thead th {\n",
       "        text-align: right;\n",
       "    }\n",
       "</style>\n",
       "<table border=\"1\" class=\"dataframe\">\n",
       "  <thead>\n",
       "    <tr style=\"text-align: right;\">\n",
       "      <th></th>\n",
       "      <th>Survived</th>\n",
       "      <th>Pclass</th>\n",
       "      <th>Name</th>\n",
       "      <th>Sex</th>\n",
       "      <th>Age</th>\n",
       "      <th>SibSp</th>\n",
       "      <th>Parch</th>\n",
       "      <th>Fare</th>\n",
       "      <th>Embarked</th>\n",
       "    </tr>\n",
       "  </thead>\n",
       "  <tbody>\n",
       "    <tr>\n",
       "      <th>0</th>\n",
       "      <td>0.0</td>\n",
       "      <td>3</td>\n",
       "      <td>Braund, Mr. Owen Harris</td>\n",
       "      <td>male</td>\n",
       "      <td>22.0</td>\n",
       "      <td>1</td>\n",
       "      <td>0</td>\n",
       "      <td>7.2500</td>\n",
       "      <td>S</td>\n",
       "    </tr>\n",
       "    <tr>\n",
       "      <th>1</th>\n",
       "      <td>1.0</td>\n",
       "      <td>1</td>\n",
       "      <td>Cumings, Mrs. John Bradley (Florence Briggs Th...</td>\n",
       "      <td>female</td>\n",
       "      <td>38.0</td>\n",
       "      <td>1</td>\n",
       "      <td>0</td>\n",
       "      <td>71.2833</td>\n",
       "      <td>C</td>\n",
       "    </tr>\n",
       "    <tr>\n",
       "      <th>2</th>\n",
       "      <td>1.0</td>\n",
       "      <td>3</td>\n",
       "      <td>Heikkinen, Miss. Laina</td>\n",
       "      <td>female</td>\n",
       "      <td>26.0</td>\n",
       "      <td>0</td>\n",
       "      <td>0</td>\n",
       "      <td>7.9250</td>\n",
       "      <td>S</td>\n",
       "    </tr>\n",
       "    <tr>\n",
       "      <th>3</th>\n",
       "      <td>1.0</td>\n",
       "      <td>1</td>\n",
       "      <td>Futrelle, Mrs. Jacques Heath (Lily May Peel)</td>\n",
       "      <td>female</td>\n",
       "      <td>35.0</td>\n",
       "      <td>1</td>\n",
       "      <td>0</td>\n",
       "      <td>53.1000</td>\n",
       "      <td>S</td>\n",
       "    </tr>\n",
       "    <tr>\n",
       "      <th>4</th>\n",
       "      <td>0.0</td>\n",
       "      <td>3</td>\n",
       "      <td>Allen, Mr. William Henry</td>\n",
       "      <td>male</td>\n",
       "      <td>35.0</td>\n",
       "      <td>0</td>\n",
       "      <td>0</td>\n",
       "      <td>8.0500</td>\n",
       "      <td>S</td>\n",
       "    </tr>\n",
       "  </tbody>\n",
       "</table>\n",
       "</div>"
      ],
      "text/plain": [
       "   Survived  Pclass                                               Name  \\\n",
       "0       0.0       3                            Braund, Mr. Owen Harris   \n",
       "1       1.0       1  Cumings, Mrs. John Bradley (Florence Briggs Th...   \n",
       "2       1.0       3                             Heikkinen, Miss. Laina   \n",
       "3       1.0       1       Futrelle, Mrs. Jacques Heath (Lily May Peel)   \n",
       "4       0.0       3                           Allen, Mr. William Henry   \n",
       "\n",
       "      Sex   Age  SibSp  Parch     Fare Embarked  \n",
       "0    male  22.0      1      0   7.2500        S  \n",
       "1  female  38.0      1      0  71.2833        C  \n",
       "2  female  26.0      0      0   7.9250        S  \n",
       "3  female  35.0      1      0  53.1000        S  \n",
       "4    male  35.0      0      0   8.0500        S  "
      ]
     },
     "execution_count": 10,
     "metadata": {},
     "output_type": "execute_result"
    }
   ],
   "source": [
    "train.head()"
   ]
  },
  {
   "cell_type": "code",
   "execution_count": 11,
   "metadata": {
    "execution": {
     "iopub.execute_input": "2022-04-18T22:18:51.415885Z",
     "iopub.status.busy": "2022-04-18T22:18:51.415299Z",
     "iopub.status.idle": "2022-04-18T22:18:51.423171Z",
     "shell.execute_reply": "2022-04-18T22:18:51.422067Z",
     "shell.execute_reply.started": "2022-04-18T22:18:51.415848Z"
    }
   },
   "outputs": [],
   "source": [
    "#### სქესთა სვეტი წარმოვადგინოთ ბინარული სტილით (dummy variables)\n",
    "train.replace({'Sex':{'male':0,'female':1}}, inplace=True)"
   ]
  },
  {
   "cell_type": "code",
   "execution_count": 12,
   "metadata": {
    "execution": {
     "iopub.execute_input": "2022-04-18T22:18:51.813426Z",
     "iopub.status.busy": "2022-04-18T22:18:51.812645Z",
     "iopub.status.idle": "2022-04-18T22:18:51.821674Z",
     "shell.execute_reply": "2022-04-18T22:18:51.82062Z",
     "shell.execute_reply.started": "2022-04-18T22:18:51.813378Z"
    }
   },
   "outputs": [],
   "source": [
    "#### ასევე Embarked სვეტიც\n",
    "train.replace({'Embarked':{'S':0,'C':1,'Q':2}}, inplace=True)"
   ]
  },
  {
   "cell_type": "code",
   "execution_count": 13,
   "metadata": {
    "execution": {
     "iopub.execute_input": "2022-04-18T22:18:52.206876Z",
     "iopub.status.busy": "2022-04-18T22:18:52.20604Z",
     "iopub.status.idle": "2022-04-18T22:18:52.213193Z",
     "shell.execute_reply": "2022-04-18T22:18:52.212523Z",
     "shell.execute_reply.started": "2022-04-18T22:18:52.206837Z"
    }
   },
   "outputs": [
    {
     "data": {
      "text/plain": [
       "array([1, 0, 3, 4, 2, 5, 8], dtype=int64)"
      ]
     },
     "execution_count": 13,
     "metadata": {},
     "output_type": "execute_result"
    }
   ],
   "source": [
    "train[\"SibSp\"].unique()"
   ]
  },
  {
   "cell_type": "code",
   "execution_count": 14,
   "metadata": {
    "execution": {
     "iopub.execute_input": "2022-04-18T22:18:52.603784Z",
     "iopub.status.busy": "2022-04-18T22:18:52.603297Z",
     "iopub.status.idle": "2022-04-18T22:18:52.619285Z",
     "shell.execute_reply": "2022-04-18T22:18:52.618288Z",
     "shell.execute_reply.started": "2022-04-18T22:18:52.603751Z"
    }
   },
   "outputs": [
    {
     "data": {
      "text/html": [
       "<div>\n",
       "<style scoped>\n",
       "    .dataframe tbody tr th:only-of-type {\n",
       "        vertical-align: middle;\n",
       "    }\n",
       "\n",
       "    .dataframe tbody tr th {\n",
       "        vertical-align: top;\n",
       "    }\n",
       "\n",
       "    .dataframe thead th {\n",
       "        text-align: right;\n",
       "    }\n",
       "</style>\n",
       "<table border=\"1\" class=\"dataframe\">\n",
       "  <thead>\n",
       "    <tr style=\"text-align: right;\">\n",
       "      <th></th>\n",
       "      <th>Survived</th>\n",
       "      <th>Pclass</th>\n",
       "      <th>Name</th>\n",
       "      <th>Sex</th>\n",
       "      <th>Age</th>\n",
       "      <th>SibSp</th>\n",
       "      <th>Parch</th>\n",
       "      <th>Fare</th>\n",
       "      <th>Embarked</th>\n",
       "      <th>Family size</th>\n",
       "    </tr>\n",
       "  </thead>\n",
       "  <tbody>\n",
       "    <tr>\n",
       "      <th>0</th>\n",
       "      <td>0.0</td>\n",
       "      <td>3</td>\n",
       "      <td>Braund, Mr. Owen Harris</td>\n",
       "      <td>0</td>\n",
       "      <td>22.0</td>\n",
       "      <td>1</td>\n",
       "      <td>0</td>\n",
       "      <td>7.2500</td>\n",
       "      <td>0</td>\n",
       "      <td>2</td>\n",
       "    </tr>\n",
       "    <tr>\n",
       "      <th>1</th>\n",
       "      <td>1.0</td>\n",
       "      <td>1</td>\n",
       "      <td>Cumings, Mrs. John Bradley (Florence Briggs Th...</td>\n",
       "      <td>1</td>\n",
       "      <td>38.0</td>\n",
       "      <td>1</td>\n",
       "      <td>0</td>\n",
       "      <td>71.2833</td>\n",
       "      <td>1</td>\n",
       "      <td>2</td>\n",
       "    </tr>\n",
       "    <tr>\n",
       "      <th>2</th>\n",
       "      <td>1.0</td>\n",
       "      <td>3</td>\n",
       "      <td>Heikkinen, Miss. Laina</td>\n",
       "      <td>1</td>\n",
       "      <td>26.0</td>\n",
       "      <td>0</td>\n",
       "      <td>0</td>\n",
       "      <td>7.9250</td>\n",
       "      <td>0</td>\n",
       "      <td>1</td>\n",
       "    </tr>\n",
       "    <tr>\n",
       "      <th>3</th>\n",
       "      <td>1.0</td>\n",
       "      <td>1</td>\n",
       "      <td>Futrelle, Mrs. Jacques Heath (Lily May Peel)</td>\n",
       "      <td>1</td>\n",
       "      <td>35.0</td>\n",
       "      <td>1</td>\n",
       "      <td>0</td>\n",
       "      <td>53.1000</td>\n",
       "      <td>0</td>\n",
       "      <td>2</td>\n",
       "    </tr>\n",
       "    <tr>\n",
       "      <th>4</th>\n",
       "      <td>0.0</td>\n",
       "      <td>3</td>\n",
       "      <td>Allen, Mr. William Henry</td>\n",
       "      <td>0</td>\n",
       "      <td>35.0</td>\n",
       "      <td>0</td>\n",
       "      <td>0</td>\n",
       "      <td>8.0500</td>\n",
       "      <td>0</td>\n",
       "      <td>1</td>\n",
       "    </tr>\n",
       "  </tbody>\n",
       "</table>\n",
       "</div>"
      ],
      "text/plain": [
       "   Survived  Pclass                                               Name  Sex  \\\n",
       "0       0.0       3                            Braund, Mr. Owen Harris    0   \n",
       "1       1.0       1  Cumings, Mrs. John Bradley (Florence Briggs Th...    1   \n",
       "2       1.0       3                             Heikkinen, Miss. Laina    1   \n",
       "3       1.0       1       Futrelle, Mrs. Jacques Heath (Lily May Peel)    1   \n",
       "4       0.0       3                           Allen, Mr. William Henry    0   \n",
       "\n",
       "    Age  SibSp  Parch     Fare  Embarked  Family size  \n",
       "0  22.0      1      0   7.2500         0            2  \n",
       "1  38.0      1      0  71.2833         1            2  \n",
       "2  26.0      0      0   7.9250         0            1  \n",
       "3  35.0      1      0  53.1000         0            2  \n",
       "4  35.0      0      0   8.0500         0            1  "
      ]
     },
     "execution_count": 14,
     "metadata": {},
     "output_type": "execute_result"
    }
   ],
   "source": [
    "#### შემოვიტანოთ დამატებითი პარამეტრი Family size \n",
    "train[\"Family size\"] = train[\"SibSp\"] + train[\"Parch\"] + 1\n",
    "train.head()"
   ]
  },
  {
   "cell_type": "code",
   "execution_count": 15,
   "metadata": {
    "execution": {
     "iopub.execute_input": "2022-04-18T22:18:52.965407Z",
     "iopub.status.busy": "2022-04-18T22:18:52.965114Z",
     "iopub.status.idle": "2022-04-18T22:18:53.707582Z",
     "shell.execute_reply": "2022-04-18T22:18:53.706683Z",
     "shell.execute_reply.started": "2022-04-18T22:18:52.965375Z"
    }
   },
   "outputs": [
    {
     "data": {
      "text/plain": [
       "<AxesSubplot:>"
      ]
     },
     "execution_count": 15,
     "metadata": {},
     "output_type": "execute_result"
    },
    {
     "data": {
      "image/png": "[encoded data removed]",
      "text/plain": [
       "<Figure size 432x288 with 2 Axes>"
      ]
     },
     "metadata": {
      "needs_background": "light"
     },
     "output_type": "display_data"
    }
   ],
   "source": [
    "#### კორელაციის მატრიცა რათა დავინახოთ კავშირი ნუმერაციულ პარამეტრებს შორის\n",
    "sns.heatmap(train[[\"Survived\",\"SibSp\",\"Parch\",\"Age\",\"Fare\",\"Pclass\",\"Sex\",\"Embarked\",\"Family size\"]].corr(),annot=True, fmt = \".2f\", cmap = \"coolwarm\")"
   ]
  },
  {
   "cell_type": "markdown",
   "metadata": {},
   "source": [
    "#### ვხედავთ რომ გადარჩენილებსა და სქესს შორის მაღალი კორელაცია გვაქვს.\n",
    "#### განვიხილოთ სხვა პარამამეტრებიც"
   ]
  },
  {
   "cell_type": "code",
   "execution_count": 16,
   "metadata": {
    "execution": {
     "iopub.execute_input": "2022-04-18T22:18:53.710169Z",
     "iopub.status.busy": "2022-04-18T22:18:53.709541Z",
     "iopub.status.idle": "2022-04-18T22:18:54.299929Z",
     "shell.execute_reply": "2022-04-18T22:18:54.29888Z",
     "shell.execute_reply.started": "2022-04-18T22:18:53.710109Z"
    }
   },
   "outputs": [
    {
     "data": {
      "text/plain": [
       "<seaborn.axisgrid.FacetGrid at 0x1a3dcddf790>"
      ]
     },
     "execution_count": 16,
     "metadata": {},
     "output_type": "execute_result"
    },
    {
     "data": {
      "image/png": "[encoded data removed]",
      "text/plain": [
       "<Figure size 432x432 with 1 Axes>"
      ]
     },
     "metadata": {
      "needs_background": "light"
     },
     "output_type": "display_data"
    }
   ],
   "source": [
    "sns.catplot(x=\"SibSp\",y=\"Survived\",data=train,kind=\"bar\", height = 6 ,palette = \"muted\")"
   ]
  },
  {
   "cell_type": "markdown",
   "metadata": {},
   "source": [
    "##### 3 და 4 sibsp შემთხვევაში ნაკლებია შანსი გადარჩენი განსხვავებით 0,1, და 2"
   ]
  },
  {
   "cell_type": "code",
   "execution_count": 17,
   "metadata": {
    "execution": {
     "iopub.execute_input": "2022-04-18T22:18:54.301675Z",
     "iopub.status.busy": "2022-04-18T22:18:54.301354Z",
     "iopub.status.idle": "2022-04-18T22:18:55.048139Z",
     "shell.execute_reply": "2022-04-18T22:18:55.046991Z",
     "shell.execute_reply.started": "2022-04-18T22:18:54.301631Z"
    }
   },
   "outputs": [
    {
     "data": {
      "text/plain": [
       "<seaborn.axisgrid.FacetGrid at 0x1a3dd712e20>"
      ]
     },
     "execution_count": 17,
     "metadata": {},
     "output_type": "execute_result"
    },
    {
     "data": {
      "image/png": "[encoded data removed]",
      "text/plain": [
       "<Figure size 360x360 with 1 Axes>"
      ]
     },
     "metadata": {
      "needs_background": "light"
     },
     "output_type": "display_data"
    }
   ],
   "source": [
    "sns.catplot(x=\"Parch\",y=\"Survived\",data=train,kind=\"bar\")"
   ]
  },
  {
   "cell_type": "markdown",
   "metadata": {},
   "source": [
    "#### რაც პატარაა Parch მით დიდია შანსი გადარჩენის"
   ]
  },
  {
   "cell_type": "code",
   "execution_count": 18,
   "metadata": {
    "execution": {
     "iopub.execute_input": "2022-04-18T22:18:55.050839Z",
     "iopub.status.busy": "2022-04-18T22:18:55.050516Z",
     "iopub.status.idle": "2022-04-18T22:18:55.824339Z",
     "shell.execute_reply": "2022-04-18T22:18:55.82346Z",
     "shell.execute_reply.started": "2022-04-18T22:18:55.050793Z"
    }
   },
   "outputs": [
    {
     "data": {
      "image/png": "[encoded data removed]",
      "text/plain": [
       "<Figure size 432x216 with 2 Axes>"
      ]
     },
     "metadata": {
      "needs_background": "light"
     },
     "output_type": "display_data"
    }
   ],
   "source": [
    "# Explore Age vs Survived\n",
    "g = sns.FacetGrid(train, col='Survived')\n",
    "g = g.map(sns.histplot, \"Age\")"
   ]
  },
  {
   "cell_type": "markdown",
   "metadata": {},
   "source": [
    "#### ჩვენ ვაჩვენეთ რომ ასაკს და გადარჩენილთა შორის კორელაცია არ იყო (0,07),მაგრამ შეიმჩნევა ის,რომ 20 დან 40 წლამდე ადამიანთა შორის დიდია გადარჩენის შანსი"
   ]
  },
  {
   "cell_type": "code",
   "execution_count": 19,
   "metadata": {
    "execution": {
     "iopub.execute_input": "2022-04-18T22:18:55.825762Z",
     "iopub.status.busy": "2022-04-18T22:18:55.825506Z",
     "iopub.status.idle": "2022-04-18T22:18:56.499163Z",
     "shell.execute_reply": "2022-04-18T22:18:56.497398Z",
     "shell.execute_reply.started": "2022-04-18T22:18:55.825717Z"
    }
   },
   "outputs": [
    {
     "data": {
      "text/plain": [
       "<seaborn.axisgrid.FacetGrid at 0x1a3dd7d48e0>"
      ]
     },
     "execution_count": 19,
     "metadata": {},
     "output_type": "execute_result"
    },
    {
     "data": {
      "image/png": "[encoded data removed]",
      "text/plain": [
       "<Figure size 360x360 with 1 Axes>"
      ]
     },
     "metadata": {
      "needs_background": "light"
     },
     "output_type": "display_data"
    }
   ],
   "source": [
    "sns.displot(train[\"Fare\"], color=\"m\")"
   ]
  },
  {
   "cell_type": "code",
   "execution_count": 20,
   "metadata": {
    "execution": {
     "iopub.execute_input": "2022-04-18T22:18:56.501382Z",
     "iopub.status.busy": "2022-04-18T22:18:56.500822Z",
     "iopub.status.idle": "2022-04-18T22:18:56.510734Z",
     "shell.execute_reply": "2022-04-18T22:18:56.50982Z",
     "shell.execute_reply.started": "2022-04-18T22:18:56.501337Z"
    }
   },
   "outputs": [],
   "source": [
    "#### ძაან დახრილია,ამიტომ ნორმალიზაცია მოვახდინოთ\n",
    "train[\"Fare\"] = train[\"Fare\"].map(lambda i: np.log(i) if i > 0 else 0)"
   ]
  },
  {
   "cell_type": "code",
   "execution_count": 21,
   "metadata": {
    "execution": {
     "iopub.execute_input": "2022-04-18T22:18:56.512569Z",
     "iopub.status.busy": "2022-04-18T22:18:56.512138Z",
     "iopub.status.idle": "2022-04-18T22:18:56.9815Z",
     "shell.execute_reply": "2022-04-18T22:18:56.980366Z",
     "shell.execute_reply.started": "2022-04-18T22:18:56.512523Z"
    }
   },
   "outputs": [
    {
     "data": {
      "text/plain": [
       "<seaborn.axisgrid.FacetGrid at 0x1a3dd920be0>"
      ]
     },
     "execution_count": 21,
     "metadata": {},
     "output_type": "execute_result"
    },
    {
     "data": {
      "image/png": "[encoded data removed]",
      "text/plain": [
       "<Figure size 360x360 with 1 Axes>"
      ]
     },
     "metadata": {
      "needs_background": "light"
     },
     "output_type": "display_data"
    }
   ],
   "source": [
    "sns.displot(train[\"Fare\"], color=\"b\")"
   ]
  },
  {
   "cell_type": "code",
   "execution_count": 22,
   "metadata": {
    "execution": {
     "iopub.execute_input": "2022-04-18T22:18:56.983902Z",
     "iopub.status.busy": "2022-04-18T22:18:56.983634Z",
     "iopub.status.idle": "2022-04-18T22:18:57.259017Z",
     "shell.execute_reply": "2022-04-18T22:18:57.258064Z",
     "shell.execute_reply.started": "2022-04-18T22:18:56.98387Z"
    }
   },
   "outputs": [
    {
     "data": {
      "text/plain": [
       "<AxesSubplot:xlabel='Sex', ylabel='Survived'>"
      ]
     },
     "execution_count": 22,
     "metadata": {},
     "output_type": "execute_result"
    },
    {
     "data": {
      "image/png": "[encoded data removed]",
      "text/plain": [
       "<Figure size 432x288 with 1 Axes>"
      ]
     },
     "metadata": {
      "needs_background": "light"
     },
     "output_type": "display_data"
    }
   ],
   "source": [
    "sns.barplot(x=\"Sex\",y=\"Survived\",data=train)"
   ]
  },
  {
   "cell_type": "code",
   "execution_count": 23,
   "metadata": {
    "execution": {
     "iopub.execute_input": "2022-04-18T22:18:57.260487Z",
     "iopub.status.busy": "2022-04-18T22:18:57.260246Z",
     "iopub.status.idle": "2022-04-18T22:18:57.272765Z",
     "shell.execute_reply": "2022-04-18T22:18:57.271911Z",
     "shell.execute_reply.started": "2022-04-18T22:18:57.260457Z"
    }
   },
   "outputs": [
    {
     "data": {
      "text/html": [
       "<div>\n",
       "<style scoped>\n",
       "    .dataframe tbody tr th:only-of-type {\n",
       "        vertical-align: middle;\n",
       "    }\n",
       "\n",
       "    .dataframe tbody tr th {\n",
       "        vertical-align: top;\n",
       "    }\n",
       "\n",
       "    .dataframe thead th {\n",
       "        text-align: right;\n",
       "    }\n",
       "</style>\n",
       "<table border=\"1\" class=\"dataframe\">\n",
       "  <thead>\n",
       "    <tr style=\"text-align: right;\">\n",
       "      <th></th>\n",
       "      <th>Survived</th>\n",
       "    </tr>\n",
       "    <tr>\n",
       "      <th>Sex</th>\n",
       "      <th></th>\n",
       "    </tr>\n",
       "  </thead>\n",
       "  <tbody>\n",
       "    <tr>\n",
       "      <th>0</th>\n",
       "      <td>0.188908</td>\n",
       "    </tr>\n",
       "    <tr>\n",
       "      <th>1</th>\n",
       "      <td>0.742038</td>\n",
       "    </tr>\n",
       "  </tbody>\n",
       "</table>\n",
       "</div>"
      ],
      "text/plain": [
       "     Survived\n",
       "Sex          \n",
       "0    0.188908\n",
       "1    0.742038"
      ]
     },
     "execution_count": 23,
     "metadata": {},
     "output_type": "execute_result"
    }
   ],
   "source": [
    "train[[\"Sex\",\"Survived\"]].groupby('Sex').mean()"
   ]
  },
  {
   "cell_type": "markdown",
   "metadata": {},
   "source": [
    "#### ქალებს მეტი შანსი აქვთ"
   ]
  },
  {
   "cell_type": "code",
   "execution_count": 24,
   "metadata": {
    "execution": {
     "iopub.execute_input": "2022-04-18T22:18:57.273971Z",
     "iopub.status.busy": "2022-04-18T22:18:57.273767Z",
     "iopub.status.idle": "2022-04-18T22:18:57.699109Z",
     "shell.execute_reply": "2022-04-18T22:18:57.698538Z",
     "shell.execute_reply.started": "2022-04-18T22:18:57.273944Z"
    }
   },
   "outputs": [
    {
     "data": {
      "text/plain": [
       "<seaborn.axisgrid.FacetGrid at 0x1a3dd97e0a0>"
      ]
     },
     "execution_count": 24,
     "metadata": {},
     "output_type": "execute_result"
    },
    {
     "data": {
      "image/png": "[encoded data removed]",
      "text/plain": [
       "<Figure size 360x360 with 1 Axes>"
      ]
     },
     "metadata": {
      "needs_background": "light"
     },
     "output_type": "display_data"
    }
   ],
   "source": [
    "sns.catplot(x=\"Pclass\",y=\"Survived\",data=train,kind=\"bar\")"
   ]
  },
  {
   "cell_type": "markdown",
   "metadata": {},
   "source": [
    "#### პირველი კლასის მგზავრებს მეტი შანსი აქვთ"
   ]
  },
  {
   "cell_type": "code",
   "execution_count": 25,
   "metadata": {
    "execution": {
     "iopub.execute_input": "2022-04-18T22:18:57.700723Z",
     "iopub.status.busy": "2022-04-18T22:18:57.700026Z",
     "iopub.status.idle": "2022-04-18T22:18:58.223327Z",
     "shell.execute_reply": "2022-04-18T22:18:58.222661Z",
     "shell.execute_reply.started": "2022-04-18T22:18:57.700679Z"
    }
   },
   "outputs": [
    {
     "data": {
      "text/plain": [
       "<seaborn.axisgrid.FacetGrid at 0x1a3ddb7d700>"
      ]
     },
     "execution_count": 25,
     "metadata": {},
     "output_type": "execute_result"
    },
    {
     "data": {
      "image/png": "[encoded data removed]",
      "text/plain": [
       "<Figure size 402.375x360 with 1 Axes>"
      ]
     },
     "metadata": {
      "needs_background": "light"
     },
     "output_type": "display_data"
    }
   ],
   "source": [
    "sns.catplot(x=\"Pclass\", y=\"Survived\", hue=\"Sex\", data=train, kind=\"bar\")"
   ]
  },
  {
   "cell_type": "markdown",
   "metadata": {},
   "source": [
    "#### გამოვყოთ წოდებები სახელებიდან"
   ]
  },
  {
   "cell_type": "code",
   "execution_count": 26,
   "metadata": {
    "execution": {
     "iopub.execute_input": "2022-04-18T22:18:58.225147Z",
     "iopub.status.busy": "2022-04-18T22:18:58.224439Z",
     "iopub.status.idle": "2022-04-18T22:18:58.235504Z",
     "shell.execute_reply": "2022-04-18T22:18:58.234766Z",
     "shell.execute_reply.started": "2022-04-18T22:18:58.2251Z"
    }
   },
   "outputs": [
    {
     "data": {
      "text/plain": [
       "0      Mr\n",
       "1     Mrs\n",
       "2    Miss\n",
       "3     Mrs\n",
       "4      Mr\n",
       "Name: Title, dtype: object"
      ]
     },
     "execution_count": 26,
     "metadata": {},
     "output_type": "execute_result"
    }
   ],
   "source": [
    "train[\"Title\"] = [i.split(\",\")[1].split(\".\")[0].strip() for i in train[\"Name\"]]\n",
    "train[\"Title\"].head()"
   ]
  },
  {
   "cell_type": "code",
   "execution_count": 27,
   "metadata": {
    "execution": {
     "iopub.execute_input": "2022-04-18T22:18:58.236947Z",
     "iopub.status.busy": "2022-04-18T22:18:58.236723Z",
     "iopub.status.idle": "2022-04-18T22:18:58.552876Z",
     "shell.execute_reply": "2022-04-18T22:18:58.551944Z",
     "shell.execute_reply.started": "2022-04-18T22:18:58.236921Z"
    }
   },
   "outputs": [
    {
     "data": {
      "text/plain": [
       "<AxesSubplot:xlabel='Title', ylabel='count'>"
      ]
     },
     "execution_count": 27,
     "metadata": {},
     "output_type": "execute_result"
    },
    {
     "data": {
      "image/png": "[encoded data removed]",
      "text/plain": [
       "<Figure size 432x288 with 1 Axes>"
      ]
     },
     "metadata": {},
     "output_type": "display_data"
    }
   ],
   "source": [
    "sns.set_theme(style=\"darkgrid\")\n",
    "sns.countplot(x=\"Title\",data=train)"
   ]
  },
  {
   "cell_type": "markdown",
   "metadata": {},
   "source": [
    "#### გამოვყოთ Master სხვა ძირითადი წოდებებისგან"
   ]
  },
  {
   "cell_type": "code",
   "execution_count": 28,
   "metadata": {
    "execution": {
     "iopub.execute_input": "2022-04-18T22:18:58.557026Z",
     "iopub.status.busy": "2022-04-18T22:18:58.556398Z",
     "iopub.status.idle": "2022-04-18T22:18:58.569024Z",
     "shell.execute_reply": "2022-04-18T22:18:58.568061Z",
     "shell.execute_reply.started": "2022-04-18T22:18:58.556975Z"
    }
   },
   "outputs": [],
   "source": [
    "train[\"Title\"] = train[\"Title\"].replace(['Lady', 'the Countess','Countess','Capt', 'Col','Don', 'Dr', 'Major', 'Rev', 'Sir', 'Jonkheer', 'Dona'], 'Rare')\n",
    "train[\"Title\"] = train[\"Title\"].map({\"Master\":0, \"Miss\":1, \"Ms\" : 1 , \"Mme\":1, \"Mlle\":1, \"Mrs\":1, \"Mr\":2, \"Rare\":3})\n",
    "train[\"Title\"] = train[\"Title\"].astype(int)"
   ]
  },
  {
   "cell_type": "code",
   "execution_count": 29,
   "metadata": {
    "execution": {
     "iopub.execute_input": "2022-04-18T22:18:58.570644Z",
     "iopub.status.busy": "2022-04-18T22:18:58.570136Z",
     "iopub.status.idle": "2022-04-18T22:18:58.774622Z",
     "shell.execute_reply": "2022-04-18T22:18:58.773749Z",
     "shell.execute_reply.started": "2022-04-18T22:18:58.570611Z"
    }
   },
   "outputs": [
    {
     "data": {
      "image/png": "[encoded data removed]",
      "text/plain": [
       "<Figure size 432x288 with 1 Axes>"
      ]
     },
     "metadata": {},
     "output_type": "display_data"
    }
   ],
   "source": [
    "g = sns.countplot(x=\"Title\", data=train)\n",
    "g = g.set_xticklabels([\"Master\",\"Miss/Ms/Mme/Mlle/Mrs\",\"Mr\",\"Rare\"])\n"
   ]
  },
  {
   "cell_type": "code",
   "execution_count": 30,
   "metadata": {
    "execution": {
     "iopub.execute_input": "2022-04-18T22:18:58.776248Z",
     "iopub.status.busy": "2022-04-18T22:18:58.775949Z",
     "iopub.status.idle": "2022-04-18T22:18:59.309588Z",
     "shell.execute_reply": "2022-04-18T22:18:59.308718Z",
     "shell.execute_reply.started": "2022-04-18T22:18:58.776203Z"
    }
   },
   "outputs": [
    {
     "data": {
      "text/plain": [
       "<AxesSubplot:xlabel='Family size', ylabel='Survived'>"
      ]
     },
     "execution_count": 30,
     "metadata": {},
     "output_type": "execute_result"
    },
    {
     "data": {
      "image/png": "[encoded data removed]",
      "text/plain": [
       "<Figure size 432x288 with 1 Axes>"
      ]
     },
     "metadata": {},
     "output_type": "display_data"
    }
   ],
   "source": [
    "sns.pointplot(x=\"Family size\",y=\"Survived\",data = train)"
   ]
  },
  {
   "cell_type": "markdown",
   "metadata": {},
   "source": [
    "#### ოჯახის წევრთა რაოდენობა დიდ როლს თამაშობს გადარჩენაში. ამიტომ შეგვიძლია ამისთვის ქვეკატეგორიები შევქმნათ"
   ]
  },
  {
   "cell_type": "code",
   "execution_count": 31,
   "metadata": {
    "execution": {
     "iopub.execute_input": "2022-04-18T22:18:59.310897Z",
     "iopub.status.busy": "2022-04-18T22:18:59.310674Z",
     "iopub.status.idle": "2022-04-18T22:18:59.323299Z",
     "shell.execute_reply": "2022-04-18T22:18:59.322681Z",
     "shell.execute_reply.started": "2022-04-18T22:18:59.310871Z"
    }
   },
   "outputs": [],
   "source": [
    "train['Single'] = train['Family size'].map(lambda s: 1 if s == 1 else 0)\n",
    "train['SmallF'] = train['Family size'].map(lambda s: 1 if  s == 2  else 0)\n",
    "train['MedF'] = train['Family size'].map(lambda s: 1 if 3 <= s <= 4 else 0)\n",
    "train['LargeF'] = train['Family size'].map(lambda s: 1 if s >= 5 else 0)"
   ]
  },
  {
   "cell_type": "code",
   "execution_count": 32,
   "metadata": {
    "execution": {
     "iopub.execute_input": "2022-04-18T22:18:59.325211Z",
     "iopub.status.busy": "2022-04-18T22:18:59.324543Z",
     "iopub.status.idle": "2022-04-18T22:19:00.769932Z",
     "shell.execute_reply": "2022-04-18T22:19:00.769273Z",
     "shell.execute_reply.started": "2022-04-18T22:18:59.325137Z"
    }
   },
   "outputs": [
    {
     "data": {
      "text/plain": [
       "<seaborn.axisgrid.FacetGrid at 0x1a3ddb7d490>"
      ]
     },
     "execution_count": 32,
     "metadata": {},
     "output_type": "execute_result"
    },
    {
     "data": {
      "image/png": "[encoded data removed]",
      "text/plain": [
       "<Figure size 360x360 with 1 Axes>"
      ]
     },
     "metadata": {},
     "output_type": "display_data"
    },
    {
     "data": {
      "image/png": "[encoded data removed]",
      "text/plain": [
       "<Figure size 360x360 with 1 Axes>"
      ]
     },
     "metadata": {},
     "output_type": "display_data"
    },
    {
     "data": {
      "image/png": "[encoded data removed]",
      "text/plain": [
       "<Figure size 360x360 with 1 Axes>"
      ]
     },
     "metadata": {},
     "output_type": "display_data"
    },
    {
     "data": {
      "image/png": "[encoded data removed]",
      "text/plain": [
       "<Figure size 360x360 with 1 Axes>"
      ]
     },
     "metadata": {},
     "output_type": "display_data"
    }
   ],
   "source": [
    "sns.catplot(x=\"Single\",y=\"Survived\",data=train,kind=\"bar\")\n",
    "sns.catplot(x=\"SmallF\",y=\"Survived\",data=train,kind=\"bar\")\n",
    "sns.catplot(x=\"MedF\",y=\"Survived\",data=train,kind=\"bar\")\n",
    "sns.catplot(x=\"LargeF\",y=\"Survived\",data=train,kind=\"bar\")"
   ]
  },
  {
   "cell_type": "code",
   "execution_count": 33,
   "metadata": {
    "execution": {
     "iopub.execute_input": "2022-04-18T22:19:00.771893Z",
     "iopub.status.busy": "2022-04-18T22:19:00.770941Z",
     "iopub.status.idle": "2022-04-18T22:19:00.784494Z",
     "shell.execute_reply": "2022-04-18T22:19:00.783496Z",
     "shell.execute_reply.started": "2022-04-18T22:19:00.771852Z"
    }
   },
   "outputs": [],
   "source": [
    "train = pd.get_dummies(train, columns = [\"Title\"])\n",
    "train = pd.get_dummies(train, columns = [\"Embarked\"], prefix=\"Em\")"
   ]
  },
  {
   "cell_type": "code",
   "execution_count": 34,
   "metadata": {
    "execution": {
     "iopub.execute_input": "2022-04-18T22:19:00.78635Z",
     "iopub.status.busy": "2022-04-18T22:19:00.785997Z",
     "iopub.status.idle": "2022-04-18T22:19:00.79615Z",
     "shell.execute_reply": "2022-04-18T22:19:00.795511Z",
     "shell.execute_reply.started": "2022-04-18T22:19:00.786307Z"
    }
   },
   "outputs": [
    {
     "data": {
      "text/plain": [
       "Index(['Survived', 'Pclass', 'Name', 'Sex', 'Age', 'SibSp', 'Parch', 'Fare',\n",
       "       'Family size', 'Single', 'SmallF', 'MedF', 'LargeF', 'Title_0',\n",
       "       'Title_1', 'Title_2', 'Title_3', 'Em_0', 'Em_1', 'Em_2'],\n",
       "      dtype='object')"
      ]
     },
     "execution_count": 34,
     "metadata": {},
     "output_type": "execute_result"
    }
   ],
   "source": [
    "train.columns"
   ]
  },
  {
   "cell_type": "markdown",
   "metadata": {},
   "source": [
    "#### Modeling"
   ]
  },
  {
   "cell_type": "code",
   "execution_count": 35,
   "metadata": {
    "execution": {
     "iopub.execute_input": "2022-04-18T22:19:00.822892Z",
     "iopub.status.busy": "2022-04-18T22:19:00.822456Z",
     "iopub.status.idle": "2022-04-18T22:19:00.828716Z",
     "shell.execute_reply": "2022-04-18T22:19:00.827928Z",
     "shell.execute_reply.started": "2022-04-18T22:19:00.82286Z"
    }
   },
   "outputs": [],
   "source": [
    "train = train.drop(columns = 'Name',axis = 1)"
   ]
  },
  {
   "cell_type": "code",
   "execution_count": 36,
   "metadata": {},
   "outputs": [
    {
     "data": {
      "text/html": [
       "<div>\n",
       "<style scoped>\n",
       "    .dataframe tbody tr th:only-of-type {\n",
       "        vertical-align: middle;\n",
       "    }\n",
       "\n",
       "    .dataframe tbody tr th {\n",
       "        vertical-align: top;\n",
       "    }\n",
       "\n",
       "    .dataframe thead th {\n",
       "        text-align: right;\n",
       "    }\n",
       "</style>\n",
       "<table border=\"1\" class=\"dataframe\">\n",
       "  <thead>\n",
       "    <tr style=\"text-align: right;\">\n",
       "      <th></th>\n",
       "      <th>Survived</th>\n",
       "      <th>Pclass</th>\n",
       "      <th>Sex</th>\n",
       "      <th>Age</th>\n",
       "      <th>SibSp</th>\n",
       "      <th>Parch</th>\n",
       "      <th>Fare</th>\n",
       "      <th>Family size</th>\n",
       "      <th>Single</th>\n",
       "      <th>SmallF</th>\n",
       "      <th>MedF</th>\n",
       "      <th>LargeF</th>\n",
       "      <th>Title_0</th>\n",
       "      <th>Title_1</th>\n",
       "      <th>Title_2</th>\n",
       "      <th>Title_3</th>\n",
       "      <th>Em_0</th>\n",
       "      <th>Em_1</th>\n",
       "      <th>Em_2</th>\n",
       "    </tr>\n",
       "  </thead>\n",
       "  <tbody>\n",
       "    <tr>\n",
       "      <th>0</th>\n",
       "      <td>0.0</td>\n",
       "      <td>3</td>\n",
       "      <td>0</td>\n",
       "      <td>22.0</td>\n",
       "      <td>1</td>\n",
       "      <td>0</td>\n",
       "      <td>1.981001</td>\n",
       "      <td>2</td>\n",
       "      <td>0</td>\n",
       "      <td>1</td>\n",
       "      <td>0</td>\n",
       "      <td>0</td>\n",
       "      <td>0</td>\n",
       "      <td>0</td>\n",
       "      <td>1</td>\n",
       "      <td>0</td>\n",
       "      <td>1</td>\n",
       "      <td>0</td>\n",
       "      <td>0</td>\n",
       "    </tr>\n",
       "    <tr>\n",
       "      <th>1</th>\n",
       "      <td>1.0</td>\n",
       "      <td>1</td>\n",
       "      <td>1</td>\n",
       "      <td>38.0</td>\n",
       "      <td>1</td>\n",
       "      <td>0</td>\n",
       "      <td>4.266662</td>\n",
       "      <td>2</td>\n",
       "      <td>0</td>\n",
       "      <td>1</td>\n",
       "      <td>0</td>\n",
       "      <td>0</td>\n",
       "      <td>0</td>\n",
       "      <td>1</td>\n",
       "      <td>0</td>\n",
       "      <td>0</td>\n",
       "      <td>0</td>\n",
       "      <td>1</td>\n",
       "      <td>0</td>\n",
       "    </tr>\n",
       "    <tr>\n",
       "      <th>2</th>\n",
       "      <td>1.0</td>\n",
       "      <td>3</td>\n",
       "      <td>1</td>\n",
       "      <td>26.0</td>\n",
       "      <td>0</td>\n",
       "      <td>0</td>\n",
       "      <td>2.070022</td>\n",
       "      <td>1</td>\n",
       "      <td>1</td>\n",
       "      <td>0</td>\n",
       "      <td>0</td>\n",
       "      <td>0</td>\n",
       "      <td>0</td>\n",
       "      <td>1</td>\n",
       "      <td>0</td>\n",
       "      <td>0</td>\n",
       "      <td>1</td>\n",
       "      <td>0</td>\n",
       "      <td>0</td>\n",
       "    </tr>\n",
       "    <tr>\n",
       "      <th>3</th>\n",
       "      <td>1.0</td>\n",
       "      <td>1</td>\n",
       "      <td>1</td>\n",
       "      <td>35.0</td>\n",
       "      <td>1</td>\n",
       "      <td>0</td>\n",
       "      <td>3.972177</td>\n",
       "      <td>2</td>\n",
       "      <td>0</td>\n",
       "      <td>1</td>\n",
       "      <td>0</td>\n",
       "      <td>0</td>\n",
       "      <td>0</td>\n",
       "      <td>1</td>\n",
       "      <td>0</td>\n",
       "      <td>0</td>\n",
       "      <td>1</td>\n",
       "      <td>0</td>\n",
       "      <td>0</td>\n",
       "    </tr>\n",
       "    <tr>\n",
       "      <th>4</th>\n",
       "      <td>0.0</td>\n",
       "      <td>3</td>\n",
       "      <td>0</td>\n",
       "      <td>35.0</td>\n",
       "      <td>0</td>\n",
       "      <td>0</td>\n",
       "      <td>2.085672</td>\n",
       "      <td>1</td>\n",
       "      <td>1</td>\n",
       "      <td>0</td>\n",
       "      <td>0</td>\n",
       "      <td>0</td>\n",
       "      <td>0</td>\n",
       "      <td>0</td>\n",
       "      <td>1</td>\n",
       "      <td>0</td>\n",
       "      <td>1</td>\n",
       "      <td>0</td>\n",
       "      <td>0</td>\n",
       "    </tr>\n",
       "  </tbody>\n",
       "</table>\n",
       "</div>"
      ],
      "text/plain": [
       "   Survived  Pclass  Sex   Age  SibSp  Parch      Fare  Family size  Single  \\\n",
       "0       0.0       3    0  22.0      1      0  1.981001            2       0   \n",
       "1       1.0       1    1  38.0      1      0  4.266662            2       0   \n",
       "2       1.0       3    1  26.0      0      0  2.070022            1       1   \n",
       "3       1.0       1    1  35.0      1      0  3.972177            2       0   \n",
       "4       0.0       3    0  35.0      0      0  2.085672            1       1   \n",
       "\n",
       "   SmallF  MedF  LargeF  Title_0  Title_1  Title_2  Title_3  Em_0  Em_1  Em_2  \n",
       "0       1     0       0        0        0        1        0     1     0     0  \n",
       "1       1     0       0        0        1        0        0     0     1     0  \n",
       "2       0     0       0        0        1        0        0     1     0     0  \n",
       "3       1     0       0        0        1        0        0     1     0     0  \n",
       "4       0     0       0        0        0        1        0     1     0     0  "
      ]
     },
     "execution_count": 36,
     "metadata": {},
     "output_type": "execute_result"
    }
   ],
   "source": [
    "train.head()"
   ]
  },
  {
   "cell_type": "code",
   "execution_count": 37,
   "metadata": {},
   "outputs": [
    {
     "name": "stdout",
     "output_type": "stream",
     "text": [
      "<class 'pandas.core.frame.DataFrame'>\n",
      "RangeIndex: 1309 entries, 0 to 1308\n",
      "Data columns (total 19 columns):\n",
      " #   Column       Non-Null Count  Dtype  \n",
      "---  ------       --------------  -----  \n",
      " 0   Survived     891 non-null    float64\n",
      " 1   Pclass       1309 non-null   int64  \n",
      " 2   Sex          1309 non-null   int64  \n",
      " 3   Age          1309 non-null   float64\n",
      " 4   SibSp        1309 non-null   int64  \n",
      " 5   Parch        1309 non-null   int64  \n",
      " 6   Fare         1309 non-null   float64\n",
      " 7   Family size  1309 non-null   int64  \n",
      " 8   Single       1309 non-null   int64  \n",
      " 9   SmallF       1309 non-null   int64  \n",
      " 10  MedF         1309 non-null   int64  \n",
      " 11  LargeF       1309 non-null   int64  \n",
      " 12  Title_0      1309 non-null   uint8  \n",
      " 13  Title_1      1309 non-null   uint8  \n",
      " 14  Title_2      1309 non-null   uint8  \n",
      " 15  Title_3      1309 non-null   uint8  \n",
      " 16  Em_0         1309 non-null   uint8  \n",
      " 17  Em_1         1309 non-null   uint8  \n",
      " 18  Em_2         1309 non-null   uint8  \n",
      "dtypes: float64(3), int64(9), uint8(7)\n",
      "memory usage: 131.8 KB\n"
     ]
    }
   ],
   "source": [
    "train.info()"
   ]
  },
  {
   "cell_type": "code",
   "execution_count": 38,
   "metadata": {},
   "outputs": [],
   "source": [
    "train['Survived'] = train['Survived'].fillna(0)"
   ]
  },
  {
   "cell_type": "code",
   "execution_count": 39,
   "metadata": {},
   "outputs": [
    {
     "name": "stdout",
     "output_type": "stream",
     "text": [
      "<class 'pandas.core.frame.DataFrame'>\n",
      "RangeIndex: 1309 entries, 0 to 1308\n",
      "Data columns (total 19 columns):\n",
      " #   Column       Non-Null Count  Dtype  \n",
      "---  ------       --------------  -----  \n",
      " 0   Survived     1309 non-null   float64\n",
      " 1   Pclass       1309 non-null   int64  \n",
      " 2   Sex          1309 non-null   int64  \n",
      " 3   Age          1309 non-null   float64\n",
      " 4   SibSp        1309 non-null   int64  \n",
      " 5   Parch        1309 non-null   int64  \n",
      " 6   Fare         1309 non-null   float64\n",
      " 7   Family size  1309 non-null   int64  \n",
      " 8   Single       1309 non-null   int64  \n",
      " 9   SmallF       1309 non-null   int64  \n",
      " 10  MedF         1309 non-null   int64  \n",
      " 11  LargeF       1309 non-null   int64  \n",
      " 12  Title_0      1309 non-null   uint8  \n",
      " 13  Title_1      1309 non-null   uint8  \n",
      " 14  Title_2      1309 non-null   uint8  \n",
      " 15  Title_3      1309 non-null   uint8  \n",
      " 16  Em_0         1309 non-null   uint8  \n",
      " 17  Em_1         1309 non-null   uint8  \n",
      " 18  Em_2         1309 non-null   uint8  \n",
      "dtypes: float64(3), int64(9), uint8(7)\n",
      "memory usage: 131.8 KB\n"
     ]
    }
   ],
   "source": [
    "train.info()"
   ]
  },
  {
   "cell_type": "code",
   "execution_count": 40,
   "metadata": {},
   "outputs": [],
   "source": [
    "# train = pd.read_csv('titanic_train_data.csv', sep = ';')\n",
    "# test = pd.read_csv('titanic_test_data.csv', sep = ';')"
   ]
  },
  {
   "cell_type": "code",
   "execution_count": 41,
   "metadata": {},
   "outputs": [],
   "source": [
    "# train.info()\n",
    "# print(\"_\"*40)\n",
    "# test.info()"
   ]
  },
  {
   "cell_type": "code",
   "execution_count": 42,
   "metadata": {},
   "outputs": [
    {
     "data": {
      "text/html": [
       "<div>\n",
       "<style scoped>\n",
       "    .dataframe tbody tr th:only-of-type {\n",
       "        vertical-align: middle;\n",
       "    }\n",
       "\n",
       "    .dataframe tbody tr th {\n",
       "        vertical-align: top;\n",
       "    }\n",
       "\n",
       "    .dataframe thead th {\n",
       "        text-align: right;\n",
       "    }\n",
       "</style>\n",
       "<table border=\"1\" class=\"dataframe\">\n",
       "  <thead>\n",
       "    <tr style=\"text-align: right;\">\n",
       "      <th></th>\n",
       "      <th>Survived</th>\n",
       "      <th>Pclass</th>\n",
       "      <th>Sex</th>\n",
       "      <th>Age</th>\n",
       "      <th>SibSp</th>\n",
       "      <th>Parch</th>\n",
       "      <th>Fare</th>\n",
       "      <th>Family size</th>\n",
       "      <th>Single</th>\n",
       "      <th>SmallF</th>\n",
       "      <th>MedF</th>\n",
       "      <th>LargeF</th>\n",
       "      <th>Title_0</th>\n",
       "      <th>Title_1</th>\n",
       "      <th>Title_2</th>\n",
       "      <th>Title_3</th>\n",
       "      <th>Em_0</th>\n",
       "      <th>Em_1</th>\n",
       "      <th>Em_2</th>\n",
       "    </tr>\n",
       "  </thead>\n",
       "  <tbody>\n",
       "    <tr>\n",
       "      <th>1304</th>\n",
       "      <td>0.0</td>\n",
       "      <td>3</td>\n",
       "      <td>0</td>\n",
       "      <td>29.881138</td>\n",
       "      <td>0</td>\n",
       "      <td>0</td>\n",
       "      <td>2.085672</td>\n",
       "      <td>1</td>\n",
       "      <td>1</td>\n",
       "      <td>0</td>\n",
       "      <td>0</td>\n",
       "      <td>0</td>\n",
       "      <td>0</td>\n",
       "      <td>0</td>\n",
       "      <td>1</td>\n",
       "      <td>0</td>\n",
       "      <td>1</td>\n",
       "      <td>0</td>\n",
       "      <td>0</td>\n",
       "    </tr>\n",
       "    <tr>\n",
       "      <th>1305</th>\n",
       "      <td>0.0</td>\n",
       "      <td>1</td>\n",
       "      <td>1</td>\n",
       "      <td>39.000000</td>\n",
       "      <td>0</td>\n",
       "      <td>0</td>\n",
       "      <td>4.690430</td>\n",
       "      <td>1</td>\n",
       "      <td>1</td>\n",
       "      <td>0</td>\n",
       "      <td>0</td>\n",
       "      <td>0</td>\n",
       "      <td>0</td>\n",
       "      <td>0</td>\n",
       "      <td>0</td>\n",
       "      <td>1</td>\n",
       "      <td>0</td>\n",
       "      <td>1</td>\n",
       "      <td>0</td>\n",
       "    </tr>\n",
       "    <tr>\n",
       "      <th>1306</th>\n",
       "      <td>0.0</td>\n",
       "      <td>3</td>\n",
       "      <td>0</td>\n",
       "      <td>38.500000</td>\n",
       "      <td>0</td>\n",
       "      <td>0</td>\n",
       "      <td>1.981001</td>\n",
       "      <td>1</td>\n",
       "      <td>1</td>\n",
       "      <td>0</td>\n",
       "      <td>0</td>\n",
       "      <td>0</td>\n",
       "      <td>0</td>\n",
       "      <td>0</td>\n",
       "      <td>1</td>\n",
       "      <td>0</td>\n",
       "      <td>1</td>\n",
       "      <td>0</td>\n",
       "      <td>0</td>\n",
       "    </tr>\n",
       "    <tr>\n",
       "      <th>1307</th>\n",
       "      <td>0.0</td>\n",
       "      <td>3</td>\n",
       "      <td>0</td>\n",
       "      <td>29.881138</td>\n",
       "      <td>0</td>\n",
       "      <td>0</td>\n",
       "      <td>2.085672</td>\n",
       "      <td>1</td>\n",
       "      <td>1</td>\n",
       "      <td>0</td>\n",
       "      <td>0</td>\n",
       "      <td>0</td>\n",
       "      <td>0</td>\n",
       "      <td>0</td>\n",
       "      <td>1</td>\n",
       "      <td>0</td>\n",
       "      <td>1</td>\n",
       "      <td>0</td>\n",
       "      <td>0</td>\n",
       "    </tr>\n",
       "    <tr>\n",
       "      <th>1308</th>\n",
       "      <td>0.0</td>\n",
       "      <td>3</td>\n",
       "      <td>0</td>\n",
       "      <td>29.881138</td>\n",
       "      <td>1</td>\n",
       "      <td>1</td>\n",
       "      <td>3.107198</td>\n",
       "      <td>3</td>\n",
       "      <td>0</td>\n",
       "      <td>0</td>\n",
       "      <td>1</td>\n",
       "      <td>0</td>\n",
       "      <td>1</td>\n",
       "      <td>0</td>\n",
       "      <td>0</td>\n",
       "      <td>0</td>\n",
       "      <td>0</td>\n",
       "      <td>1</td>\n",
       "      <td>0</td>\n",
       "    </tr>\n",
       "  </tbody>\n",
       "</table>\n",
       "</div>"
      ],
      "text/plain": [
       "      Survived  Pclass  Sex        Age  SibSp  Parch      Fare  Family size  \\\n",
       "1304       0.0       3    0  29.881138      0      0  2.085672            1   \n",
       "1305       0.0       1    1  39.000000      0      0  4.690430            1   \n",
       "1306       0.0       3    0  38.500000      0      0  1.981001            1   \n",
       "1307       0.0       3    0  29.881138      0      0  2.085672            1   \n",
       "1308       0.0       3    0  29.881138      1      1  3.107198            3   \n",
       "\n",
       "      Single  SmallF  MedF  LargeF  Title_0  Title_1  Title_2  Title_3  Em_0  \\\n",
       "1304       1       0     0       0        0        0        1        0     1   \n",
       "1305       1       0     0       0        0        0        0        1     0   \n",
       "1306       1       0     0       0        0        0        1        0     1   \n",
       "1307       1       0     0       0        0        0        1        0     1   \n",
       "1308       0       0     1       0        1        0        0        0     0   \n",
       "\n",
       "      Em_1  Em_2  \n",
       "1304     0     0  \n",
       "1305     1     0  \n",
       "1306     0     0  \n",
       "1307     0     0  \n",
       "1308     1     0  "
      ]
     },
     "execution_count": 42,
     "metadata": {},
     "output_type": "execute_result"
    }
   ],
   "source": [
    "train.tail()"
   ]
  },
  {
   "cell_type": "code",
   "execution_count": 43,
   "metadata": {},
   "outputs": [
    {
     "name": "stdout",
     "output_type": "stream",
     "text": [
      "   Survived  Pclass  Sex   Age  SibSp  Parch      Fare  Family size  Single  \\\n",
      "0       0.0       3    0  22.0      1      0  1.981001            2       0   \n",
      "1       1.0       1    1  38.0      1      0  4.266662            2       0   \n",
      "2       1.0       3    1  26.0      0      0  2.070022            1       1   \n",
      "3       1.0       1    1  35.0      1      0  3.972177            2       0   \n",
      "4       0.0       3    0  35.0      0      0  2.085672            1       1   \n",
      "\n",
      "   SmallF  MedF  LargeF  Title_0  Title_1  Title_2  Title_3  Em_0  Em_1  Em_2  \n",
      "0       1     0       0        0        0        1        0     1     0     0  \n",
      "1       1     0       0        0        1        0        0     0     1     0  \n",
      "2       0     0       0        0        1        0        0     1     0     0  \n",
      "3       1     0       0        0        1        0        0     1     0     0  \n",
      "4       0     0       0        0        0        1        0     1     0     0  \n",
      "     Survived  Pclass  Sex   Age  SibSp  Parch      Fare  Family size  Single  \\\n",
      "891       0.0       3    0  34.5      0      0  2.057860            1       1   \n",
      "892       0.0       3    1  47.0      1      0  1.945910            2       0   \n",
      "893       0.0       2    0  62.0      0      0  2.270836            1       1   \n",
      "894       0.0       3    0  27.0      0      0  2.159003            1       1   \n",
      "895       0.0       3    1  22.0      1      1  2.508582            3       0   \n",
      "\n",
      "     SmallF  MedF  LargeF  Title_0  Title_1  Title_2  Title_3  Em_0  Em_1  \\\n",
      "891       0     0       0        0        0        1        0     0     0   \n",
      "892       1     0       0        0        1        0        0     1     0   \n",
      "893       0     0       0        0        0        1        0     0     0   \n",
      "894       0     0       0        0        0        1        0     1     0   \n",
      "895       0     1       0        0        1        0        0     1     0   \n",
      "\n",
      "     Em_2  \n",
      "891     1  \n",
      "892     0  \n",
      "893     1  \n",
      "894     0  \n",
      "895     0  \n"
     ]
    }
   ],
   "source": [
    "leng = len(train_data)\n",
    "trains = train.iloc[:leng,:]\n",
    "print(trains.head())\n",
    "tests = train.iloc[leng:,:]\n",
    "print(tests.head())"
   ]
  },
  {
   "cell_type": "code",
   "execution_count": 44,
   "metadata": {},
   "outputs": [
    {
     "name": "stderr",
     "output_type": "stream",
     "text": [
      "D:\\Anaconda\\lib\\site-packages\\pandas\\core\\frame.py:4906: SettingWithCopyWarning: \n",
      "A value is trying to be set on a copy of a slice from a DataFrame\n",
      "\n",
      "See the caveats in the documentation: https://pandas.pydata.org/pandas-docs/stable/user_guide/indexing.html#returning-a-view-versus-a-copy\n",
      "  return super().drop(\n"
     ]
    }
   ],
   "source": [
    "tests.drop(labels=[\"Survived\"],axis = 1,inplace=True)"
   ]
  },
  {
   "cell_type": "code",
   "execution_count": null,
   "metadata": {},
   "outputs": [],
   "source": []
  },
  {
   "cell_type": "code",
   "execution_count": null,
   "metadata": {},
   "outputs": [],
   "source": []
  },
  {
   "cell_type": "code",
   "execution_count": null,
   "metadata": {},
   "outputs": [],
   "source": []
  },
  {
   "cell_type": "code",
   "execution_count": 45,
   "metadata": {
    "execution": {
     "iopub.execute_input": "2022-04-18T22:19:00.854431Z",
     "iopub.status.busy": "2022-04-18T22:19:00.854127Z",
     "iopub.status.idle": "2022-04-18T22:19:00.870754Z",
     "shell.execute_reply": "2022-04-18T22:19:00.869948Z",
     "shell.execute_reply.started": "2022-04-18T22:19:00.854385Z"
    }
   },
   "outputs": [],
   "source": [
    "# leng = len(train_data)\n",
    "# train = train.iloc[:leng,:]\n",
    "# print(train.head())\n",
    "# test = train.iloc[leng:,:]\n",
    "# print(test.head())\n",
    "\n",
    "#tests.drop(labels=[\"Survived\"],axis = 1,inplace=True)"
   ]
  },
  {
   "cell_type": "code",
   "execution_count": 46,
   "metadata": {
    "execution": {
     "iopub.execute_input": "2022-04-18T22:19:00.872448Z",
     "iopub.status.busy": "2022-04-18T22:19:00.872231Z",
     "iopub.status.idle": "2022-04-18T22:19:00.884991Z",
     "shell.execute_reply": "2022-04-18T22:19:00.883955Z",
     "shell.execute_reply.started": "2022-04-18T22:19:00.872422Z"
    }
   },
   "outputs": [
    {
     "data": {
      "text/html": [
       "<div>\n",
       "<style scoped>\n",
       "    .dataframe tbody tr th:only-of-type {\n",
       "        vertical-align: middle;\n",
       "    }\n",
       "\n",
       "    .dataframe tbody tr th {\n",
       "        vertical-align: top;\n",
       "    }\n",
       "\n",
       "    .dataframe thead th {\n",
       "        text-align: right;\n",
       "    }\n",
       "</style>\n",
       "<table border=\"1\" class=\"dataframe\">\n",
       "  <thead>\n",
       "    <tr style=\"text-align: right;\">\n",
       "      <th></th>\n",
       "      <th>Pclass</th>\n",
       "      <th>Sex</th>\n",
       "      <th>Age</th>\n",
       "      <th>SibSp</th>\n",
       "      <th>Parch</th>\n",
       "      <th>Fare</th>\n",
       "      <th>Family size</th>\n",
       "      <th>Single</th>\n",
       "      <th>SmallF</th>\n",
       "      <th>MedF</th>\n",
       "      <th>LargeF</th>\n",
       "      <th>Title_0</th>\n",
       "      <th>Title_1</th>\n",
       "      <th>Title_2</th>\n",
       "      <th>Title_3</th>\n",
       "      <th>Em_0</th>\n",
       "      <th>Em_1</th>\n",
       "      <th>Em_2</th>\n",
       "    </tr>\n",
       "  </thead>\n",
       "  <tbody>\n",
       "    <tr>\n",
       "      <th>891</th>\n",
       "      <td>3</td>\n",
       "      <td>0</td>\n",
       "      <td>34.5</td>\n",
       "      <td>0</td>\n",
       "      <td>0</td>\n",
       "      <td>2.057860</td>\n",
       "      <td>1</td>\n",
       "      <td>1</td>\n",
       "      <td>0</td>\n",
       "      <td>0</td>\n",
       "      <td>0</td>\n",
       "      <td>0</td>\n",
       "      <td>0</td>\n",
       "      <td>1</td>\n",
       "      <td>0</td>\n",
       "      <td>0</td>\n",
       "      <td>0</td>\n",
       "      <td>1</td>\n",
       "    </tr>\n",
       "    <tr>\n",
       "      <th>892</th>\n",
       "      <td>3</td>\n",
       "      <td>1</td>\n",
       "      <td>47.0</td>\n",
       "      <td>1</td>\n",
       "      <td>0</td>\n",
       "      <td>1.945910</td>\n",
       "      <td>2</td>\n",
       "      <td>0</td>\n",
       "      <td>1</td>\n",
       "      <td>0</td>\n",
       "      <td>0</td>\n",
       "      <td>0</td>\n",
       "      <td>1</td>\n",
       "      <td>0</td>\n",
       "      <td>0</td>\n",
       "      <td>1</td>\n",
       "      <td>0</td>\n",
       "      <td>0</td>\n",
       "    </tr>\n",
       "    <tr>\n",
       "      <th>893</th>\n",
       "      <td>2</td>\n",
       "      <td>0</td>\n",
       "      <td>62.0</td>\n",
       "      <td>0</td>\n",
       "      <td>0</td>\n",
       "      <td>2.270836</td>\n",
       "      <td>1</td>\n",
       "      <td>1</td>\n",
       "      <td>0</td>\n",
       "      <td>0</td>\n",
       "      <td>0</td>\n",
       "      <td>0</td>\n",
       "      <td>0</td>\n",
       "      <td>1</td>\n",
       "      <td>0</td>\n",
       "      <td>0</td>\n",
       "      <td>0</td>\n",
       "      <td>1</td>\n",
       "    </tr>\n",
       "    <tr>\n",
       "      <th>894</th>\n",
       "      <td>3</td>\n",
       "      <td>0</td>\n",
       "      <td>27.0</td>\n",
       "      <td>0</td>\n",
       "      <td>0</td>\n",
       "      <td>2.159003</td>\n",
       "      <td>1</td>\n",
       "      <td>1</td>\n",
       "      <td>0</td>\n",
       "      <td>0</td>\n",
       "      <td>0</td>\n",
       "      <td>0</td>\n",
       "      <td>0</td>\n",
       "      <td>1</td>\n",
       "      <td>0</td>\n",
       "      <td>1</td>\n",
       "      <td>0</td>\n",
       "      <td>0</td>\n",
       "    </tr>\n",
       "    <tr>\n",
       "      <th>895</th>\n",
       "      <td>3</td>\n",
       "      <td>1</td>\n",
       "      <td>22.0</td>\n",
       "      <td>1</td>\n",
       "      <td>1</td>\n",
       "      <td>2.508582</td>\n",
       "      <td>3</td>\n",
       "      <td>0</td>\n",
       "      <td>0</td>\n",
       "      <td>1</td>\n",
       "      <td>0</td>\n",
       "      <td>0</td>\n",
       "      <td>1</td>\n",
       "      <td>0</td>\n",
       "      <td>0</td>\n",
       "      <td>1</td>\n",
       "      <td>0</td>\n",
       "      <td>0</td>\n",
       "    </tr>\n",
       "  </tbody>\n",
       "</table>\n",
       "</div>"
      ],
      "text/plain": [
       "     Pclass  Sex   Age  SibSp  Parch      Fare  Family size  Single  SmallF  \\\n",
       "891       3    0  34.5      0      0  2.057860            1       1       0   \n",
       "892       3    1  47.0      1      0  1.945910            2       0       1   \n",
       "893       2    0  62.0      0      0  2.270836            1       1       0   \n",
       "894       3    0  27.0      0      0  2.159003            1       1       0   \n",
       "895       3    1  22.0      1      1  2.508582            3       0       0   \n",
       "\n",
       "     MedF  LargeF  Title_0  Title_1  Title_2  Title_3  Em_0  Em_1  Em_2  \n",
       "891     0       0        0        0        1        0     0     0     1  \n",
       "892     0       0        0        1        0        0     1     0     0  \n",
       "893     0       0        0        0        1        0     0     0     1  \n",
       "894     0       0        0        0        1        0     1     0     0  \n",
       "895     1       0        0        1        0        0     1     0     0  "
      ]
     },
     "execution_count": 46,
     "metadata": {},
     "output_type": "execute_result"
    }
   ],
   "source": [
    "tests.head()"
   ]
  },
  {
   "cell_type": "code",
   "execution_count": 47,
   "metadata": {
    "execution": {
     "iopub.execute_input": "2022-04-18T22:19:00.887147Z",
     "iopub.status.busy": "2022-04-18T22:19:00.886253Z",
     "iopub.status.idle": "2022-04-18T22:19:00.895756Z",
     "shell.execute_reply": "2022-04-18T22:19:00.895074Z",
     "shell.execute_reply.started": "2022-04-18T22:19:00.887104Z"
    }
   },
   "outputs": [
    {
     "name": "stderr",
     "output_type": "stream",
     "text": [
      "C:\\Users\\nikan\\AppData\\Local\\Temp/ipykernel_9968/3393951736.py:1: SettingWithCopyWarning: \n",
      "A value is trying to be set on a copy of a slice from a DataFrame.\n",
      "Try using .loc[row_indexer,col_indexer] = value instead\n",
      "\n",
      "See the caveats in the documentation: https://pandas.pydata.org/pandas-docs/stable/user_guide/indexing.html#returning-a-view-versus-a-copy\n",
      "  trains[\"Survived\"] = trains[\"Survived\"].astype(int)\n"
     ]
    }
   ],
   "source": [
    "trains[\"Survived\"] = trains[\"Survived\"].astype(int)\n",
    "\n",
    "y_train = trains[\"Survived\"]\n",
    "\n",
    "X_train = trains.drop(labels = [\"Survived\"],axis = 1)\n",
    "\n",
    "X_test = tests\n",
    "\n"
   ]
  },
  {
   "cell_type": "code",
   "execution_count": 48,
   "metadata": {
    "execution": {
     "iopub.execute_input": "2022-04-18T22:19:00.897649Z",
     "iopub.status.busy": "2022-04-18T22:19:00.896912Z",
     "iopub.status.idle": "2022-04-18T22:19:00.915912Z",
     "shell.execute_reply": "2022-04-18T22:19:00.915088Z",
     "shell.execute_reply.started": "2022-04-18T22:19:00.897605Z"
    }
   },
   "outputs": [
    {
     "data": {
      "text/html": [
       "<div>\n",
       "<style scoped>\n",
       "    .dataframe tbody tr th:only-of-type {\n",
       "        vertical-align: middle;\n",
       "    }\n",
       "\n",
       "    .dataframe tbody tr th {\n",
       "        vertical-align: top;\n",
       "    }\n",
       "\n",
       "    .dataframe thead th {\n",
       "        text-align: right;\n",
       "    }\n",
       "</style>\n",
       "<table border=\"1\" class=\"dataframe\">\n",
       "  <thead>\n",
       "    <tr style=\"text-align: right;\">\n",
       "      <th></th>\n",
       "      <th>Pclass</th>\n",
       "      <th>Sex</th>\n",
       "      <th>Age</th>\n",
       "      <th>SibSp</th>\n",
       "      <th>Parch</th>\n",
       "      <th>Fare</th>\n",
       "      <th>Family size</th>\n",
       "      <th>Single</th>\n",
       "      <th>SmallF</th>\n",
       "      <th>MedF</th>\n",
       "      <th>LargeF</th>\n",
       "      <th>Title_0</th>\n",
       "      <th>Title_1</th>\n",
       "      <th>Title_2</th>\n",
       "      <th>Title_3</th>\n",
       "      <th>Em_0</th>\n",
       "      <th>Em_1</th>\n",
       "      <th>Em_2</th>\n",
       "    </tr>\n",
       "  </thead>\n",
       "  <tbody>\n",
       "    <tr>\n",
       "      <th>1304</th>\n",
       "      <td>3</td>\n",
       "      <td>0</td>\n",
       "      <td>29.881138</td>\n",
       "      <td>0</td>\n",
       "      <td>0</td>\n",
       "      <td>2.085672</td>\n",
       "      <td>1</td>\n",
       "      <td>1</td>\n",
       "      <td>0</td>\n",
       "      <td>0</td>\n",
       "      <td>0</td>\n",
       "      <td>0</td>\n",
       "      <td>0</td>\n",
       "      <td>1</td>\n",
       "      <td>0</td>\n",
       "      <td>1</td>\n",
       "      <td>0</td>\n",
       "      <td>0</td>\n",
       "    </tr>\n",
       "    <tr>\n",
       "      <th>1305</th>\n",
       "      <td>1</td>\n",
       "      <td>1</td>\n",
       "      <td>39.000000</td>\n",
       "      <td>0</td>\n",
       "      <td>0</td>\n",
       "      <td>4.690430</td>\n",
       "      <td>1</td>\n",
       "      <td>1</td>\n",
       "      <td>0</td>\n",
       "      <td>0</td>\n",
       "      <td>0</td>\n",
       "      <td>0</td>\n",
       "      <td>0</td>\n",
       "      <td>0</td>\n",
       "      <td>1</td>\n",
       "      <td>0</td>\n",
       "      <td>1</td>\n",
       "      <td>0</td>\n",
       "    </tr>\n",
       "    <tr>\n",
       "      <th>1306</th>\n",
       "      <td>3</td>\n",
       "      <td>0</td>\n",
       "      <td>38.500000</td>\n",
       "      <td>0</td>\n",
       "      <td>0</td>\n",
       "      <td>1.981001</td>\n",
       "      <td>1</td>\n",
       "      <td>1</td>\n",
       "      <td>0</td>\n",
       "      <td>0</td>\n",
       "      <td>0</td>\n",
       "      <td>0</td>\n",
       "      <td>0</td>\n",
       "      <td>1</td>\n",
       "      <td>0</td>\n",
       "      <td>1</td>\n",
       "      <td>0</td>\n",
       "      <td>0</td>\n",
       "    </tr>\n",
       "    <tr>\n",
       "      <th>1307</th>\n",
       "      <td>3</td>\n",
       "      <td>0</td>\n",
       "      <td>29.881138</td>\n",
       "      <td>0</td>\n",
       "      <td>0</td>\n",
       "      <td>2.085672</td>\n",
       "      <td>1</td>\n",
       "      <td>1</td>\n",
       "      <td>0</td>\n",
       "      <td>0</td>\n",
       "      <td>0</td>\n",
       "      <td>0</td>\n",
       "      <td>0</td>\n",
       "      <td>1</td>\n",
       "      <td>0</td>\n",
       "      <td>1</td>\n",
       "      <td>0</td>\n",
       "      <td>0</td>\n",
       "    </tr>\n",
       "    <tr>\n",
       "      <th>1308</th>\n",
       "      <td>3</td>\n",
       "      <td>0</td>\n",
       "      <td>29.881138</td>\n",
       "      <td>1</td>\n",
       "      <td>1</td>\n",
       "      <td>3.107198</td>\n",
       "      <td>3</td>\n",
       "      <td>0</td>\n",
       "      <td>0</td>\n",
       "      <td>1</td>\n",
       "      <td>0</td>\n",
       "      <td>1</td>\n",
       "      <td>0</td>\n",
       "      <td>0</td>\n",
       "      <td>0</td>\n",
       "      <td>0</td>\n",
       "      <td>1</td>\n",
       "      <td>0</td>\n",
       "    </tr>\n",
       "  </tbody>\n",
       "</table>\n",
       "</div>"
      ],
      "text/plain": [
       "      Pclass  Sex        Age  SibSp  Parch      Fare  Family size  Single  \\\n",
       "1304       3    0  29.881138      0      0  2.085672            1       1   \n",
       "1305       1    1  39.000000      0      0  4.690430            1       1   \n",
       "1306       3    0  38.500000      0      0  1.981001            1       1   \n",
       "1307       3    0  29.881138      0      0  2.085672            1       1   \n",
       "1308       3    0  29.881138      1      1  3.107198            3       0   \n",
       "\n",
       "      SmallF  MedF  LargeF  Title_0  Title_1  Title_2  Title_3  Em_0  Em_1  \\\n",
       "1304       0     0       0        0        0        1        0     1     0   \n",
       "1305       0     0       0        0        0        0        1     0     1   \n",
       "1306       0     0       0        0        0        1        0     1     0   \n",
       "1307       0     0       0        0        0        1        0     1     0   \n",
       "1308       0     1       0        1        0        0        0     0     1   \n",
       "\n",
       "      Em_2  \n",
       "1304     0  \n",
       "1305     0  \n",
       "1306     0  \n",
       "1307     0  \n",
       "1308     0  "
      ]
     },
     "execution_count": 48,
     "metadata": {},
     "output_type": "execute_result"
    }
   ],
   "source": [
    "#### აქ ამ პრობლემას ვაწყდები და გამოსარკვევია რატომ\n",
    "X_test.tail()"
   ]
  },
  {
   "cell_type": "code",
   "execution_count": 49,
   "metadata": {
    "execution": {
     "iopub.execute_input": "2022-04-18T22:19:00.917394Z",
     "iopub.status.busy": "2022-04-18T22:19:00.917044Z",
     "iopub.status.idle": "2022-04-18T22:19:00.923227Z",
     "shell.execute_reply": "2022-04-18T22:19:00.922378Z",
     "shell.execute_reply.started": "2022-04-18T22:19:00.917365Z"
    }
   },
   "outputs": [],
   "source": [
    "log_reg = LogisticRegression(random_state = 2)"
   ]
  },
  {
   "cell_type": "code",
   "execution_count": 50,
   "metadata": {
    "execution": {
     "iopub.execute_input": "2022-04-18T22:19:00.924559Z",
     "iopub.status.busy": "2022-04-18T22:19:00.924337Z",
     "iopub.status.idle": "2022-04-18T22:19:01.042499Z",
     "shell.execute_reply": "2022-04-18T22:19:01.041172Z",
     "shell.execute_reply.started": "2022-04-18T22:19:00.924532Z"
    }
   },
   "outputs": [
    {
     "name": "stderr",
     "output_type": "stream",
     "text": [
      "D:\\Anaconda\\lib\\site-packages\\sklearn\\linear_model\\_logistic.py:763: ConvergenceWarning: lbfgs failed to converge (status=1):\n",
      "STOP: TOTAL NO. of ITERATIONS REACHED LIMIT.\n",
      "\n",
      "Increase the number of iterations (max_iter) or scale the data as shown in:\n",
      "    https://scikit-learn.org/stable/modules/preprocessing.html\n",
      "Please also refer to the documentation for alternative solver options:\n",
      "    https://scikit-learn.org/stable/modules/linear_model.html#logistic-regression\n",
      "  n_iter_i = _check_optimize_result(\n"
     ]
    },
    {
     "data": {
      "text/plain": [
       "array([0, 0, 0, 0, 1, 0, 1, 0, 1, 0, 0, 0, 1, 0, 1, 1, 0, 0, 1, 1, 0, 1,\n",
       "       1, 1, 1, 0, 1, 0, 0, 0, 0, 0, 1, 1, 0, 0, 1, 1, 0, 0, 0, 0, 0, 1,\n",
       "       1, 0, 0, 0, 1, 1, 0, 0, 1, 1, 0, 0, 0, 0, 0, 1, 0, 0, 0, 1, 1, 1,\n",
       "       1, 0, 0, 1, 1, 0, 1, 0, 1, 1, 0, 1, 0, 1, 1, 0, 0, 0, 0, 0, 1, 1,\n",
       "       1, 1, 1, 0, 1, 0, 0, 0, 1, 0, 1, 0, 1, 0, 0, 0, 1, 0, 0, 0, 0, 0,\n",
       "       0, 1, 1, 1, 1, 0, 0, 1, 1, 1, 1, 0, 1, 0, 0, 1, 0, 1, 0, 0, 0, 0,\n",
       "       0, 0, 0, 0, 0, 0, 1, 0, 0, 1, 0, 0, 0, 0, 0, 0, 0, 0, 1, 0, 0, 1,\n",
       "       0, 0, 1, 1, 0, 1, 1, 1, 1, 0, 0, 1, 0, 0, 1, 1, 0, 0, 0, 0, 0, 1,\n",
       "       1, 0, 1, 1, 0, 0, 1, 0, 1, 0, 1, 0, 0, 0, 0, 0, 1, 0, 1, 0, 1, 1,\n",
       "       0, 1, 1, 1, 1, 1, 0, 0, 1, 0, 1, 0, 0, 0, 0, 1, 0, 0, 1, 0, 1, 0,\n",
       "       1, 0, 1, 0, 1, 1, 0, 1, 0, 0, 0, 1, 0, 0, 0, 0, 0, 0, 1, 1, 1, 1,\n",
       "       0, 0, 1, 0, 1, 0, 1, 1, 1, 0, 1, 0, 0, 0, 0, 0, 1, 0, 0, 0, 1, 1,\n",
       "       0, 0, 0, 0, 1, 0, 0, 0, 1, 1, 0, 1, 0, 0, 0, 0, 1, 1, 1, 1, 1, 0,\n",
       "       0, 0, 0, 0, 0, 1, 0, 0, 0, 0, 1, 0, 0, 0, 0, 0, 0, 0, 1, 1, 0, 1,\n",
       "       0, 1, 0, 0, 0, 1, 1, 1, 0, 0, 0, 0, 0, 0, 0, 0, 1, 0, 1, 0, 0, 0,\n",
       "       1, 0, 0, 1, 0, 0, 0, 0, 0, 1, 0, 0, 0, 1, 1, 1, 0, 1, 0, 1, 1, 0,\n",
       "       0, 0, 1, 0, 1, 0, 0, 1, 0, 1, 1, 0, 1, 0, 0, 1, 1, 0, 0, 1, 0, 0,\n",
       "       1, 1, 1, 0, 0, 0, 0, 0, 1, 1, 0, 1, 0, 0, 0, 0, 1, 1, 1, 0, 0, 1,\n",
       "       0, 1, 0, 0, 1, 0, 1, 0, 0, 0, 0, 0, 1, 1, 1, 1, 1, 0, 1, 0, 0, 1])"
      ]
     },
     "execution_count": 50,
     "metadata": {},
     "output_type": "execute_result"
    }
   ],
   "source": [
    "log_reg.fit(X_train, y_train)\n",
    "y_pred = log_reg.predict(X_test)\n",
    "y_pred"
   ]
  },
  {
   "cell_type": "code",
   "execution_count": null,
   "metadata": {},
   "outputs": [],
   "source": []
  }
 ],
 "metadata": {
  "kernelspec": {
   "display_name": "Python 3 (ipykernel)",
   "language": "python",
   "name": "python3"
  },
  "language_info": {
   "codemirror_mode": {
    "name": "ipython",
    "version": 3
   },
   "file_extension": ".py",
   "mimetype": "text/x-python",
   "name": "python",
   "nbconvert_exporter": "python",
   "pygments_lexer": "ipython3",
   "version": "3.9.7"
  },
  "toc": {
   "base_numbering": 1,
   "nav_menu": {},
   "number_sections": true,
   "sideBar": true,
   "skip_h1_title": false,
   "title_cell": "Table of Contents",
   "title_sidebar": "Contents",
   "toc_cell": false,
   "toc_position": {},
   "toc_section_display": true,
   "toc_window_display": false
  }
 },
 "nbformat": 4,
 "nbformat_minor": 4
}
