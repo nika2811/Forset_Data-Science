{
 "cells": [
  {
   "cell_type": "markdown",
   "metadata": {
    "id": "mB1U1G3P8FZM"
   },
   "source": [
    "# ISLR Chapter 5 - Resampling Methods"
   ]
  },
  {
   "cell_type": "markdown",
   "metadata": {
    "id": "Uc6Lt6kx8FZO"
   },
   "source": [
    "## Imports"
   ]
  },
  {
   "cell_type": "code",
   "execution_count": 1,
   "metadata": {
    "ExecuteTime": {
     "end_time": "2022-04-15T19:18:34.154137Z",
     "start_time": "2022-04-15T19:18:33.862590Z"
    },
    "id": "3d8EE5dA8FZO"
   },
   "outputs": [],
   "source": [
    "import pandas as pd\n",
    "import numpy as np\n",
    "import matplotlib.pyplot as plt\n",
    "from mpl_toolkits import mplot3d\n",
    "import seaborn as sns\n",
    "import statsmodels.api as sm\n",
    "import statsmodels.formula.api as smf\n",
    "\n",
    "from sklearn.model_selection import train_test_split\n",
    "from sklearn.linear_model import LogisticRegression, LinearRegression\n",
    "from sklearn.discriminant_analysis import LinearDiscriminantAnalysis as LDA\n",
    "from sklearn.discriminant_analysis import QuadraticDiscriminantAnalysis as QDA\n",
    "from sklearn.neighbors import KNeighborsClassifier\n",
    "from sklearn.preprocessing import scale\n",
    "from sklearn.neighbors import KNeighborsClassifier\n",
    "from sklearn.naive_bayes import GaussianNB\n",
    "from sklearn.metrics import confusion_matrix\n",
    "from sklearn.metrics import accuracy_score\n",
    "from sklearn.pipeline import Pipeline\n",
    "from sklearn.compose import ColumnTransformer\n",
    "from sklearn.utils import resample\n",
    "from sklearn.model_selection import train_test_split, cross_val_score, LeaveOneOut, KFold\n",
    "from sklearn.preprocessing import OneHotEncoder, PolynomialFeatures\n",
    "\n",
    "from sklearn.datasets import load_boston"
   ]
  },
  {
   "cell_type": "markdown",
   "metadata": {
    "id": "dOw2NYSq8FZP"
   },
   "source": [
    "## Exercise 5"
   ]
  },
  {
   "cell_type": "code",
   "execution_count": 2,
   "metadata": {
    "id": "60VlxiF-8FZP"
   },
   "outputs": [
    {
     "name": "stdout",
     "output_type": "stream",
     "text": [
      "10000\n"
     ]
    },
    {
     "data": {
      "text/html": [
       "<div>\n",
       "<style scoped>\n",
       "    .dataframe tbody tr th:only-of-type {\n",
       "        vertical-align: middle;\n",
       "    }\n",
       "\n",
       "    .dataframe tbody tr th {\n",
       "        vertical-align: top;\n",
       "    }\n",
       "\n",
       "    .dataframe thead th {\n",
       "        text-align: right;\n",
       "    }\n",
       "</style>\n",
       "<table border=\"1\" class=\"dataframe\">\n",
       "  <thead>\n",
       "    <tr style=\"text-align: right;\">\n",
       "      <th></th>\n",
       "      <th>default</th>\n",
       "      <th>student</th>\n",
       "      <th>balance</th>\n",
       "      <th>income</th>\n",
       "    </tr>\n",
       "  </thead>\n",
       "  <tbody>\n",
       "    <tr>\n",
       "      <th>0</th>\n",
       "      <td>No</td>\n",
       "      <td>No</td>\n",
       "      <td>729.526495</td>\n",
       "      <td>44361.625074</td>\n",
       "    </tr>\n",
       "    <tr>\n",
       "      <th>1</th>\n",
       "      <td>No</td>\n",
       "      <td>Yes</td>\n",
       "      <td>817.180407</td>\n",
       "      <td>12106.134700</td>\n",
       "    </tr>\n",
       "    <tr>\n",
       "      <th>2</th>\n",
       "      <td>No</td>\n",
       "      <td>No</td>\n",
       "      <td>1073.549164</td>\n",
       "      <td>31767.138947</td>\n",
       "    </tr>\n",
       "    <tr>\n",
       "      <th>3</th>\n",
       "      <td>No</td>\n",
       "      <td>No</td>\n",
       "      <td>529.250605</td>\n",
       "      <td>35704.493935</td>\n",
       "    </tr>\n",
       "    <tr>\n",
       "      <th>4</th>\n",
       "      <td>No</td>\n",
       "      <td>No</td>\n",
       "      <td>785.655883</td>\n",
       "      <td>38463.495879</td>\n",
       "    </tr>\n",
       "  </tbody>\n",
       "</table>\n",
       "</div>"
      ],
      "text/plain": [
       "  default student      balance        income\n",
       "0      No      No   729.526495  44361.625074\n",
       "1      No     Yes   817.180407  12106.134700\n",
       "2      No      No  1073.549164  31767.138947\n",
       "3      No      No   529.250605  35704.493935\n",
       "4      No      No   785.655883  38463.495879"
      ]
     },
     "execution_count": 2,
     "metadata": {},
     "output_type": "execute_result"
    }
   ],
   "source": [
    "df = pd.read_csv('Default.csv',index_col = False)\n",
    "\n",
    "print(len(df))\n",
    "df.head()"
   ]
  },
  {
   "cell_type": "markdown",
   "metadata": {
    "id": "DtIEHnk_8FZQ"
   },
   "source": [
    "### a\n"
   ]
  },
  {
   "cell_type": "code",
   "execution_count": 3,
   "metadata": {
    "id": "nGojIPs68FZQ"
   },
   "outputs": [
    {
     "data": {
      "text/plain": [
       "array([[5.64710797e-03, 2.08091984e-05]])"
      ]
     },
     "execution_count": 3,
     "metadata": {},
     "output_type": "execute_result"
    }
   ],
   "source": [
    "X = df[[\"balance\", \"income\"]]\n",
    "y = df[\"default\"]\n",
    "clf = LogisticRegression()\n",
    "clf.fit(X, y)\n",
    "clf.coef_"
   ]
  },
  {
   "cell_type": "markdown",
   "metadata": {
    "id": "ZJ8T01db8FZQ"
   },
   "source": [
    "\n",
    "### b\n",
    "\n"
   ]
  },
  {
   "cell_type": "markdown",
   "metadata": {
    "id": "zaUK5-Fx8FZR"
   },
   "source": [
    "\n",
    "#### i\n",
    "\n"
   ]
  },
  {
   "cell_type": "code",
   "execution_count": 4,
   "metadata": {
    "id": "OsT7c6dc8FZR"
   },
   "outputs": [],
   "source": [
    "X_train, X_test, y_train, y_test = train_test_split(df[[\"balance\", \"income\"]], df[\"default\"],test_size = 0.3, random_state = 42)"
   ]
  },
  {
   "cell_type": "markdown",
   "metadata": {
    "id": "hGVutf838FZS"
   },
   "source": [
    "\n",
    "#### ii\n",
    "\n"
   ]
  },
  {
   "cell_type": "code",
   "execution_count": 5,
   "metadata": {
    "id": "PFRLtyn08FZS"
   },
   "outputs": [
    {
     "data": {
      "text/plain": [
       "LogisticRegression()"
      ]
     },
     "execution_count": 5,
     "metadata": {},
     "output_type": "execute_result"
    }
   ],
   "source": [
    "clf = LogisticRegression()\n",
    "clf.fit(X_train, y_train)"
   ]
  },
  {
   "cell_type": "markdown",
   "metadata": {
    "id": "b7IoGXM78FZS"
   },
   "source": [
    "\n",
    "#### iii\n",
    "\n"
   ]
  },
  {
   "cell_type": "code",
   "execution_count": 6,
   "metadata": {},
   "outputs": [],
   "source": [
    "glmpred = clf.predict(X_test)"
   ]
  },
  {
   "cell_type": "code",
   "execution_count": 7,
   "metadata": {},
   "outputs": [
    {
     "data": {
      "text/plain": [
       "array([[2905,    1],\n",
       "       [  94,    0]], dtype=int64)"
      ]
     },
     "execution_count": 7,
     "metadata": {},
     "output_type": "execute_result"
    }
   ],
   "source": [
    "conf_mat = confusion_matrix(y_test, glmpred)\n",
    "conf_mat"
   ]
  },
  {
   "cell_type": "code",
   "execution_count": 8,
   "metadata": {},
   "outputs": [
    {
     "data": {
      "text/plain": [
       "0.0136"
      ]
     },
     "execution_count": 8,
     "metadata": {},
     "output_type": "execute_result"
    }
   ],
   "source": [
    "round((conf_mat[0][1] + conf_mat[1][0]) / y_train.shape[0], 4)\n",
    "###accu"
   ]
  },
  {
   "cell_type": "markdown",
   "metadata": {
    "id": "07v_FO2g8FZT"
   },
   "source": [
    "\n",
    "#### iv\n",
    "\n"
   ]
  },
  {
   "cell_type": "code",
   "execution_count": 9,
   "metadata": {
    "id": "nTb4rHuT8FZT"
   },
   "outputs": [
    {
     "data": {
      "text/plain": [
       "0.03166666666666662"
      ]
     },
     "execution_count": 9,
     "metadata": {},
     "output_type": "execute_result"
    }
   ],
   "source": [
    "#validation set error\n",
    "1 - clf.score(X_test, y_test)"
   ]
  },
  {
   "cell_type": "markdown",
   "metadata": {
    "id": "JI9_fhbX8FZT"
   },
   "source": [
    "\n",
    "### c\n",
    "\n"
   ]
  },
  {
   "cell_type": "code",
   "execution_count": 10,
   "metadata": {
    "id": "J2JfAEtY8FZT"
   },
   "outputs": [
    {
     "data": {
      "text/plain": [
       "0.02833333333333332"
      ]
     },
     "execution_count": 10,
     "metadata": {},
     "output_type": "execute_result"
    }
   ],
   "source": [
    "X_train, X_test, y_train, y_test = train_test_split(df[[\"balance\", \"income\"]], df[\"default\"],test_size = 0.3, random_state = 420)\n",
    "clf = LogisticRegression()\n",
    "clf.fit(X_train, y_train)\n",
    "1 - clf.score(X_test, y_test)"
   ]
  },
  {
   "cell_type": "code",
   "execution_count": 11,
   "metadata": {},
   "outputs": [
    {
     "data": {
      "text/plain": [
       "0.03600000000000003"
      ]
     },
     "execution_count": 11,
     "metadata": {},
     "output_type": "execute_result"
    }
   ],
   "source": [
    "X_train, X_test, y_train, y_test = train_test_split(df[[\"balance\", \"income\"]], df[\"default\"],test_size = 0.3, random_state = 910)\n",
    "clf = LogisticRegression()\n",
    "clf.fit(X_train, y_train)\n",
    "1 - clf.score(X_test, y_test)"
   ]
  },
  {
   "cell_type": "code",
   "execution_count": 12,
   "metadata": {},
   "outputs": [
    {
     "data": {
      "text/plain": [
       "0.029000000000000026"
      ]
     },
     "execution_count": 12,
     "metadata": {},
     "output_type": "execute_result"
    }
   ],
   "source": [
    "X_train, X_test, y_train, y_test = train_test_split(df[[\"balance\", \"income\"]], df[\"default\"],test_size = 0.3, random_state = 652)\n",
    "clf = LogisticRegression()\n",
    "clf.fit(X_train, y_train)\n",
    "1 - clf.score(X_test, y_test)"
   ]
  },
  {
   "cell_type": "markdown",
   "metadata": {
    "id": "ElobLmh08FZT"
   },
   "source": [
    "\n",
    "### d\n",
    "\n"
   ]
  },
  {
   "cell_type": "code",
   "execution_count": 13,
   "metadata": {},
   "outputs": [
    {
     "data": {
      "text/plain": [
       "0.0027279999999999995"
      ]
     },
     "execution_count": 13,
     "metadata": {},
     "output_type": "execute_result"
    }
   ],
   "source": [
    "np.random.seed(42)\n",
    "with_student = {}\n",
    "without_student = {}\n",
    "\n",
    "#სტუდენტის ცვალით და მის გარეშე\n",
    "categorical_features = [\"student\"]\n",
    "categorical_transformer = Pipeline([(\"onehot\", OneHotEncoder(drop = \"first\"))])\n",
    "numerical_features = [\"income\", \"balance\"]\n",
    "with_student_preprocessor = ColumnTransformer([(\"cat\", categorical_transformer, categorical_features),(\"num\", \"passthrough\", numerical_features)])\n",
    "with_student_clf = Pipeline([(\"preprocessor\", with_student_preprocessor), (\"classifier\", LogisticRegression(penalty = \"none\", solver = \"lbfgs\"))])\n",
    "without_student_preprocessor = ColumnTransformer([(\"num\", \"passthrough\", numerical_features)])\n",
    "without_student_clf = Pipeline([(\"preprocessor\", without_student_preprocessor), (\"classifier\", LogisticRegression(penalty = \"none\", solver = \"lbfgs\"))])\n",
    "\n",
    "# ციკლში გავუშვი,რომ საშუალო გადახრა მეპოვა\n",
    "for i in range(50):\n",
    "    X_train, X_test, y_train, y_test = train_test_split(df, df[\"default\"], test_size = 0.25)\n",
    "    with_student_clf.fit(X_train, y_train)\n",
    "    \n",
    "    with_student[i] = 1 - with_student_clf.score(X_test, y_test)\n",
    "    \n",
    "    without_student_clf.fit(X_train, y_train)\n",
    "    \n",
    "    without_student[i] = 1 - without_student_clf.score(X_test, y_test)\n",
    "    \n",
    "errors = pd.DataFrame({\"with_student\": with_student, \"without_student\": without_student})\n",
    "errors[\"difference\"] = errors[\"with_student\"] - errors[\"without_student\"]\n",
    "errors[\"difference\"].mean()"
   ]
  },
  {
   "cell_type": "code",
   "execution_count": 14,
   "metadata": {},
   "outputs": [],
   "source": [
    "### სტუდენტის ცვლადმა ცდომილება გაზარდა"
   ]
  },
  {
   "cell_type": "markdown",
   "metadata": {
    "id": "tnwlgXHw8FZU"
   },
   "source": [
    "## Exercise 6"
   ]
  },
  {
   "cell_type": "code",
   "execution_count": 15,
   "metadata": {
    "id": "vtBcyEhW8FZU"
   },
   "outputs": [
    {
     "name": "stdout",
     "output_type": "stream",
     "text": [
      "Optimization terminated successfully.\n",
      "         Current function value: 0.078948\n",
      "         Iterations 10\n"
     ]
    },
    {
     "name": "stderr",
     "output_type": "stream",
     "text": [
      "D:\\Anaconda\\lib\\site-packages\\statsmodels\\tsa\\tsatools.py:142: FutureWarning: In a future version of pandas all arguments of concat except for the argument 'objs' will be keyword-only\n",
      "  x = pd.concat(x[::order], 1)\n"
     ]
    }
   ],
   "source": [
    "endog = (df[\"default\"] == \"Yes\").astype(int)\n",
    "exog = sm.add_constant(df[[\"income\", \"balance\"]],1)\n",
    "mod = sm.Logit(endog, exog)\n",
    "res = mod.fit()"
   ]
  },
  {
   "cell_type": "markdown",
   "metadata": {
    "id": "0OMtOfAf8FZU"
   },
   "source": [
    "### a\n"
   ]
  },
  {
   "cell_type": "code",
   "execution_count": 16,
   "metadata": {},
   "outputs": [],
   "source": [
    "###estimated standard error"
   ]
  },
  {
   "cell_type": "code",
   "execution_count": 17,
   "metadata": {
    "id": "RBucdz828FZU"
   },
   "outputs": [
    {
     "data": {
      "text/plain": [
       "4.985245461753051e-06"
      ]
     },
     "execution_count": 17,
     "metadata": {},
     "output_type": "execute_result"
    }
   ],
   "source": [
    "res.bse[\"income\"]"
   ]
  },
  {
   "cell_type": "code",
   "execution_count": 18,
   "metadata": {},
   "outputs": [
    {
     "data": {
      "text/plain": [
       "0.0002273813847684474"
      ]
     },
     "execution_count": 18,
     "metadata": {},
     "output_type": "execute_result"
    }
   ],
   "source": [
    "res.bse[\"balance\"]"
   ]
  },
  {
   "cell_type": "markdown",
   "metadata": {
    "id": "RnBpQphn8FZU"
   },
   "source": [
    "\n",
    "### b\n",
    "\n"
   ]
  },
  {
   "cell_type": "code",
   "execution_count": 19,
   "metadata": {
    "id": "IDhYVBzN8FZU"
   },
   "outputs": [],
   "source": [
    "def boot_fn(data, clf):\n",
    "    clf.fit(data[[\"income\", \"balance\"]], data[\"default\"])\n",
    "    return clf.coef_"
   ]
  },
  {
   "cell_type": "markdown",
   "metadata": {
    "id": "duch-oUI8FZU"
   },
   "source": [
    "\n",
    "### c\n",
    "\n"
   ]
  },
  {
   "cell_type": "code",
   "execution_count": 20,
   "metadata": {
    "id": "tR3DreK18FZU"
   },
   "outputs": [],
   "source": [
    "# np.random.seed(17)\n",
    "# num_estimates = 10000\n",
    "# boot_estimates = np.empty((num_estimates, 2))\n",
    "# for i in range(num_estimates):\n",
    "#     clf = LogisticRegression()\n",
    "#     sample = resample(df)\n",
    "#     coefs = boot_fn(sample, clf)\n",
    "#     boot_estimates[i, 0] = coefs[0, 0]\n",
    "#     boot_estimates[i, 1] = coefs[0, 1]"
   ]
  },
  {
   "cell_type": "code",
   "execution_count": 21,
   "metadata": {},
   "outputs": [],
   "source": [
    "# boot_df = pd.DataFrame(boot_estimates, columns = [\"income\", \"balance\"])"
   ]
  },
  {
   "cell_type": "code",
   "execution_count": 22,
   "metadata": {},
   "outputs": [],
   "source": [
    "# boot_df[\"income\"].std()\n"
   ]
  },
  {
   "cell_type": "code",
   "execution_count": 23,
   "metadata": {},
   "outputs": [],
   "source": [
    "# boot_df[\"balance\"].std()\n"
   ]
  },
  {
   "cell_type": "code",
   "execution_count": null,
   "metadata": {},
   "outputs": [],
   "source": []
  },
  {
   "cell_type": "markdown",
   "metadata": {
    "id": "nSHMUDLD8FZU"
   },
   "source": [
    "\n",
    "### d\n",
    "\n"
   ]
  },
  {
   "cell_type": "code",
   "execution_count": null,
   "metadata": {
    "id": "ITbFpDel8FZV"
   },
   "outputs": [],
   "source": []
  },
  {
   "cell_type": "markdown",
   "metadata": {
    "id": "v945aBvh8FZV"
   },
   "source": [
    "## Exercise 7"
   ]
  },
  {
   "cell_type": "code",
   "execution_count": 24,
   "metadata": {
    "id": "e6IonpXq8FZV"
   },
   "outputs": [
    {
     "data": {
      "text/html": [
       "<div>\n",
       "<style scoped>\n",
       "    .dataframe tbody tr th:only-of-type {\n",
       "        vertical-align: middle;\n",
       "    }\n",
       "\n",
       "    .dataframe tbody tr th {\n",
       "        vertical-align: top;\n",
       "    }\n",
       "\n",
       "    .dataframe thead th {\n",
       "        text-align: right;\n",
       "    }\n",
       "</style>\n",
       "<table border=\"1\" class=\"dataframe\">\n",
       "  <thead>\n",
       "    <tr style=\"text-align: right;\">\n",
       "      <th></th>\n",
       "      <th>Year</th>\n",
       "      <th>Lag1</th>\n",
       "      <th>Lag2</th>\n",
       "      <th>Lag3</th>\n",
       "      <th>Lag4</th>\n",
       "      <th>Lag5</th>\n",
       "      <th>Volume</th>\n",
       "      <th>Today</th>\n",
       "      <th>Direction</th>\n",
       "    </tr>\n",
       "  </thead>\n",
       "  <tbody>\n",
       "    <tr>\n",
       "      <th>0</th>\n",
       "      <td>1990</td>\n",
       "      <td>0.816</td>\n",
       "      <td>1.572</td>\n",
       "      <td>-3.936</td>\n",
       "      <td>-0.229</td>\n",
       "      <td>-3.484</td>\n",
       "      <td>0.154976</td>\n",
       "      <td>-0.270</td>\n",
       "      <td>Down</td>\n",
       "    </tr>\n",
       "    <tr>\n",
       "      <th>1</th>\n",
       "      <td>1990</td>\n",
       "      <td>-0.270</td>\n",
       "      <td>0.816</td>\n",
       "      <td>1.572</td>\n",
       "      <td>-3.936</td>\n",
       "      <td>-0.229</td>\n",
       "      <td>0.148574</td>\n",
       "      <td>-2.576</td>\n",
       "      <td>Down</td>\n",
       "    </tr>\n",
       "    <tr>\n",
       "      <th>2</th>\n",
       "      <td>1990</td>\n",
       "      <td>-2.576</td>\n",
       "      <td>-0.270</td>\n",
       "      <td>0.816</td>\n",
       "      <td>1.572</td>\n",
       "      <td>-3.936</td>\n",
       "      <td>0.159837</td>\n",
       "      <td>3.514</td>\n",
       "      <td>Up</td>\n",
       "    </tr>\n",
       "    <tr>\n",
       "      <th>3</th>\n",
       "      <td>1990</td>\n",
       "      <td>3.514</td>\n",
       "      <td>-2.576</td>\n",
       "      <td>-0.270</td>\n",
       "      <td>0.816</td>\n",
       "      <td>1.572</td>\n",
       "      <td>0.161630</td>\n",
       "      <td>0.712</td>\n",
       "      <td>Up</td>\n",
       "    </tr>\n",
       "    <tr>\n",
       "      <th>4</th>\n",
       "      <td>1990</td>\n",
       "      <td>0.712</td>\n",
       "      <td>3.514</td>\n",
       "      <td>-2.576</td>\n",
       "      <td>-0.270</td>\n",
       "      <td>0.816</td>\n",
       "      <td>0.153728</td>\n",
       "      <td>1.178</td>\n",
       "      <td>Up</td>\n",
       "    </tr>\n",
       "  </tbody>\n",
       "</table>\n",
       "</div>"
      ],
      "text/plain": [
       "   Year   Lag1   Lag2   Lag3   Lag4   Lag5    Volume  Today Direction\n",
       "0  1990  0.816  1.572 -3.936 -0.229 -3.484  0.154976 -0.270      Down\n",
       "1  1990 -0.270  0.816  1.572 -3.936 -0.229  0.148574 -2.576      Down\n",
       "2  1990 -2.576 -0.270  0.816  1.572 -3.936  0.159837  3.514        Up\n",
       "3  1990  3.514 -2.576 -0.270  0.816  1.572  0.161630  0.712        Up\n",
       "4  1990  0.712  3.514 -2.576 -0.270  0.816  0.153728  1.178        Up"
      ]
     },
     "execution_count": 24,
     "metadata": {},
     "output_type": "execute_result"
    }
   ],
   "source": [
    "weekly_filepath = \"Weekly.csv\"\n",
    "weekly = pd.read_csv(weekly_filepath)\n",
    "weekly.head()"
   ]
  },
  {
   "cell_type": "markdown",
   "metadata": {
    "id": "AG8PfAX38FZV"
   },
   "source": [
    "### a\n"
   ]
  },
  {
   "cell_type": "code",
   "execution_count": 25,
   "metadata": {
    "id": "S1FGsoc68FZV"
   },
   "outputs": [
    {
     "data": {
      "text/plain": [
       "(array([[-0.03869814,  0.06020749]]), array([0.22122502]))"
      ]
     },
     "execution_count": 25,
     "metadata": {},
     "output_type": "execute_result"
    }
   ],
   "source": [
    "X = weekly[[\"Lag1\", \"Lag2\"]]\n",
    "y = weekly[\"Direction\"]\n",
    "clf = LogisticRegression()\n",
    "clf.fit(X, y)\n",
    "clf.coef_, clf.intercept_"
   ]
  },
  {
   "cell_type": "markdown",
   "metadata": {
    "id": "5u5qY5fs8FZV"
   },
   "source": [
    "\n",
    "### b\n",
    "\n"
   ]
  },
  {
   "cell_type": "code",
   "execution_count": 26,
   "metadata": {
    "id": "RElMt_Ba8FZV"
   },
   "outputs": [
    {
     "data": {
      "text/plain": [
       "(array([[-0.03840931,  0.06080633]]), array([0.22324404]))"
      ]
     },
     "execution_count": 26,
     "metadata": {},
     "output_type": "execute_result"
    }
   ],
   "source": [
    "X_loo = weekly.loc[weekly.index != 0, [\"Lag1\", \"Lag2\"]]\n",
    "y_loo = weekly.loc[weekly.index != 0, \"Direction\"]\n",
    "clf = LogisticRegression()\n",
    "clf = clf.fit(X_loo, y_loo)\n",
    "clf.coef_, clf.intercept_"
   ]
  },
  {
   "cell_type": "markdown",
   "metadata": {
    "id": "pQ3cEC4n8FZV"
   },
   "source": [
    "\n",
    "### c\n",
    "\n"
   ]
  },
  {
   "cell_type": "code",
   "execution_count": 27,
   "metadata": {
    "id": "ETeagKCS8FZV"
   },
   "outputs": [
    {
     "data": {
      "text/plain": [
       "array([[0.42861856, 0.57138144]])"
      ]
     },
     "execution_count": 27,
     "metadata": {},
     "output_type": "execute_result"
    }
   ],
   "source": [
    "clf.predict_proba(weekly.loc[0, [\"Lag1\", \"Lag2\"]].to_frame().T)"
   ]
  },
  {
   "cell_type": "code",
   "execution_count": 28,
   "metadata": {},
   "outputs": [
    {
     "data": {
      "text/plain": [
       "array(['Up'], dtype=object)"
      ]
     },
     "execution_count": 28,
     "metadata": {},
     "output_type": "execute_result"
    }
   ],
   "source": [
    "clf.predict(weekly.loc[0, [\"Lag1\", \"Lag2\"]].to_frame().T)"
   ]
  },
  {
   "cell_type": "code",
   "execution_count": 29,
   "metadata": {},
   "outputs": [
    {
     "data": {
      "text/plain": [
       "Year             1990\n",
       "Lag1            0.816\n",
       "Lag2            1.572\n",
       "Lag3           -3.936\n",
       "Lag4           -0.229\n",
       "Lag5           -3.484\n",
       "Volume       0.154976\n",
       "Today           -0.27\n",
       "Direction        Down\n",
       "Name: 0, dtype: object"
      ]
     },
     "execution_count": 29,
     "metadata": {},
     "output_type": "execute_result"
    }
   ],
   "source": [
    "weekly.iloc[0]"
   ]
  },
  {
   "cell_type": "code",
   "execution_count": 30,
   "metadata": {},
   "outputs": [],
   "source": [
    "###თურმე არასწორი ყოფილა  (0,429 იყო down და 0,571 კი up მაგრამ თურმე down არის)"
   ]
  },
  {
   "cell_type": "markdown",
   "metadata": {
    "id": "MHkTB2mj8FZV"
   },
   "source": [
    "\n",
    "### d\n",
    "\n"
   ]
  },
  {
   "cell_type": "code",
   "execution_count": 31,
   "metadata": {
    "id": "jnCH_Qca8FZW"
   },
   "outputs": [],
   "source": [
    "n = weekly.shape[0]\n",
    "scores = np.empty(n)\n",
    "clf = LogisticRegression(penalty = \"none\", solver = \"lbfgs\")\n",
    "for i in range(n):\n",
    "    X_loo = weekly.loc[weekly.index != i, [\"Lag1\", \"Lag2\"]]\n",
    "    y_loo = weekly.loc[weekly.index != i, \"Direction\"]\n",
    "    clf.fit(X_loo, y_loo)\n",
    "    scores[i] = clf.score(weekly.loc[i, [\"Lag1\", \"Lag2\"]].to_frame().T, pd.Series(weekly.loc[i, \"Direction\"]))"
   ]
  },
  {
   "cell_type": "markdown",
   "metadata": {
    "id": "LS7Se-fc8FZW"
   },
   "source": [
    "\n",
    "#### i\n",
    "\n"
   ]
  },
  {
   "cell_type": "code",
   "execution_count": null,
   "metadata": {
    "id": "SLOHjoFt8FZW"
   },
   "outputs": [],
   "source": []
  },
  {
   "cell_type": "markdown",
   "metadata": {
    "id": "AknnpKcP8FZW"
   },
   "source": [
    "\n",
    "#### ii\n",
    "\n"
   ]
  },
  {
   "cell_type": "code",
   "execution_count": null,
   "metadata": {
    "id": "92I8QOR58FZW"
   },
   "outputs": [],
   "source": []
  },
  {
   "cell_type": "markdown",
   "metadata": {
    "id": "g72a5Ixf8FZW"
   },
   "source": [
    "\n",
    "#### iii\n",
    "\n"
   ]
  },
  {
   "cell_type": "code",
   "execution_count": null,
   "metadata": {
    "id": "NaR1tBg68FZW"
   },
   "outputs": [],
   "source": []
  },
  {
   "cell_type": "markdown",
   "metadata": {
    "id": "y8el_uNM8FZW"
   },
   "source": [
    "\n",
    "#### iv\n",
    "\n"
   ]
  },
  {
   "cell_type": "code",
   "execution_count": null,
   "metadata": {
    "id": "kDJCkjyG8FZW"
   },
   "outputs": [],
   "source": []
  },
  {
   "cell_type": "markdown",
   "metadata": {
    "id": "n7ROsfm28FZW"
   },
   "source": [
    "\n",
    "### e\n",
    "\n"
   ]
  },
  {
   "cell_type": "code",
   "execution_count": 32,
   "metadata": {
    "id": "4SxDoEXN8FZW"
   },
   "outputs": [
    {
     "data": {
      "text/plain": [
       "0.5500459136822773"
      ]
     },
     "execution_count": 32,
     "metadata": {},
     "output_type": "execute_result"
    }
   ],
   "source": [
    "scores.mean()"
   ]
  },
  {
   "cell_type": "code",
   "execution_count": 33,
   "metadata": {},
   "outputs": [
    {
     "data": {
      "text/plain": [
       "0.44995408631772266"
      ]
     },
     "execution_count": 33,
     "metadata": {},
     "output_type": "execute_result"
    }
   ],
   "source": [
    "errors = 1 - scores\n",
    "errors.mean()"
   ]
  },
  {
   "cell_type": "code",
   "execution_count": 34,
   "metadata": {},
   "outputs": [
    {
     "data": {
      "text/plain": [
       "0.5500459136822773"
      ]
     },
     "execution_count": 34,
     "metadata": {},
     "output_type": "execute_result"
    }
   ],
   "source": [
    "#LOOCV\n",
    "X = weekly[[\"Lag1\", \"Lag2\"]]\n",
    "y = weekly[\"Direction\"]\n",
    "clf = LogisticRegression()\n",
    "loo = LeaveOneOut()\n",
    "cv_scores = cross_val_score(clf, X, y, cv = loo)\n",
    "cv_scores.mean()"
   ]
  },
  {
   "cell_type": "code",
   "execution_count": 35,
   "metadata": {},
   "outputs": [
    {
     "data": {
      "text/plain": [
       "0.4499540863177227"
      ]
     },
     "execution_count": 35,
     "metadata": {},
     "output_type": "execute_result"
    }
   ],
   "source": [
    "1 - cv_scores.mean()"
   ]
  },
  {
   "cell_type": "markdown",
   "metadata": {
    "id": "dAnADQjv8FZW"
   },
   "source": [
    "## Exercise 8"
   ]
  },
  {
   "cell_type": "markdown",
   "metadata": {
    "id": "ZNJ3aSRs8FZX"
   },
   "source": [
    "### a\n"
   ]
  },
  {
   "cell_type": "code",
   "execution_count": 36,
   "metadata": {
    "id": "JPSp_BVo8FZW"
   },
   "outputs": [],
   "source": [
    "np.random.seed(42)\n",
    "x = np.random.normal(size = 100)\n",
    "y = x - 2*x**2 + np.random.normal(size = 100)"
   ]
  },
  {
   "cell_type": "markdown",
   "metadata": {
    "id": "lVeYXS0q8FZX"
   },
   "source": [
    "\n",
    "### b\n",
    "\n"
   ]
  },
  {
   "cell_type": "code",
   "execution_count": 37,
   "metadata": {
    "id": "0PXBMsj58FZX"
   },
   "outputs": [
    {
     "data": {
      "image/png": "[encoded data removed]",
      "text/plain": [
       "<Figure size 1152x648 with 1 Axes>"
      ]
     },
     "metadata": {
      "needs_background": "light"
     },
     "output_type": "display_data"
    }
   ],
   "source": [
    "fig, ax = plt.subplots(figsize = (16, 9))\n",
    "ax.scatter(x, y)\n",
    "\n",
    "x_range = np.linspace(start = -2.5, stop = 2.5)\n",
    "parabola = x_range - 2*x_range**2\n",
    "ax.plot(x_range, parabola, color = \"orange\", linestyle = \"--\");"
   ]
  },
  {
   "cell_type": "code",
   "execution_count": null,
   "metadata": {
    "id": "e5CB4mBm8FZX"
   },
   "outputs": [],
   "source": []
  },
  {
   "cell_type": "markdown",
   "metadata": {
    "id": "XCpfTrrR8FZX"
   },
   "source": [
    "\n",
    "### c\n",
    "\n"
   ]
  },
  {
   "cell_type": "code",
   "execution_count": 38,
   "metadata": {
    "id": "zGB8_MsV8FZX"
   },
   "outputs": [
    {
     "name": "stderr",
     "output_type": "stream",
     "text": [
      "C:\\Users\\nikan\\AppData\\Local\\Temp/ipykernel_5252/2074887066.py:2: DeprecationWarning: The default dtype for empty Series will be 'object' instead of 'float64' in a future version. Specify a dtype explicitly to silence this warning.\n",
      "  loocv_scores = pd.Series()\n"
     ]
    },
    {
     "data": {
      "text/plain": [
       "1    5.302957\n",
       "2    0.912764\n",
       "3    0.956957\n",
       "4    0.972772\n",
       "dtype: float64"
      ]
     },
     "execution_count": 38,
     "metadata": {},
     "output_type": "execute_result"
    }
   ],
   "source": [
    "np.random.seed(312)\n",
    "loocv_scores = pd.Series()\n",
    "for i in range(1, 5):\n",
    "    poly_reg = Pipeline([(\"poly\", PolynomialFeatures(degree = i)), (\"reg\", LinearRegression())])\n",
    "    loo = LeaveOneOut()\n",
    "    cv_scores = cross_val_score(poly_reg, x.reshape(-1, 1), y, scoring = \"neg_mean_squared_error\", cv = loo)\n",
    "    loocv_scores.loc[i] = abs(cv_scores.mean())\n",
    "loocv_scores\n",
    "# წრფივი\n",
    "# კვადრატული\n",
    "# კუბური"
   ]
  },
  {
   "cell_type": "markdown",
   "metadata": {
    "id": "WRDtpTQu8FZX"
   },
   "source": [
    "\n",
    "### d\n",
    "\n"
   ]
  },
  {
   "cell_type": "code",
   "execution_count": 39,
   "metadata": {
    "id": "bykhB1p88FZX"
   },
   "outputs": [
    {
     "name": "stderr",
     "output_type": "stream",
     "text": [
      "C:\\Users\\nikan\\AppData\\Local\\Temp/ipykernel_5252/4124702694.py:2: DeprecationWarning: The default dtype for empty Series will be 'object' instead of 'float64' in a future version. Specify a dtype explicitly to silence this warning.\n",
      "  loocv_scores = pd.Series()\n"
     ]
    },
    {
     "data": {
      "text/plain": [
       "1    5.302957\n",
       "2    0.912764\n",
       "3    0.956957\n",
       "4    0.972772\n",
       "dtype: float64"
      ]
     },
     "execution_count": 39,
     "metadata": {},
     "output_type": "execute_result"
    }
   ],
   "source": [
    "np.random.seed(42)\n",
    "loocv_scores = pd.Series()\n",
    "for i in range(1, 5):\n",
    "    poly_reg = Pipeline([(\"poly\", PolynomialFeatures(degree = i)), (\"reg\", LinearRegression())])\n",
    "    loo = LeaveOneOut()\n",
    "    cv_scores = cross_val_score(poly_reg, x.reshape(-1, 1), y, scoring = \"neg_mean_squared_error\", cv = loo)\n",
    "    loocv_scores.loc[i] = abs(cv_scores.mean())\n",
    "loocv_scores"
   ]
  },
  {
   "cell_type": "markdown",
   "metadata": {
    "id": "kERygmnh8FZX"
   },
   "source": [
    "\n",
    "### e\n",
    "\n"
   ]
  },
  {
   "cell_type": "code",
   "execution_count": null,
   "metadata": {
    "id": "flFBoJou8FZX"
   },
   "outputs": [],
   "source": []
  },
  {
   "cell_type": "markdown",
   "metadata": {
    "id": "pXyB_chy8FZX"
   },
   "source": [
    "\n",
    "### f\n",
    "\n"
   ]
  },
  {
   "cell_type": "code",
   "execution_count": null,
   "metadata": {
    "id": "Cin4WMGv8FZX"
   },
   "outputs": [],
   "source": []
  },
  {
   "cell_type": "markdown",
   "metadata": {
    "id": "Vou_WupP8FZX"
   },
   "source": [
    "## Exercise 9"
   ]
  },
  {
   "cell_type": "code",
   "execution_count": 40,
   "metadata": {},
   "outputs": [
    {
     "data": {
      "text/html": [
       "<div>\n",
       "<style scoped>\n",
       "    .dataframe tbody tr th:only-of-type {\n",
       "        vertical-align: middle;\n",
       "    }\n",
       "\n",
       "    .dataframe tbody tr th {\n",
       "        vertical-align: top;\n",
       "    }\n",
       "\n",
       "    .dataframe thead th {\n",
       "        text-align: right;\n",
       "    }\n",
       "</style>\n",
       "<table border=\"1\" class=\"dataframe\">\n",
       "  <thead>\n",
       "    <tr style=\"text-align: right;\">\n",
       "      <th></th>\n",
       "      <th>crim</th>\n",
       "      <th>zn</th>\n",
       "      <th>indus</th>\n",
       "      <th>chas</th>\n",
       "      <th>nox</th>\n",
       "      <th>rm</th>\n",
       "      <th>age</th>\n",
       "      <th>dis</th>\n",
       "      <th>rad</th>\n",
       "      <th>tax</th>\n",
       "      <th>ptratio</th>\n",
       "      <th>lstat</th>\n",
       "      <th>medv</th>\n",
       "    </tr>\n",
       "  </thead>\n",
       "  <tbody>\n",
       "    <tr>\n",
       "      <th>1</th>\n",
       "      <td>0.00632</td>\n",
       "      <td>18.0</td>\n",
       "      <td>2.31</td>\n",
       "      <td>0</td>\n",
       "      <td>0.538</td>\n",
       "      <td>6.575</td>\n",
       "      <td>65.2</td>\n",
       "      <td>4.0900</td>\n",
       "      <td>1</td>\n",
       "      <td>296</td>\n",
       "      <td>15.3</td>\n",
       "      <td>4.98</td>\n",
       "      <td>24.0</td>\n",
       "    </tr>\n",
       "    <tr>\n",
       "      <th>2</th>\n",
       "      <td>0.02731</td>\n",
       "      <td>0.0</td>\n",
       "      <td>7.07</td>\n",
       "      <td>0</td>\n",
       "      <td>0.469</td>\n",
       "      <td>6.421</td>\n",
       "      <td>78.9</td>\n",
       "      <td>4.9671</td>\n",
       "      <td>2</td>\n",
       "      <td>242</td>\n",
       "      <td>17.8</td>\n",
       "      <td>9.14</td>\n",
       "      <td>21.6</td>\n",
       "    </tr>\n",
       "    <tr>\n",
       "      <th>3</th>\n",
       "      <td>0.02729</td>\n",
       "      <td>0.0</td>\n",
       "      <td>7.07</td>\n",
       "      <td>0</td>\n",
       "      <td>0.469</td>\n",
       "      <td>7.185</td>\n",
       "      <td>61.1</td>\n",
       "      <td>4.9671</td>\n",
       "      <td>2</td>\n",
       "      <td>242</td>\n",
       "      <td>17.8</td>\n",
       "      <td>4.03</td>\n",
       "      <td>34.7</td>\n",
       "    </tr>\n",
       "    <tr>\n",
       "      <th>4</th>\n",
       "      <td>0.03237</td>\n",
       "      <td>0.0</td>\n",
       "      <td>2.18</td>\n",
       "      <td>0</td>\n",
       "      <td>0.458</td>\n",
       "      <td>6.998</td>\n",
       "      <td>45.8</td>\n",
       "      <td>6.0622</td>\n",
       "      <td>3</td>\n",
       "      <td>222</td>\n",
       "      <td>18.7</td>\n",
       "      <td>2.94</td>\n",
       "      <td>33.4</td>\n",
       "    </tr>\n",
       "    <tr>\n",
       "      <th>5</th>\n",
       "      <td>0.06905</td>\n",
       "      <td>0.0</td>\n",
       "      <td>2.18</td>\n",
       "      <td>0</td>\n",
       "      <td>0.458</td>\n",
       "      <td>7.147</td>\n",
       "      <td>54.2</td>\n",
       "      <td>6.0622</td>\n",
       "      <td>3</td>\n",
       "      <td>222</td>\n",
       "      <td>18.7</td>\n",
       "      <td>5.33</td>\n",
       "      <td>36.2</td>\n",
       "    </tr>\n",
       "    <tr>\n",
       "      <th>...</th>\n",
       "      <td>...</td>\n",
       "      <td>...</td>\n",
       "      <td>...</td>\n",
       "      <td>...</td>\n",
       "      <td>...</td>\n",
       "      <td>...</td>\n",
       "      <td>...</td>\n",
       "      <td>...</td>\n",
       "      <td>...</td>\n",
       "      <td>...</td>\n",
       "      <td>...</td>\n",
       "      <td>...</td>\n",
       "      <td>...</td>\n",
       "    </tr>\n",
       "    <tr>\n",
       "      <th>502</th>\n",
       "      <td>0.06263</td>\n",
       "      <td>0.0</td>\n",
       "      <td>11.93</td>\n",
       "      <td>0</td>\n",
       "      <td>0.573</td>\n",
       "      <td>6.593</td>\n",
       "      <td>69.1</td>\n",
       "      <td>2.4786</td>\n",
       "      <td>1</td>\n",
       "      <td>273</td>\n",
       "      <td>21.0</td>\n",
       "      <td>9.67</td>\n",
       "      <td>22.4</td>\n",
       "    </tr>\n",
       "    <tr>\n",
       "      <th>503</th>\n",
       "      <td>0.04527</td>\n",
       "      <td>0.0</td>\n",
       "      <td>11.93</td>\n",
       "      <td>0</td>\n",
       "      <td>0.573</td>\n",
       "      <td>6.120</td>\n",
       "      <td>76.7</td>\n",
       "      <td>2.2875</td>\n",
       "      <td>1</td>\n",
       "      <td>273</td>\n",
       "      <td>21.0</td>\n",
       "      <td>9.08</td>\n",
       "      <td>20.6</td>\n",
       "    </tr>\n",
       "    <tr>\n",
       "      <th>504</th>\n",
       "      <td>0.06076</td>\n",
       "      <td>0.0</td>\n",
       "      <td>11.93</td>\n",
       "      <td>0</td>\n",
       "      <td>0.573</td>\n",
       "      <td>6.976</td>\n",
       "      <td>91.0</td>\n",
       "      <td>2.1675</td>\n",
       "      <td>1</td>\n",
       "      <td>273</td>\n",
       "      <td>21.0</td>\n",
       "      <td>5.64</td>\n",
       "      <td>23.9</td>\n",
       "    </tr>\n",
       "    <tr>\n",
       "      <th>505</th>\n",
       "      <td>0.10959</td>\n",
       "      <td>0.0</td>\n",
       "      <td>11.93</td>\n",
       "      <td>0</td>\n",
       "      <td>0.573</td>\n",
       "      <td>6.794</td>\n",
       "      <td>89.3</td>\n",
       "      <td>2.3889</td>\n",
       "      <td>1</td>\n",
       "      <td>273</td>\n",
       "      <td>21.0</td>\n",
       "      <td>6.48</td>\n",
       "      <td>22.0</td>\n",
       "    </tr>\n",
       "    <tr>\n",
       "      <th>506</th>\n",
       "      <td>0.04741</td>\n",
       "      <td>0.0</td>\n",
       "      <td>11.93</td>\n",
       "      <td>0</td>\n",
       "      <td>0.573</td>\n",
       "      <td>6.030</td>\n",
       "      <td>80.8</td>\n",
       "      <td>2.5050</td>\n",
       "      <td>1</td>\n",
       "      <td>273</td>\n",
       "      <td>21.0</td>\n",
       "      <td>7.88</td>\n",
       "      <td>11.9</td>\n",
       "    </tr>\n",
       "  </tbody>\n",
       "</table>\n",
       "<p>506 rows × 13 columns</p>\n",
       "</div>"
      ],
      "text/plain": [
       "        crim    zn  indus  chas    nox     rm   age     dis  rad  tax  \\\n",
       "1    0.00632  18.0   2.31     0  0.538  6.575  65.2  4.0900    1  296   \n",
       "2    0.02731   0.0   7.07     0  0.469  6.421  78.9  4.9671    2  242   \n",
       "3    0.02729   0.0   7.07     0  0.469  7.185  61.1  4.9671    2  242   \n",
       "4    0.03237   0.0   2.18     0  0.458  6.998  45.8  6.0622    3  222   \n",
       "5    0.06905   0.0   2.18     0  0.458  7.147  54.2  6.0622    3  222   \n",
       "..       ...   ...    ...   ...    ...    ...   ...     ...  ...  ...   \n",
       "502  0.06263   0.0  11.93     0  0.573  6.593  69.1  2.4786    1  273   \n",
       "503  0.04527   0.0  11.93     0  0.573  6.120  76.7  2.2875    1  273   \n",
       "504  0.06076   0.0  11.93     0  0.573  6.976  91.0  2.1675    1  273   \n",
       "505  0.10959   0.0  11.93     0  0.573  6.794  89.3  2.3889    1  273   \n",
       "506  0.04741   0.0  11.93     0  0.573  6.030  80.8  2.5050    1  273   \n",
       "\n",
       "     ptratio  lstat  medv  \n",
       "1       15.3   4.98  24.0  \n",
       "2       17.8   9.14  21.6  \n",
       "3       17.8   4.03  34.7  \n",
       "4       18.7   2.94  33.4  \n",
       "5       18.7   5.33  36.2  \n",
       "..       ...    ...   ...  \n",
       "502     21.0   9.67  22.4  \n",
       "503     21.0   9.08  20.6  \n",
       "504     21.0   5.64  23.9  \n",
       "505     21.0   6.48  22.0  \n",
       "506     21.0   7.88  11.9  \n",
       "\n",
       "[506 rows x 13 columns]"
      ]
     },
     "execution_count": 40,
     "metadata": {},
     "output_type": "execute_result"
    }
   ],
   "source": [
    "boston = pd.read_csv(\"Boston.csv\", index_col = \"Unnamed: 0\")\n",
    "boston"
   ]
  },
  {
   "cell_type": "markdown",
   "metadata": {
    "id": "EBPGWp8W8FZX"
   },
   "source": [
    "### a\n"
   ]
  },
  {
   "cell_type": "code",
   "execution_count": 41,
   "metadata": {
    "id": "OY-PHgyy8FZX"
   },
   "outputs": [
    {
     "data": {
      "text/plain": [
       "22.532806324110698"
      ]
     },
     "execution_count": 41,
     "metadata": {},
     "output_type": "execute_result"
    }
   ],
   "source": [
    "boston[\"medv\"].mean()"
   ]
  },
  {
   "cell_type": "markdown",
   "metadata": {
    "id": "vDEDnRd88FZY"
   },
   "source": [
    "\n",
    "### b\n",
    "\n"
   ]
  },
  {
   "cell_type": "code",
   "execution_count": 42,
   "metadata": {
    "id": "avBkNs9l8FZY"
   },
   "outputs": [
    {
     "data": {
      "text/plain": [
       "0.4088611474975351"
      ]
     },
     "execution_count": 42,
     "metadata": {},
     "output_type": "execute_result"
    }
   ],
   "source": [
    "#estimat standard error\n",
    "sample_sd = boston[\"medv\"].std()\n",
    "sample_sd / boston.shape[0]**0.5\n",
    "#or\n",
    "boston[\"medv\"].sem()"
   ]
  },
  {
   "cell_type": "markdown",
   "metadata": {
    "id": "vF-GuEuE8FZY"
   },
   "source": [
    "\n",
    "### c\n",
    "\n"
   ]
  },
  {
   "cell_type": "code",
   "execution_count": 43,
   "metadata": {
    "id": "2xMKjnpG8FZY"
   },
   "outputs": [
    {
     "name": "stdout",
     "output_type": "stream",
     "text": [
      "Bootstrap estimate of mean:  22.535756719367594\n",
      "Bootstrap estimate of std. error:  0.405167335688298\n"
     ]
    }
   ],
   "source": [
    "np.random.seed(42)\n",
    "n_bootstraps = 10000\n",
    "means = np.empty(n_bootstraps)\n",
    "for i in range(n_bootstraps):\n",
    "    sample = resample(boston[\"medv\"])\n",
    "    means[i] = sample.mean()\n",
    "print(\"Bootstrap estimate of mean: \", means.mean())\n",
    "print(\"Bootstrap estimate of std. error: \", means.std(ddof = 1))"
   ]
  },
  {
   "cell_type": "markdown",
   "metadata": {
    "id": "itxqWeK-8FZY"
   },
   "source": [
    "\n",
    "### d\n",
    "\n"
   ]
  },
  {
   "cell_type": "code",
   "execution_count": null,
   "metadata": {
    "id": "YFfj_i-88FZY"
   },
   "outputs": [],
   "source": []
  },
  {
   "cell_type": "markdown",
   "metadata": {
    "id": "nnZ5e7rm8FZY"
   },
   "source": [
    "\n",
    "### e\n",
    "\n"
   ]
  },
  {
   "cell_type": "code",
   "execution_count": 44,
   "metadata": {
    "id": "BtMpeAcc8FZY"
   },
   "outputs": [
    {
     "data": {
      "text/plain": [
       "21.2"
      ]
     },
     "execution_count": 44,
     "metadata": {},
     "output_type": "execute_result"
    }
   ],
   "source": [
    "boston[\"medv\"].median()"
   ]
  },
  {
   "cell_type": "markdown",
   "metadata": {
    "id": "X-_cFwSU8FZY"
   },
   "source": [
    "\n",
    "### f\n",
    "\n"
   ]
  },
  {
   "cell_type": "code",
   "execution_count": 45,
   "metadata": {
    "id": "TvPmN5Ey8FZY"
   },
   "outputs": [
    {
     "name": "stdout",
     "output_type": "stream",
     "text": [
      "Bootstrap estimate of median:  21.18772\n",
      "Bootstrap estimate of std. error:  0.37699922339634057\n"
     ]
    }
   ],
   "source": [
    "np.random.seed(42)\n",
    "n_bootstraps = 10000\n",
    "medians = np.empty(n_bootstraps)\n",
    "for i in range(n_bootstraps):\n",
    "    sample = resample(boston[\"medv\"])\n",
    "    medians[i] = sample.median()\n",
    "print(\"Bootstrap estimate of median: \", medians.mean())\n",
    "print(\"Bootstrap estimate of std. error: \", medians.std(ddof = 1))"
   ]
  },
  {
   "cell_type": "markdown",
   "metadata": {
    "id": "QWB2O4P_8FZY"
   },
   "source": [
    "\n",
    "### g\n"
   ]
  },
  {
   "cell_type": "code",
   "execution_count": 46,
   "metadata": {
    "id": "1U3c_5I78FZY"
   },
   "outputs": [
    {
     "data": {
      "text/plain": [
       "12.75"
      ]
     },
     "execution_count": 46,
     "metadata": {},
     "output_type": "execute_result"
    }
   ],
   "source": [
    "boston[\"medv\"].quantile(0.1)"
   ]
  },
  {
   "cell_type": "markdown",
   "metadata": {
    "id": "7SrNW7ey8FZY"
   },
   "source": [
    "\n",
    "### h\n"
   ]
  },
  {
   "cell_type": "code",
   "execution_count": 47,
   "metadata": {
    "id": "ZsRvMdHc8FZY"
   },
   "outputs": [
    {
     "name": "stdout",
     "output_type": "stream",
     "text": [
      "Bootstrap estimate of tenth percentile:  12.763160000000001\n",
      "Bootstrap estimate of std. error:  0.5005490678614172\n"
     ]
    }
   ],
   "source": [
    "np.random.seed(42)\n",
    "n_bootstraps = 10000\n",
    "tenth_percs = np.empty(n_bootstraps)\n",
    "for i in range(n_bootstraps):\n",
    "    sample = resample(boston[\"medv\"])\n",
    "    tenth_percs[i] = sample.quantile(0.1)\n",
    "print(\"Bootstrap estimate of tenth percentile: \", tenth_percs.mean())\n",
    "print(\"Bootstrap estimate of std. error: \", tenth_percs.std(ddof = 1))"
   ]
  },
  {
   "cell_type": "code",
   "execution_count": null,
   "metadata": {
    "id": "qSE80fqR8FZY"
   },
   "outputs": [],
   "source": []
  },
  {
   "cell_type": "code",
   "execution_count": null,
   "metadata": {},
   "outputs": [],
   "source": []
  }
 ],
 "metadata": {
  "colab": {
   "collapsed_sections": [
    "07v_FO2g8FZT",
    "JI9_fhbX8FZT",
    "ElobLmh08FZT",
    "0OMtOfAf8FZU",
    "RnBpQphn8FZU",
    "duch-oUI8FZU",
    "nSHMUDLD8FZU",
    "AG8PfAX38FZV",
    "5u5qY5fs8FZV",
    "pQ3cEC4n8FZV",
    "MHkTB2mj8FZV",
    "LS7Se-fc8FZW",
    "AknnpKcP8FZW",
    "g72a5Ixf8FZW",
    "y8el_uNM8FZW",
    "n7ROsfm28FZW",
    "ZNJ3aSRs8FZX",
    "lVeYXS0q8FZX",
    "XCpfTrrR8FZX",
    "WRDtpTQu8FZX",
    "kERygmnh8FZX",
    "pXyB_chy8FZX",
    "EBPGWp8W8FZX",
    "vDEDnRd88FZY",
    "vF-GuEuE8FZY",
    "itxqWeK-8FZY",
    "nnZ5e7rm8FZY",
    "X-_cFwSU8FZY",
    "QWB2O4P_8FZY",
    "7SrNW7ey8FZY"
   ],
   "name": "islr_ch05_exercises_firstname_lastname.ipynb",
   "provenance": []
  },
  "kernelspec": {
   "display_name": "Python 3 (ipykernel)",
   "language": "python",
   "name": "python3"
  },
  "language_info": {
   "codemirror_mode": {
    "name": "ipython",
    "version": 3
   },
   "file_extension": ".py",
   "mimetype": "text/x-python",
   "name": "python",
   "nbconvert_exporter": "python",
   "pygments_lexer": "ipython3",
   "version": "3.9.7"
  },
  "toc": {
   "base_numbering": 1,
   "nav_menu": {},
   "number_sections": true,
   "sideBar": true,
   "skip_h1_title": false,
   "title_cell": "Table of Contents",
   "title_sidebar": "Contents",
   "toc_cell": false,
   "toc_position": {
    "height": "calc(100% - 180px)",
    "left": "10px",
    "top": "150px",
    "width": "384px"
   },
   "toc_section_display": true,
   "toc_window_display": true
  }
 },
 "nbformat": 4,
 "nbformat_minor": 1
}
