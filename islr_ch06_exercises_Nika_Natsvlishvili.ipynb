{
 "cells": [
  {
   "cell_type": "markdown",
   "id": "4b5217aa",
   "metadata": {},
   "source": [
    "# ISLR Chapter 6 - Linear Models and Regularization Methods"
   ]
  },
  {
   "cell_type": "markdown",
   "id": "4fa08d48",
   "metadata": {},
   "source": [
    "## Imports"
   ]
  },
  {
   "cell_type": "code",
   "execution_count": 1,
   "id": "6e4153fb",
   "metadata": {
    "ExecuteTime": {
     "end_time": "2022-05-02T17:58:23.644253Z",
     "start_time": "2022-05-02T17:58:23.323934Z"
    }
   },
   "outputs": [],
   "source": [
    "import numpy as np\n",
    "import pandas as pd\n",
    "\n",
    "import matplotlib.pyplot as plt\n",
    "import seaborn as sns"
   ]
  },
  {
   "cell_type": "code",
   "execution_count": 2,
   "id": "2a487c11",
   "metadata": {},
   "outputs": [],
   "source": [
    "from sklearn.metrics import mean_squared_error\n",
    "from sklearn.linear_model import LinearRegression\n",
    "from sklearn.metrics import r2_score as r2\n",
    "from mlxtend.feature_selection import ExhaustiveFeatureSelector as EFS\n",
    "from mlxtend.plotting import plot_linear_regression as PLS\n",
    "from sklearn.metrics import mean_squared_error\n",
    "from sklearn.linear_model import Ridge, RidgeCV\n",
    "\n",
    "\n",
    "from sklearn.preprocessing import scale\n",
    "from sklearn.model_selection import KFold as KF\n",
    "from sklearn.decomposition import PCA\n",
    "\n",
    "from sklearn.linear_model import Lasso, LassoCV\n",
    "\n",
    "import statsmodels.api as sm\n"
   ]
  },
  {
   "cell_type": "markdown",
   "id": "12551fb4",
   "metadata": {},
   "source": [
    "## Exercise 8"
   ]
  },
  {
   "cell_type": "markdown",
   "id": "bf6faf2a",
   "metadata": {},
   "source": [
    "### a"
   ]
  },
  {
   "cell_type": "code",
   "execution_count": 3,
   "id": "39d19661",
   "metadata": {},
   "outputs": [],
   "source": [
    "X = np.random.normal(size=100)\n",
    "epsilon = np.random.normal(size=100)"
   ]
  },
  {
   "cell_type": "code",
   "execution_count": 4,
   "id": "edc2b782",
   "metadata": {},
   "outputs": [
    {
     "data": {
      "text/plain": [
       "(100, 100)"
      ]
     },
     "execution_count": 4,
     "metadata": {},
     "output_type": "execute_result"
    }
   ],
   "source": [
    "len(X), len(epsilon)"
   ]
  },
  {
   "cell_type": "code",
   "execution_count": null,
   "id": "9791a1c2",
   "metadata": {},
   "outputs": [],
   "source": []
  },
  {
   "cell_type": "markdown",
   "id": "ce08c803",
   "metadata": {},
   "source": [
    "### b"
   ]
  },
  {
   "cell_type": "code",
   "execution_count": 5,
   "id": "84e0b0a5",
   "metadata": {},
   "outputs": [
    {
     "data": {
      "text/plain": [
       "array([ 187.08141333,   78.49390895,   69.41944757,   83.93925268,\n",
       "        227.49835932,   81.59396752,   80.93924261,  104.21416963,\n",
       "       1085.3818511 ,   57.49198441,   82.69373394,   77.76950666,\n",
       "         83.39532904,   82.24824063,  621.27196118,  388.67873214,\n",
       "         75.8704883 ,   83.71596674,   42.33612589,  348.73391231,\n",
       "         84.68960682,   82.45488317,   55.36918063,   78.64381105,\n",
       "        149.65184508,   93.10305651,   83.27790871,   97.74531633,\n",
       "        121.84270077,  108.55877953,   64.07305615, -568.61708481,\n",
       "          3.65074722,   33.11995057,   85.05793478,   81.87198304,\n",
       "        250.27172101,   82.62566828,   81.91319282,  541.99618224,\n",
       "         84.75532667,   82.80877071,   69.20690635,   82.78788355,\n",
       "       1512.75820692,   77.06594788,   89.59041319,  144.18179252,\n",
       "        176.49491557,   90.21653968,  -48.90351283,   83.42004095,\n",
       "        137.39993324,   85.08760538,   84.0493773 , -143.0000734 ,\n",
       "        135.06883195,  226.04891359,   61.34200948,   49.01426879,\n",
       "         49.03359447,   80.99313678,  426.27471153,   98.05229974,\n",
       "        177.06516495,  117.0208823 ,  -22.00434539,   79.24439491,\n",
       "        108.0044894 ,  -29.17635019,   44.89381511,  349.00557672,\n",
       "         23.75688308,   10.04622847,   81.55813592, -636.55345688,\n",
       "         83.61957036,   45.29857767,   37.42064977,   90.72170181,\n",
       "         82.13127361,   81.7956736 ,   55.96019082, 1646.56415459,\n",
       "         85.06998646,  309.61541481,  114.04672773, -436.42130274,\n",
       "         53.87097242,   81.56634279,  110.39108146,   82.4568048 ,\n",
       "         81.89909755,  308.52689585,   80.38597717,   94.99668935,\n",
       "        515.40087409,  103.3025326 ,   97.42676063,  740.94815797])"
      ]
     },
     "execution_count": 5,
     "metadata": {},
     "output_type": "execute_result"
    }
   ],
   "source": [
    "BETA0 = 82\n",
    "BETA1 = -5.32\n",
    "BETA2 = 28.62\n",
    "BETA3 = 89.0\n",
    "Y = BETA0 + (BETA1*X) + (BETA2*pow(X, 2)) + (BETA3*pow(X, 3)) + epsilon\n",
    "Y"
   ]
  },
  {
   "cell_type": "code",
   "execution_count": 6,
   "id": "4fadadec",
   "metadata": {},
   "outputs": [
    {
     "data": {
      "text/html": [
       "<div>\n",
       "<style scoped>\n",
       "    .dataframe tbody tr th:only-of-type {\n",
       "        vertical-align: middle;\n",
       "    }\n",
       "\n",
       "    .dataframe tbody tr th {\n",
       "        vertical-align: top;\n",
       "    }\n",
       "\n",
       "    .dataframe thead th {\n",
       "        text-align: right;\n",
       "    }\n",
       "</style>\n",
       "<table border=\"1\" class=\"dataframe\">\n",
       "  <thead>\n",
       "    <tr style=\"text-align: right;\">\n",
       "      <th></th>\n",
       "      <th>X</th>\n",
       "      <th>Y</th>\n",
       "    </tr>\n",
       "  </thead>\n",
       "  <tbody>\n",
       "    <tr>\n",
       "      <th>0</th>\n",
       "      <td>0.978856</td>\n",
       "      <td>187.081413</td>\n",
       "    </tr>\n",
       "    <tr>\n",
       "      <th>1</th>\n",
       "      <td>-0.560706</td>\n",
       "      <td>78.493909</td>\n",
       "    </tr>\n",
       "    <tr>\n",
       "      <th>2</th>\n",
       "      <td>-0.703848</td>\n",
       "      <td>69.419448</td>\n",
       "    </tr>\n",
       "    <tr>\n",
       "      <th>3</th>\n",
       "      <td>-0.163484</td>\n",
       "      <td>83.939253</td>\n",
       "    </tr>\n",
       "    <tr>\n",
       "      <th>4</th>\n",
       "      <td>1.091981</td>\n",
       "      <td>227.498359</td>\n",
       "    </tr>\n",
       "  </tbody>\n",
       "</table>\n",
       "</div>"
      ],
      "text/plain": [
       "          X           Y\n",
       "0  0.978856  187.081413\n",
       "1 -0.560706   78.493909\n",
       "2 -0.703848   69.419448\n",
       "3 -0.163484   83.939253\n",
       "4  1.091981  227.498359"
      ]
     },
     "execution_count": 6,
     "metadata": {},
     "output_type": "execute_result"
    }
   ],
   "source": [
    "df = pd.DataFrame([X, Y]).T\n",
    "df.columns = ['X', 'Y']\n",
    "df.head()"
   ]
  },
  {
   "cell_type": "markdown",
   "id": "3d57939d",
   "metadata": {},
   "source": [
    "### c"
   ]
  },
  {
   "cell_type": "code",
   "execution_count": null,
   "id": "24223928",
   "metadata": {},
   "outputs": [],
   "source": []
  },
  {
   "cell_type": "code",
   "execution_count": 7,
   "id": "07aa86e7",
   "metadata": {},
   "outputs": [
    {
     "data": {
      "text/html": [
       "<div>\n",
       "<style scoped>\n",
       "    .dataframe tbody tr th:only-of-type {\n",
       "        vertical-align: middle;\n",
       "    }\n",
       "\n",
       "    .dataframe tbody tr th {\n",
       "        vertical-align: top;\n",
       "    }\n",
       "\n",
       "    .dataframe thead th {\n",
       "        text-align: right;\n",
       "    }\n",
       "</style>\n",
       "<table border=\"1\" class=\"dataframe\">\n",
       "  <thead>\n",
       "    <tr style=\"text-align: right;\">\n",
       "      <th></th>\n",
       "      <th>X</th>\n",
       "      <th>X^2</th>\n",
       "      <th>X^3</th>\n",
       "      <th>X^4</th>\n",
       "      <th>X^5</th>\n",
       "      <th>X^6</th>\n",
       "      <th>X^7</th>\n",
       "      <th>X^8</th>\n",
       "      <th>X^9</th>\n",
       "      <th>X^10</th>\n",
       "    </tr>\n",
       "  </thead>\n",
       "  <tbody>\n",
       "    <tr>\n",
       "      <th>0</th>\n",
       "      <td>0.978856</td>\n",
       "      <td>0.958160</td>\n",
       "      <td>0.937901</td>\n",
       "      <td>0.918070</td>\n",
       "      <td>0.898659</td>\n",
       "      <td>0.879658</td>\n",
       "      <td>0.861059</td>\n",
       "      <td>8.428529e-01</td>\n",
       "      <td>8.250319e-01</td>\n",
       "      <td>8.075878e-01</td>\n",
       "    </tr>\n",
       "    <tr>\n",
       "      <th>1</th>\n",
       "      <td>-0.560706</td>\n",
       "      <td>0.314391</td>\n",
       "      <td>-0.176281</td>\n",
       "      <td>0.098842</td>\n",
       "      <td>-0.055421</td>\n",
       "      <td>0.031075</td>\n",
       "      <td>-0.017424</td>\n",
       "      <td>9.769718e-03</td>\n",
       "      <td>-5.477940e-03</td>\n",
       "      <td>3.071514e-03</td>\n",
       "    </tr>\n",
       "    <tr>\n",
       "      <th>2</th>\n",
       "      <td>-0.703848</td>\n",
       "      <td>0.495402</td>\n",
       "      <td>-0.348687</td>\n",
       "      <td>0.245423</td>\n",
       "      <td>-0.172740</td>\n",
       "      <td>0.121583</td>\n",
       "      <td>-0.085576</td>\n",
       "      <td>6.023242e-02</td>\n",
       "      <td>-4.239446e-02</td>\n",
       "      <td>2.983925e-02</td>\n",
       "    </tr>\n",
       "    <tr>\n",
       "      <th>3</th>\n",
       "      <td>-0.163484</td>\n",
       "      <td>0.026727</td>\n",
       "      <td>-0.004369</td>\n",
       "      <td>0.000714</td>\n",
       "      <td>-0.000117</td>\n",
       "      <td>0.000019</td>\n",
       "      <td>-0.000003</td>\n",
       "      <td>5.102663e-07</td>\n",
       "      <td>-8.342024e-08</td>\n",
       "      <td>1.363785e-08</td>\n",
       "    </tr>\n",
       "    <tr>\n",
       "      <th>4</th>\n",
       "      <td>1.091981</td>\n",
       "      <td>1.192422</td>\n",
       "      <td>1.302101</td>\n",
       "      <td>1.421869</td>\n",
       "      <td>1.552654</td>\n",
       "      <td>1.695468</td>\n",
       "      <td>1.851418</td>\n",
       "      <td>2.021712e+00</td>\n",
       "      <td>2.207671e+00</td>\n",
       "      <td>2.410734e+00</td>\n",
       "    </tr>\n",
       "  </tbody>\n",
       "</table>\n",
       "</div>"
      ],
      "text/plain": [
       "          X       X^2       X^3       X^4       X^5       X^6       X^7  \\\n",
       "0  0.978856  0.958160  0.937901  0.918070  0.898659  0.879658  0.861059   \n",
       "1 -0.560706  0.314391 -0.176281  0.098842 -0.055421  0.031075 -0.017424   \n",
       "2 -0.703848  0.495402 -0.348687  0.245423 -0.172740  0.121583 -0.085576   \n",
       "3 -0.163484  0.026727 -0.004369  0.000714 -0.000117  0.000019 -0.000003   \n",
       "4  1.091981  1.192422  1.302101  1.421869  1.552654  1.695468  1.851418   \n",
       "\n",
       "            X^8           X^9          X^10  \n",
       "0  8.428529e-01  8.250319e-01  8.075878e-01  \n",
       "1  9.769718e-03 -5.477940e-03  3.071514e-03  \n",
       "2  6.023242e-02 -4.239446e-02  2.983925e-02  \n",
       "3  5.102663e-07 -8.342024e-08  1.363785e-08  \n",
       "4  2.021712e+00  2.207671e+00  2.410734e+00  "
      ]
     },
     "execution_count": 7,
     "metadata": {},
     "output_type": "execute_result"
    }
   ],
   "source": [
    "dfX = pd.DataFrame([X, pow(X, 2), pow(X, 3), pow(X, 4), pow(X, 5), pow(X, 6), pow(X, 7), pow(X, 8), pow(X, 9), pow(X, 10)]).T\n",
    "dfX.columns = ['X', 'X^2', 'X^3', 'X^4', 'X^5', 'X^6', 'X^7', 'X^8', 'X^9', 'X^10']\n",
    "dfX.head()"
   ]
  },
  {
   "cell_type": "markdown",
   "id": "0dbf8135",
   "metadata": {},
   "source": [
    "### d"
   ]
  },
  {
   "cell_type": "code",
   "execution_count": null,
   "id": "3120f621",
   "metadata": {},
   "outputs": [],
   "source": []
  },
  {
   "cell_type": "code",
   "execution_count": null,
   "id": "b8971e57",
   "metadata": {},
   "outputs": [],
   "source": []
  },
  {
   "cell_type": "code",
   "execution_count": 8,
   "id": "b97f62e9",
   "metadata": {},
   "outputs": [
    {
     "data": {
      "text/html": [
       "<div>\n",
       "<style scoped>\n",
       "    .dataframe tbody tr th:only-of-type {\n",
       "        vertical-align: middle;\n",
       "    }\n",
       "\n",
       "    .dataframe tbody tr th {\n",
       "        vertical-align: top;\n",
       "    }\n",
       "\n",
       "    .dataframe thead th {\n",
       "        text-align: right;\n",
       "    }\n",
       "</style>\n",
       "<table border=\"1\" class=\"dataframe\">\n",
       "  <thead>\n",
       "    <tr style=\"text-align: right;\">\n",
       "      <th></th>\n",
       "      <th>Y</th>\n",
       "    </tr>\n",
       "  </thead>\n",
       "  <tbody>\n",
       "    <tr>\n",
       "      <th>0</th>\n",
       "      <td>187.081413</td>\n",
       "    </tr>\n",
       "    <tr>\n",
       "      <th>1</th>\n",
       "      <td>78.493909</td>\n",
       "    </tr>\n",
       "    <tr>\n",
       "      <th>2</th>\n",
       "      <td>69.419448</td>\n",
       "    </tr>\n",
       "    <tr>\n",
       "      <th>3</th>\n",
       "      <td>83.939253</td>\n",
       "    </tr>\n",
       "    <tr>\n",
       "      <th>4</th>\n",
       "      <td>227.498359</td>\n",
       "    </tr>\n",
       "  </tbody>\n",
       "</table>\n",
       "</div>"
      ],
      "text/plain": [
       "            Y\n",
       "0  187.081413\n",
       "1   78.493909\n",
       "2   69.419448\n",
       "3   83.939253\n",
       "4  227.498359"
      ]
     },
     "execution_count": 8,
     "metadata": {},
     "output_type": "execute_result"
    }
   ],
   "source": [
    "dfY = pd.DataFrame(df['Y'])\n",
    "dfY.head()"
   ]
  },
  {
   "cell_type": "code",
   "execution_count": 9,
   "id": "a29b4f70",
   "metadata": {},
   "outputs": [
    {
     "name": "stderr",
     "output_type": "stream",
     "text": [
      "Features: 1023/1023"
     ]
    }
   ],
   "source": [
    "lm = LinearRegression()\n",
    "efs = EFS(lm, min_features=1, max_features=10, scoring='r2', cv=10).fit(dfX, dfY)"
   ]
  },
  {
   "cell_type": "markdown",
   "id": "500ed81e",
   "metadata": {},
   "source": [
    "### e"
   ]
  },
  {
   "cell_type": "code",
   "execution_count": null,
   "id": "756c83c3",
   "metadata": {},
   "outputs": [],
   "source": []
  },
  {
   "cell_type": "markdown",
   "id": "34b1a4c8",
   "metadata": {},
   "source": [
    "### f"
   ]
  },
  {
   "cell_type": "code",
   "execution_count": 10,
   "id": "d9c555f6",
   "metadata": {},
   "outputs": [],
   "source": [
    "# SCORE = pd.DataFrame()\n",
    "# for k in efs.get_metric_dict():\n",
    "#     score = efs.get_metric_dict()[k]['std_err']\n",
    "#     SCORE = SCORE.append([score])\n",
    "\n",
    "# SCORE.columns = ['std err']\n",
    "# SCORE.reset_index(drop=True, inplace=True)\n",
    "\n",
    "# plt.xkcd()\n",
    "# plt.figure(figsize=(25, 10))\n",
    "# plt.plot(SCORE)"
   ]
  },
  {
   "cell_type": "code",
   "execution_count": 11,
   "id": "3e711225",
   "metadata": {},
   "outputs": [],
   "source": [
    "# minSCORE = SCORE.loc[SCORE['std err'] == min(SCORE['std err'])]\n",
    "# minSCORE"
   ]
  },
  {
   "cell_type": "code",
   "execution_count": null,
   "id": "251217d7",
   "metadata": {},
   "outputs": [],
   "source": []
  },
  {
   "cell_type": "markdown",
   "id": "302e1946",
   "metadata": {},
   "source": [
    "## Exercise 9\n",
    "\n",
    "* [College.csv](https://www.statlearning.com/s/College.csv)"
   ]
  },
  {
   "cell_type": "code",
   "execution_count": 12,
   "id": "7e0c4472",
   "metadata": {
    "ExecuteTime": {
     "end_time": "2022-05-02T17:58:23.659540Z",
     "start_time": "2022-05-02T17:58:23.645485Z"
    }
   },
   "outputs": [],
   "source": [
    "# !wget --no-check-certificate 'https://www.statlearning.com/s/College.csv' -O College.csv\n",
    "from sklearn.metrics import mean_squared_error\n",
    "from sklearn.linear_model import LinearRegression\n",
    "from sklearn.metrics import r2_score as r2, mean_squared_error\n",
    "from mlxtend.feature_selection import ExhaustiveFeatureSelector as EFS\n",
    "from mlxtend.plotting import plot_linear_regression as PLS"
   ]
  },
  {
   "cell_type": "code",
   "execution_count": 13,
   "id": "45e3984d",
   "metadata": {},
   "outputs": [],
   "source": [
    "df = pd.read_csv(\"College.csv\", index_col = 'Unnamed: 0')"
   ]
  },
  {
   "cell_type": "code",
   "execution_count": 14,
   "id": "d45ac506",
   "metadata": {},
   "outputs": [
    {
     "data": {
      "text/html": [
       "<div>\n",
       "<style scoped>\n",
       "    .dataframe tbody tr th:only-of-type {\n",
       "        vertical-align: middle;\n",
       "    }\n",
       "\n",
       "    .dataframe tbody tr th {\n",
       "        vertical-align: top;\n",
       "    }\n",
       "\n",
       "    .dataframe thead th {\n",
       "        text-align: right;\n",
       "    }\n",
       "</style>\n",
       "<table border=\"1\" class=\"dataframe\">\n",
       "  <thead>\n",
       "    <tr style=\"text-align: right;\">\n",
       "      <th></th>\n",
       "      <th>Private</th>\n",
       "      <th>Apps</th>\n",
       "      <th>Accept</th>\n",
       "      <th>Enroll</th>\n",
       "      <th>Top10perc</th>\n",
       "      <th>Top25perc</th>\n",
       "      <th>F.Undergrad</th>\n",
       "      <th>P.Undergrad</th>\n",
       "      <th>Outstate</th>\n",
       "      <th>Room.Board</th>\n",
       "      <th>Books</th>\n",
       "      <th>Personal</th>\n",
       "      <th>PhD</th>\n",
       "      <th>Terminal</th>\n",
       "      <th>S.F.Ratio</th>\n",
       "      <th>perc.alumni</th>\n",
       "      <th>Expend</th>\n",
       "      <th>Grad.Rate</th>\n",
       "    </tr>\n",
       "  </thead>\n",
       "  <tbody>\n",
       "    <tr>\n",
       "      <th>Abilene Christian University</th>\n",
       "      <td>Yes</td>\n",
       "      <td>1660</td>\n",
       "      <td>1232</td>\n",
       "      <td>721</td>\n",
       "      <td>23</td>\n",
       "      <td>52</td>\n",
       "      <td>2885</td>\n",
       "      <td>537</td>\n",
       "      <td>7440</td>\n",
       "      <td>3300</td>\n",
       "      <td>450</td>\n",
       "      <td>2200</td>\n",
       "      <td>70</td>\n",
       "      <td>78</td>\n",
       "      <td>18.1</td>\n",
       "      <td>12</td>\n",
       "      <td>7041</td>\n",
       "      <td>60</td>\n",
       "    </tr>\n",
       "    <tr>\n",
       "      <th>Adelphi University</th>\n",
       "      <td>Yes</td>\n",
       "      <td>2186</td>\n",
       "      <td>1924</td>\n",
       "      <td>512</td>\n",
       "      <td>16</td>\n",
       "      <td>29</td>\n",
       "      <td>2683</td>\n",
       "      <td>1227</td>\n",
       "      <td>12280</td>\n",
       "      <td>6450</td>\n",
       "      <td>750</td>\n",
       "      <td>1500</td>\n",
       "      <td>29</td>\n",
       "      <td>30</td>\n",
       "      <td>12.2</td>\n",
       "      <td>16</td>\n",
       "      <td>10527</td>\n",
       "      <td>56</td>\n",
       "    </tr>\n",
       "    <tr>\n",
       "      <th>Adrian College</th>\n",
       "      <td>Yes</td>\n",
       "      <td>1428</td>\n",
       "      <td>1097</td>\n",
       "      <td>336</td>\n",
       "      <td>22</td>\n",
       "      <td>50</td>\n",
       "      <td>1036</td>\n",
       "      <td>99</td>\n",
       "      <td>11250</td>\n",
       "      <td>3750</td>\n",
       "      <td>400</td>\n",
       "      <td>1165</td>\n",
       "      <td>53</td>\n",
       "      <td>66</td>\n",
       "      <td>12.9</td>\n",
       "      <td>30</td>\n",
       "      <td>8735</td>\n",
       "      <td>54</td>\n",
       "    </tr>\n",
       "    <tr>\n",
       "      <th>Agnes Scott College</th>\n",
       "      <td>Yes</td>\n",
       "      <td>417</td>\n",
       "      <td>349</td>\n",
       "      <td>137</td>\n",
       "      <td>60</td>\n",
       "      <td>89</td>\n",
       "      <td>510</td>\n",
       "      <td>63</td>\n",
       "      <td>12960</td>\n",
       "      <td>5450</td>\n",
       "      <td>450</td>\n",
       "      <td>875</td>\n",
       "      <td>92</td>\n",
       "      <td>97</td>\n",
       "      <td>7.7</td>\n",
       "      <td>37</td>\n",
       "      <td>19016</td>\n",
       "      <td>59</td>\n",
       "    </tr>\n",
       "    <tr>\n",
       "      <th>Alaska Pacific University</th>\n",
       "      <td>Yes</td>\n",
       "      <td>193</td>\n",
       "      <td>146</td>\n",
       "      <td>55</td>\n",
       "      <td>16</td>\n",
       "      <td>44</td>\n",
       "      <td>249</td>\n",
       "      <td>869</td>\n",
       "      <td>7560</td>\n",
       "      <td>4120</td>\n",
       "      <td>800</td>\n",
       "      <td>1500</td>\n",
       "      <td>76</td>\n",
       "      <td>72</td>\n",
       "      <td>11.9</td>\n",
       "      <td>2</td>\n",
       "      <td>10922</td>\n",
       "      <td>15</td>\n",
       "    </tr>\n",
       "  </tbody>\n",
       "</table>\n",
       "</div>"
      ],
      "text/plain": [
       "                             Private  Apps  Accept  Enroll  Top10perc  \\\n",
       "Abilene Christian University     Yes  1660    1232     721         23   \n",
       "Adelphi University               Yes  2186    1924     512         16   \n",
       "Adrian College                   Yes  1428    1097     336         22   \n",
       "Agnes Scott College              Yes   417     349     137         60   \n",
       "Alaska Pacific University        Yes   193     146      55         16   \n",
       "\n",
       "                              Top25perc  F.Undergrad  P.Undergrad  Outstate  \\\n",
       "Abilene Christian University         52         2885          537      7440   \n",
       "Adelphi University                   29         2683         1227     12280   \n",
       "Adrian College                       50         1036           99     11250   \n",
       "Agnes Scott College                  89          510           63     12960   \n",
       "Alaska Pacific University            44          249          869      7560   \n",
       "\n",
       "                              Room.Board  Books  Personal  PhD  Terminal  \\\n",
       "Abilene Christian University        3300    450      2200   70        78   \n",
       "Adelphi University                  6450    750      1500   29        30   \n",
       "Adrian College                      3750    400      1165   53        66   \n",
       "Agnes Scott College                 5450    450       875   92        97   \n",
       "Alaska Pacific University           4120    800      1500   76        72   \n",
       "\n",
       "                              S.F.Ratio  perc.alumni  Expend  Grad.Rate  \n",
       "Abilene Christian University       18.1           12    7041         60  \n",
       "Adelphi University                 12.2           16   10527         56  \n",
       "Adrian College                     12.9           30    8735         54  \n",
       "Agnes Scott College                 7.7           37   19016         59  \n",
       "Alaska Pacific University          11.9            2   10922         15  "
      ]
     },
     "execution_count": 14,
     "metadata": {},
     "output_type": "execute_result"
    }
   ],
   "source": [
    "df.head()\n"
   ]
  },
  {
   "cell_type": "code",
   "execution_count": 15,
   "id": "08f5eeb4",
   "metadata": {},
   "outputs": [],
   "source": [
    "dummy = pd.get_dummies(df.Private, prefix='Private')"
   ]
  },
  {
   "cell_type": "code",
   "execution_count": 16,
   "id": "a4ad7866",
   "metadata": {},
   "outputs": [],
   "source": [
    "df.Private = dummy.Private_Yes"
   ]
  },
  {
   "cell_type": "markdown",
   "id": "28cb4a9b",
   "metadata": {},
   "source": [
    "### a"
   ]
  },
  {
   "cell_type": "code",
   "execution_count": 17,
   "id": "018199a2",
   "metadata": {},
   "outputs": [],
   "source": [
    "# set random seed for reproducible results\n",
    "np.random.seed(0)\n",
    "\n",
    "# construct randomly chosen train set roughly 50/50 split\n",
    "train = np.random.choice([True,False], size=len(df))\n",
    "df_train = df[train]\n",
    "df_test = df[~train]"
   ]
  },
  {
   "cell_type": "markdown",
   "id": "d9d14690",
   "metadata": {},
   "source": [
    "### b"
   ]
  },
  {
   "cell_type": "code",
   "execution_count": 18,
   "id": "a2a099d9",
   "metadata": {},
   "outputs": [
    {
     "name": "stderr",
     "output_type": "stream",
     "text": [
      "D:\\Anaconda\\lib\\site-packages\\statsmodels\\tsa\\tsatools.py:142: FutureWarning: In a future version of pandas all arguments of concat except for the argument 'objs' will be keyword-only\n",
      "  x = pd.concat(x[::order], 1)\n"
     ]
    },
    {
     "name": "stdout",
     "output_type": "stream",
     "text": [
      "The Least Squares Test MSE =  1848054.149777522\n"
     ]
    }
   ],
   "source": [
    "# Fit a least squares model to predict the number of recieved apps as function of all the other features\n",
    "y_train = df_train['Apps']\n",
    "features = list(df)\n",
    "features.remove('Apps')\n",
    "X_train = df_train[features]\n",
    "\n",
    "# Fit model, report params\n",
    "lm = sm.OLS(y_train,sm.add_constant(X_train)).fit()\n",
    "lm.params\n",
    "\n",
    "# compute MSE\n",
    "y_predicted = lm.predict(sm.add_constant(df_test[features]))\n",
    "\n",
    "LS_MSE = np.mean((df_test.Apps.values-y_predicted)**2)\n",
    "print(\"The Least Squares Test MSE = \", LS_MSE)"
   ]
  },
  {
   "cell_type": "markdown",
   "id": "8b3bc88c",
   "metadata": {},
   "source": [
    "### c"
   ]
  },
  {
   "cell_type": "code",
   "execution_count": 19,
   "id": "f227a965",
   "metadata": {},
   "outputs": [
    {
     "data": {
      "image/png": "[encoded data removed]",
      "text/plain": [
       "<Figure size 720x360 with 1 Axes>"
      ]
     },
     "metadata": {
      "needs_background": "light"
     },
     "output_type": "display_data"
    }
   ],
   "source": [
    "# Fit ridge regression over a range of possible alphas\n",
    "alphas = np.logspace(-4, 0, 100)\n",
    "# Build estimator\n",
    "ridge_cv = RidgeCV(alphas = alphas, normalize=True, store_cv_values=True)\n",
    "# Fit model\n",
    "results = ridge_cv.fit(X_train.values, y_train.values)\n",
    "\n",
    "# the results contains a np array [num_samples,num_alphas] a form of LOOCV was performed so \n",
    "# the mean(axis=0) is the average MSE for a given alpha\n",
    "cvs = np.mean(results.cv_values_, axis=0)\n",
    "# get the minimum error rate and get the optimum alpha\n",
    "min_cvs = np.min(cvs)\n",
    "min_alpha = results.alpha_\n",
    "\n",
    "# Plot\n",
    "fig, ax = plt.subplots(figsize=(10,5))\n",
    "ax.plot(alphas,np.mean(results.cv_values_,axis=0), color='b')\n",
    "ax.plot(min_alpha, min_cvs, color='r', marker='o',)\n",
    "ax.set_xscale('log')\n",
    "ax.set_xlabel('alpha log-scale');\n",
    "ax.set_ylabel('Train Set MSE');\n"
   ]
  },
  {
   "cell_type": "code",
   "execution_count": 20,
   "id": "e73079bf",
   "metadata": {},
   "outputs": [
    {
     "name": "stdout",
     "output_type": "stream",
     "text": [
      "The Ridge Model Test MSE =  1953825.6534590614 \n",
      "\n",
      "Intercept     -1062.694072\n",
      "Private        -684.649474\n",
      "Accept            1.058455\n",
      "Enroll            0.334379\n",
      "Top10perc        38.852495\n",
      "Top25perc        -9.697783\n",
      "F.Undergrad       0.005961\n",
      "P.Undergrad       0.055038\n",
      "Outstate         -0.024309\n",
      "Room.Board        0.177457\n",
      "Books             0.281210\n",
      "Personal         -0.029562\n",
      "PhD              -4.390837\n",
      "Terminal         -4.765855\n",
      "S.F.Ratio        19.370603\n",
      "perc.alumni      -5.691326\n",
      "Expend            0.062184\n",
      "Grad.Rate        11.416957\n",
      "dtype: float64\n"
     ]
    }
   ],
   "source": [
    "# Get the ridge models predictions on the test set\n",
    "ridge_predicted = results.predict(df_test[features].values)\n",
    "\n",
    "# Get the MSE of the Ridges predictions\n",
    "Ridge_MSE = np.mean((df_test.Apps.values-ridge_predicted)**2)\n",
    "print(\"The Ridge Model Test MSE = \", Ridge_MSE, '\\n')\n",
    "\n",
    "print(pd.Series(data = np.hstack([results.intercept_,results.coef_]), index=['Intercept'] + features))"
   ]
  },
  {
   "cell_type": "markdown",
   "id": "69c5d1bd",
   "metadata": {},
   "source": [
    "### d"
   ]
  },
  {
   "cell_type": "code",
   "execution_count": 21,
   "id": "db5574a8",
   "metadata": {},
   "outputs": [
    {
     "data": {
      "image/png": "[encoded data removed]",
      "text/plain": [
       "<Figure size 720x360 with 1 Axes>"
      ]
     },
     "metadata": {
      "needs_background": "light"
     },
     "output_type": "display_data"
    }
   ],
   "source": [
    "# Use LassoCV to perform 5-fold cross validation to determine optimal alpha\n",
    "lasso_cv = LassoCV(alphas = np.logspace(-4,0,100), normalize=True, cv=5, max_iter=100000)\n",
    "lasso_cv.fit(X_train.values, y_train.values)\n",
    "\n",
    "# The mse estimates are the mean aross folds (cols)\n",
    "mses = np.mean(lasso_cv.mse_path_, axis=1)\n",
    "\n",
    "# Plot CV error vs alpha\n",
    "fig, ax = plt.subplots(figsize=(10,5));\n",
    "ax.plot(lasso_cv.alphas_,mses, color='b');\n",
    "ax.plot(lasso_cv.alpha_, np.min(mses), marker='o', color='r', markersize=8);\n",
    "ax.set_xlabel('alpha log-scale');\n",
    "ax.set_xscale('log')\n",
    "ax.set_ylabel('5-Fold CV Train MSE');"
   ]
  },
  {
   "cell_type": "code",
   "execution_count": 22,
   "id": "5c81cf51",
   "metadata": {},
   "outputs": [
    {
     "name": "stdout",
     "output_type": "stream",
     "text": [
      "The Lasso Model Test MSE =  1860777.358657831 \n",
      "\n",
      "Alpha =  0.43287612810830617 \n",
      "\n",
      "Intercept     -1006.260175\n",
      "Private        -671.472978\n",
      "Accept            1.123507\n",
      "Enroll            0.195411\n",
      "Top10perc        35.843090\n",
      "Top25perc        -6.979835\n",
      "F.Undergrad       0.002698\n",
      "P.Undergrad       0.048355\n",
      "Outstate         -0.021418\n",
      "Room.Board        0.158239\n",
      "Books             0.223854\n",
      "Personal         -0.008984\n",
      "PhD              -3.480322\n",
      "Terminal         -4.468332\n",
      "S.F.Ratio        16.709474\n",
      "perc.alumni      -4.605209\n",
      "Expend            0.058739\n",
      "Grad.Rate         9.534166\n",
      "dtype: float64\n"
     ]
    }
   ],
   "source": [
    "# Get the lasso model predictions on the test set\n",
    "lasso_predicted = lasso_cv.predict(df_test[features].values)\n",
    "\n",
    "# Get the MSE of the lasso predictions\n",
    "Lasso_MSE = np.mean((df_test.Apps.values-lasso_predicted)**2)\n",
    "print(\"The Lasso Model Test MSE = \", Lasso_MSE,'\\n')\n",
    "print('Alpha = ', lasso_cv.alpha_,'\\n')\n",
    "print(pd.Series(data = np.hstack([lasso_cv.intercept_,lasso_cv.coef_]), index=['Intercept'] + features))"
   ]
  },
  {
   "cell_type": "markdown",
   "id": "6e344e22",
   "metadata": {},
   "source": [
    "### g"
   ]
  },
  {
   "cell_type": "code",
   "execution_count": null,
   "id": "9b76ae91",
   "metadata": {},
   "outputs": [],
   "source": []
  },
  {
   "cell_type": "code",
   "execution_count": null,
   "id": "67d5d120",
   "metadata": {},
   "outputs": [],
   "source": []
  }
 ],
 "metadata": {
  "kernelspec": {
   "display_name": "Python 3 (ipykernel)",
   "language": "python",
   "name": "python3"
  },
  "language_info": {
   "codemirror_mode": {
    "name": "ipython",
    "version": 3
   },
   "file_extension": ".py",
   "mimetype": "text/x-python",
   "name": "python",
   "nbconvert_exporter": "python",
   "pygments_lexer": "ipython3",
   "version": "3.9.7"
  },
  "toc": {
   "base_numbering": 1,
   "nav_menu": {},
   "number_sections": true,
   "sideBar": true,
   "skip_h1_title": false,
   "title_cell": "Table of Contents",
   "title_sidebar": "Contents",
   "toc_cell": false,
   "toc_position": {},
   "toc_section_display": true,
   "toc_window_display": false
  }
 },
 "nbformat": 4,
 "nbformat_minor": 5
}
