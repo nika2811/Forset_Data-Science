{
 "cells": [
  {
   "cell_type": "code",
   "execution_count": null,
   "id": "379debd8",
   "metadata": {
    "id": "379debd8"
   },
   "outputs": [],
   "source": []
  },
  {
   "cell_type": "markdown",
   "id": "98656ffd",
   "metadata": {
    "id": "98656ffd"
   },
   "source": [
    "## Imports"
   ]
  },
  {
   "cell_type": "code",
   "execution_count": 1,
   "id": "e56f1b6a",
   "metadata": {
    "ExecuteTime": {
     "end_time": "2022-04-18T17:22:18.687497Z",
     "start_time": "2022-04-18T17:22:17.296763Z"
    },
    "id": "e56f1b6a"
   },
   "outputs": [],
   "source": [
    "import itertools\n",
    "\n",
    "import numpy as np\n",
    "import pandas as pd\n",
    "\n",
    "from matplotlib import pyplot as plt\n",
    "import seaborn as sns\n",
    "\n",
    "from sklearn.linear_model import LinearRegression"
   ]
  },
  {
   "cell_type": "code",
   "execution_count": 2,
   "id": "0e0046cc",
   "metadata": {
    "colab": {
     "base_uri": "https://localhost:8080/"
    },
    "executionInfo": {
     "elapsed": 395,
     "status": "ok",
     "timestamp": 1651237641993,
     "user": {
      "displayName": "Lasha Pertakhia",
      "userId": "04655181451055411020"
     },
     "user_tz": -240
    },
    "id": "0e0046cc",
    "outputId": "7fbb355e-a90e-47bf-f02e-5168fff276ed"
   },
   "outputs": [],
   "source": [
    "from pathlib import Path\n",
    "import urllib.request\n",
    "import zipfile\n",
    "\n",
    "# zip_url =  \"https://www.statlearning.com/s/ALL-CSV-FILES-2nd-Edition-corrected.zip\"\n",
    "# zip_filename = \"ALL-CSV-FILES-2nd-Edition-corrected.zip\"\n",
    "\n",
    "# urllib.request.urlretrieve(zip_url, zip_filename)\n",
    "\n",
    "# with zipfile.ZipFile(zip_filename, 'r') as archive:\n",
    "#     archive.printdir()\n",
    "\n",
    "# with zipfile.ZipFile(zip_filename, 'r') as archive:\n",
    "#     archive.extract('ALL CSV FILES - 2nd Edition/Hitters.csv')\n",
    "#     Path('ALL CSV FILES - 2nd Edition/Hitters.csv').rename('Hitters.csv')\n",
    "#     print('Done!')"
   ]
  },
  {
   "cell_type": "markdown",
   "id": "00238db2",
   "metadata": {
    "id": "00238db2"
   },
   "source": [
    "## Load Data"
   ]
  },
  {
   "cell_type": "code",
   "execution_count": 3,
   "id": "8fd86683",
   "metadata": {
    "ExecuteTime": {
     "end_time": "2022-04-18T17:22:18.718789Z",
     "start_time": "2022-04-18T17:22:18.689020Z"
    },
    "colab": {
     "base_uri": "https://localhost:8080/",
     "height": 206
    },
    "executionInfo": {
     "elapsed": 11,
     "status": "ok",
     "timestamp": 1651237641993,
     "user": {
      "displayName": "Lasha Pertakhia",
      "userId": "04655181451055411020"
     },
     "user_tz": -240
    },
    "id": "8fd86683",
    "outputId": "2d24a1c3-c203-4845-a7ad-a1d548808d81"
   },
   "outputs": [
    {
     "data": {
      "text/html": [
       "<div>\n",
       "<style scoped>\n",
       "    .dataframe tbody tr th:only-of-type {\n",
       "        vertical-align: middle;\n",
       "    }\n",
       "\n",
       "    .dataframe tbody tr th {\n",
       "        vertical-align: top;\n",
       "    }\n",
       "\n",
       "    .dataframe thead th {\n",
       "        text-align: right;\n",
       "    }\n",
       "</style>\n",
       "<table border=\"1\" class=\"dataframe\">\n",
       "  <thead>\n",
       "    <tr style=\"text-align: right;\">\n",
       "      <th></th>\n",
       "      <th>AtBat</th>\n",
       "      <th>Hits</th>\n",
       "      <th>HmRun</th>\n",
       "      <th>Runs</th>\n",
       "      <th>RBI</th>\n",
       "      <th>Walks</th>\n",
       "      <th>Years</th>\n",
       "      <th>CAtBat</th>\n",
       "      <th>CHits</th>\n",
       "      <th>CHmRun</th>\n",
       "      <th>CRuns</th>\n",
       "      <th>CRBI</th>\n",
       "      <th>CWalks</th>\n",
       "      <th>League</th>\n",
       "      <th>Division</th>\n",
       "      <th>PutOuts</th>\n",
       "      <th>Assists</th>\n",
       "      <th>Errors</th>\n",
       "      <th>Salary</th>\n",
       "      <th>NewLeague</th>\n",
       "    </tr>\n",
       "  </thead>\n",
       "  <tbody>\n",
       "    <tr>\n",
       "      <th>0</th>\n",
       "      <td>293</td>\n",
       "      <td>66</td>\n",
       "      <td>1</td>\n",
       "      <td>30</td>\n",
       "      <td>29</td>\n",
       "      <td>14</td>\n",
       "      <td>1</td>\n",
       "      <td>293</td>\n",
       "      <td>66</td>\n",
       "      <td>1</td>\n",
       "      <td>30</td>\n",
       "      <td>29</td>\n",
       "      <td>14</td>\n",
       "      <td>A</td>\n",
       "      <td>E</td>\n",
       "      <td>446</td>\n",
       "      <td>33</td>\n",
       "      <td>20</td>\n",
       "      <td>NaN</td>\n",
       "      <td>A</td>\n",
       "    </tr>\n",
       "    <tr>\n",
       "      <th>1</th>\n",
       "      <td>315</td>\n",
       "      <td>81</td>\n",
       "      <td>7</td>\n",
       "      <td>24</td>\n",
       "      <td>38</td>\n",
       "      <td>39</td>\n",
       "      <td>14</td>\n",
       "      <td>3449</td>\n",
       "      <td>835</td>\n",
       "      <td>69</td>\n",
       "      <td>321</td>\n",
       "      <td>414</td>\n",
       "      <td>375</td>\n",
       "      <td>N</td>\n",
       "      <td>W</td>\n",
       "      <td>632</td>\n",
       "      <td>43</td>\n",
       "      <td>10</td>\n",
       "      <td>475.0</td>\n",
       "      <td>N</td>\n",
       "    </tr>\n",
       "    <tr>\n",
       "      <th>2</th>\n",
       "      <td>479</td>\n",
       "      <td>130</td>\n",
       "      <td>18</td>\n",
       "      <td>66</td>\n",
       "      <td>72</td>\n",
       "      <td>76</td>\n",
       "      <td>3</td>\n",
       "      <td>1624</td>\n",
       "      <td>457</td>\n",
       "      <td>63</td>\n",
       "      <td>224</td>\n",
       "      <td>266</td>\n",
       "      <td>263</td>\n",
       "      <td>A</td>\n",
       "      <td>W</td>\n",
       "      <td>880</td>\n",
       "      <td>82</td>\n",
       "      <td>14</td>\n",
       "      <td>480.0</td>\n",
       "      <td>A</td>\n",
       "    </tr>\n",
       "    <tr>\n",
       "      <th>3</th>\n",
       "      <td>496</td>\n",
       "      <td>141</td>\n",
       "      <td>20</td>\n",
       "      <td>65</td>\n",
       "      <td>78</td>\n",
       "      <td>37</td>\n",
       "      <td>11</td>\n",
       "      <td>5628</td>\n",
       "      <td>1575</td>\n",
       "      <td>225</td>\n",
       "      <td>828</td>\n",
       "      <td>838</td>\n",
       "      <td>354</td>\n",
       "      <td>N</td>\n",
       "      <td>E</td>\n",
       "      <td>200</td>\n",
       "      <td>11</td>\n",
       "      <td>3</td>\n",
       "      <td>500.0</td>\n",
       "      <td>N</td>\n",
       "    </tr>\n",
       "    <tr>\n",
       "      <th>4</th>\n",
       "      <td>321</td>\n",
       "      <td>87</td>\n",
       "      <td>10</td>\n",
       "      <td>39</td>\n",
       "      <td>42</td>\n",
       "      <td>30</td>\n",
       "      <td>2</td>\n",
       "      <td>396</td>\n",
       "      <td>101</td>\n",
       "      <td>12</td>\n",
       "      <td>48</td>\n",
       "      <td>46</td>\n",
       "      <td>33</td>\n",
       "      <td>N</td>\n",
       "      <td>E</td>\n",
       "      <td>805</td>\n",
       "      <td>40</td>\n",
       "      <td>4</td>\n",
       "      <td>91.5</td>\n",
       "      <td>N</td>\n",
       "    </tr>\n",
       "  </tbody>\n",
       "</table>\n",
       "</div>"
      ],
      "text/plain": [
       "   AtBat  Hits  HmRun  Runs  RBI  Walks  Years  CAtBat  CHits  CHmRun  CRuns  \\\n",
       "0    293    66      1    30   29     14      1     293     66       1     30   \n",
       "1    315    81      7    24   38     39     14    3449    835      69    321   \n",
       "2    479   130     18    66   72     76      3    1624    457      63    224   \n",
       "3    496   141     20    65   78     37     11    5628   1575     225    828   \n",
       "4    321    87     10    39   42     30      2     396    101      12     48   \n",
       "\n",
       "   CRBI  CWalks League Division  PutOuts  Assists  Errors  Salary NewLeague  \n",
       "0    29      14      A        E      446       33      20     NaN         A  \n",
       "1   414     375      N        W      632       43      10   475.0         N  \n",
       "2   266     263      A        W      880       82      14   480.0         A  \n",
       "3   838     354      N        E      200       11       3   500.0         N  \n",
       "4    46      33      N        E      805       40       4    91.5         N  "
      ]
     },
     "execution_count": 3,
     "metadata": {},
     "output_type": "execute_result"
    }
   ],
   "source": [
    "hitters_df = pd.read_csv('Hitters.csv')\n",
    "hitters_df.head()"
   ]
  },
  {
   "cell_type": "code",
   "execution_count": 4,
   "id": "0651ce2b",
   "metadata": {
    "ExecuteTime": {
     "end_time": "2022-04-18T17:22:18.734052Z",
     "start_time": "2022-04-18T17:22:18.719972Z"
    },
    "colab": {
     "base_uri": "https://localhost:8080/"
    },
    "executionInfo": {
     "elapsed": 11,
     "status": "ok",
     "timestamp": 1651237641994,
     "user": {
      "displayName": "Lasha Pertakhia",
      "userId": "04655181451055411020"
     },
     "user_tz": -240
    },
    "id": "0651ce2b",
    "outputId": "1bca0bd2-a909-4865-895b-7e5e122ae6ce"
   },
   "outputs": [
    {
     "name": "stdout",
     "output_type": "stream",
     "text": [
      "<class 'pandas.core.frame.DataFrame'>\n",
      "RangeIndex: 322 entries, 0 to 321\n",
      "Data columns (total 20 columns):\n",
      " #   Column     Non-Null Count  Dtype  \n",
      "---  ------     --------------  -----  \n",
      " 0   AtBat      322 non-null    int64  \n",
      " 1   Hits       322 non-null    int64  \n",
      " 2   HmRun      322 non-null    int64  \n",
      " 3   Runs       322 non-null    int64  \n",
      " 4   RBI        322 non-null    int64  \n",
      " 5   Walks      322 non-null    int64  \n",
      " 6   Years      322 non-null    int64  \n",
      " 7   CAtBat     322 non-null    int64  \n",
      " 8   CHits      322 non-null    int64  \n",
      " 9   CHmRun     322 non-null    int64  \n",
      " 10  CRuns      322 non-null    int64  \n",
      " 11  CRBI       322 non-null    int64  \n",
      " 12  CWalks     322 non-null    int64  \n",
      " 13  League     322 non-null    object \n",
      " 14  Division   322 non-null    object \n",
      " 15  PutOuts    322 non-null    int64  \n",
      " 16  Assists    322 non-null    int64  \n",
      " 17  Errors     322 non-null    int64  \n",
      " 18  Salary     263 non-null    float64\n",
      " 19  NewLeague  322 non-null    object \n",
      "dtypes: float64(1), int64(16), object(3)\n",
      "memory usage: 50.4+ KB\n"
     ]
    }
   ],
   "source": [
    "hitters_df.info()"
   ]
  },
  {
   "cell_type": "code",
   "execution_count": 5,
   "id": "14a85501",
   "metadata": {
    "ExecuteTime": {
     "end_time": "2022-04-18T17:22:18.749307Z",
     "start_time": "2022-04-18T17:22:18.735179Z"
    },
    "colab": {
     "base_uri": "https://localhost:8080/"
    },
    "executionInfo": {
     "elapsed": 9,
     "status": "ok",
     "timestamp": 1651237641994,
     "user": {
      "displayName": "Lasha Pertakhia",
      "userId": "04655181451055411020"
     },
     "user_tz": -240
    },
    "id": "14a85501",
    "outputId": "eb36c300-f926-447a-8bc7-e074f4b5f72b"
   },
   "outputs": [
    {
     "data": {
      "text/plain": [
       "AtBat         0\n",
       "Hits          0\n",
       "HmRun         0\n",
       "Runs          0\n",
       "RBI           0\n",
       "Walks         0\n",
       "Years         0\n",
       "CAtBat        0\n",
       "CHits         0\n",
       "CHmRun        0\n",
       "CRuns         0\n",
       "CRBI          0\n",
       "CWalks        0\n",
       "League        0\n",
       "Division      0\n",
       "PutOuts       0\n",
       "Assists       0\n",
       "Errors        0\n",
       "Salary       59\n",
       "NewLeague     0\n",
       "dtype: int64"
      ]
     },
     "execution_count": 5,
     "metadata": {},
     "output_type": "execute_result"
    }
   ],
   "source": [
    "hitters_df.isna().sum()"
   ]
  },
  {
   "cell_type": "code",
   "execution_count": 6,
   "id": "9efa6765",
   "metadata": {
    "ExecuteTime": {
     "end_time": "2022-04-18T17:22:18.765105Z",
     "start_time": "2022-04-18T17:22:18.751412Z"
    },
    "id": "9efa6765"
   },
   "outputs": [],
   "source": [
    "hitters_df = hitters_df.dropna()"
   ]
  },
  {
   "cell_type": "code",
   "execution_count": 7,
   "id": "fd73b2fa",
   "metadata": {
    "ExecuteTime": {
     "end_time": "2022-04-18T17:22:18.781117Z",
     "start_time": "2022-04-18T17:22:18.766846Z"
    },
    "colab": {
     "base_uri": "https://localhost:8080/"
    },
    "executionInfo": {
     "elapsed": 9,
     "status": "ok",
     "timestamp": 1651237641995,
     "user": {
      "displayName": "Lasha Pertakhia",
      "userId": "04655181451055411020"
     },
     "user_tz": -240
    },
    "id": "fd73b2fa",
    "outputId": "37950623-d5bc-4bd4-83a3-13c6af831252"
   },
   "outputs": [
    {
     "data": {
      "text/plain": [
       "['AtBat',\n",
       " 'Hits',\n",
       " 'HmRun',\n",
       " 'Runs',\n",
       " 'RBI',\n",
       " 'Walks',\n",
       " 'Years',\n",
       " 'CAtBat',\n",
       " 'CHits',\n",
       " 'CHmRun',\n",
       " 'CRuns',\n",
       " 'CRBI',\n",
       " 'CWalks',\n",
       " 'PutOuts',\n",
       " 'Assists',\n",
       " 'Errors',\n",
       " 'Salary']"
      ]
     },
     "execution_count": 7,
     "metadata": {},
     "output_type": "execute_result"
    }
   ],
   "source": [
    "quantitative_cols = hitters_df.select_dtypes(include=['number']).dtypes.index.tolist()\n",
    "quantitative_cols"
   ]
  },
  {
   "cell_type": "code",
   "execution_count": 8,
   "id": "56142868",
   "metadata": {
    "ExecuteTime": {
     "end_time": "2022-04-18T17:22:18.797359Z",
     "start_time": "2022-04-18T17:22:18.782118Z"
    },
    "colab": {
     "base_uri": "https://localhost:8080/"
    },
    "executionInfo": {
     "elapsed": 7,
     "status": "ok",
     "timestamp": 1651237641995,
     "user": {
      "displayName": "Lasha Pertakhia",
      "userId": "04655181451055411020"
     },
     "user_tz": -240
    },
    "id": "56142868",
    "outputId": "de5051b3-f91e-4d35-d280-dbd0e1dfe6e0"
   },
   "outputs": [
    {
     "data": {
      "text/plain": [
       "['League', 'Division', 'NewLeague']"
      ]
     },
     "execution_count": 8,
     "metadata": {},
     "output_type": "execute_result"
    }
   ],
   "source": [
    "qualitative_cols = hitters_df.select_dtypes(include=['category', 'object']).dtypes.index.tolist()\n",
    "qualitative_cols"
   ]
  },
  {
   "cell_type": "code",
   "execution_count": 9,
   "id": "dQLEP8gwaBii",
   "metadata": {
    "id": "dQLEP8gwaBii"
   },
   "outputs": [],
   "source": [
    "response = 'Salary'\n",
    "predictors = list(set(quantitative_cols) - set([response]))"
   ]
  },
  {
   "cell_type": "code",
   "execution_count": 10,
   "id": "bUGPeuR4aNwS",
   "metadata": {
    "id": "bUGPeuR4aNwS"
   },
   "outputs": [
    {
     "data": {
      "text/plain": [
       "1       475.0\n",
       "2       480.0\n",
       "3       500.0\n",
       "4        91.5\n",
       "5       750.0\n",
       "        ...  \n",
       "317     700.0\n",
       "318     875.0\n",
       "319     385.0\n",
       "320     960.0\n",
       "321    1000.0\n",
       "Name: Salary, Length: 263, dtype: float64"
      ]
     },
     "execution_count": 10,
     "metadata": {},
     "output_type": "execute_result"
    }
   ],
   "source": [
    "y = hitters_df[response]\n",
    "y"
   ]
  },
  {
   "cell_type": "markdown",
   "id": "0f37e4b4",
   "metadata": {
    "id": "0f37e4b4"
   },
   "source": [
    "## Forward Selection"
   ]
  },
  {
   "cell_type": "code",
   "execution_count": 11,
   "id": "a39e5c6f",
   "metadata": {
    "ExecuteTime": {
     "end_time": "2022-04-18T17:26:28.818725Z",
     "start_time": "2022-04-18T17:26:28.138851Z"
    },
    "colab": {
     "base_uri": "https://localhost:8080/"
    },
    "executionInfo": {
     "elapsed": 731,
     "status": "ok",
     "timestamp": 1651237643024,
     "user": {
      "displayName": "Lasha Pertakhia",
      "userId": "04655181451055411020"
     },
     "user_tz": -240
    },
    "id": "a39e5c6f",
    "outputId": "14022b56-cee2-4f99-e2be-59052ba7571c"
   },
   "outputs": [
    {
     "name": "stdout",
     "output_type": "stream",
     "text": [
      "['CRBI']\n",
      "['CRBI', 'Hits']\n",
      "['CRBI', 'Hits', 'PutOuts']\n",
      "['CRBI', 'Hits', 'PutOuts', 'AtBat']\n",
      "['CRBI', 'Hits', 'PutOuts', 'AtBat', 'Walks']\n",
      "['CRBI', 'Hits', 'PutOuts', 'AtBat', 'Walks', 'CWalks']\n",
      "['CRBI', 'Hits', 'PutOuts', 'AtBat', 'Walks', 'CWalks', 'CRuns']\n",
      "['CRBI', 'Hits', 'PutOuts', 'AtBat', 'Walks', 'CWalks', 'CRuns', 'CAtBat']\n",
      "['CRBI', 'Hits', 'PutOuts', 'AtBat', 'Walks', 'CWalks', 'CRuns', 'CAtBat', 'Assists']\n",
      "['CRBI', 'Hits', 'PutOuts', 'AtBat', 'Walks', 'CWalks', 'CRuns', 'CAtBat', 'Assists', 'Runs']\n",
      "['CRBI', 'Hits', 'PutOuts', 'AtBat', 'Walks', 'CWalks', 'CRuns', 'CAtBat', 'Assists', 'Runs', 'Errors']\n",
      "['CRBI', 'Hits', 'PutOuts', 'AtBat', 'Walks', 'CWalks', 'CRuns', 'CAtBat', 'Assists', 'Runs', 'Errors', 'HmRun']\n",
      "['CRBI', 'Hits', 'PutOuts', 'AtBat', 'Walks', 'CWalks', 'CRuns', 'CAtBat', 'Assists', 'Runs', 'Errors', 'HmRun', 'CHits']\n",
      "['CRBI', 'Hits', 'PutOuts', 'AtBat', 'Walks', 'CWalks', 'CRuns', 'CAtBat', 'Assists', 'Runs', 'Errors', 'HmRun', 'CHits', 'Years']\n",
      "['CRBI', 'Hits', 'PutOuts', 'AtBat', 'Walks', 'CWalks', 'CRuns', 'CAtBat', 'Assists', 'Runs', 'Errors', 'HmRun', 'CHits', 'Years', 'CHmRun']\n",
      "['CRBI', 'Hits', 'PutOuts', 'AtBat', 'Walks', 'CWalks', 'CRuns', 'CAtBat', 'Assists', 'Runs', 'Errors', 'HmRun', 'CHits', 'Years', 'CHmRun', 'RBI']\n"
     ]
    }
   ],
   "source": [
    "unused_features = predictors[:]\n",
    "used_features = []\n",
    "errors = []\n",
    "model_stats = []\n",
    "\n",
    "while unused_features:\n",
    "    current_models = []\n",
    "    for feature in unused_features:\n",
    "        current_features = used_features + [feature]\n",
    "        X = hitters_df[current_features]\n",
    "        model = LinearRegression()\n",
    "        model.fit(X, y)\n",
    "        y_hat = model.predict(X)\n",
    "        # number of rows\n",
    "        n = X.shape[0]\n",
    "        # number of columns\n",
    "        k = len(model.coef_)\n",
    "        # degrees of freedom\n",
    "        dof = n - (k + 1)\n",
    "        # rss\n",
    "        rss = np.power(y - y_hat, 2).sum()\n",
    "        # tss\n",
    "        tss = np.power(y - y.mean(), 2).sum()\n",
    "        # adjusterd R^2\n",
    "        adj_r_2 = 1 - (rss/tss)*(n-1)/dof\n",
    "        current_models.append((feature, adj_r_2))\n",
    "    \n",
    "    current_models = sorted(current_models, reverse=True, key=lambda tup: tup[1])\n",
    "    best_model = current_models[0][0]\n",
    "    best_error = current_models[0][1]\n",
    "#     print(best_model)\n",
    "#     break\n",
    "    unused_features.remove(best_model)\n",
    "    used_features.append(best_model)\n",
    "    errors.append(best_error)\n",
    "#     print(f'unused: {unused_features}, used: {used_features}')\n",
    "    model_stats.append((len(used_features), used_features[:], best_error))\n",
    "    print(used_features)\n",
    "        \n",
    "        \n"
   ]
  },
  {
   "cell_type": "code",
   "execution_count": 12,
   "id": "a4a16f17",
   "metadata": {
    "ExecuteTime": {
     "end_time": "2022-04-18T17:26:28.849796Z",
     "start_time": "2022-04-18T17:26:28.819848Z"
    },
    "colab": {
     "base_uri": "https://localhost:8080/",
     "height": 551
    },
    "executionInfo": {
     "elapsed": 8,
     "status": "ok",
     "timestamp": 1651237643025,
     "user": {
      "displayName": "Lasha Pertakhia",
      "userId": "04655181451055411020"
     },
     "user_tz": -240
    },
    "id": "a4a16f17",
    "outputId": "b9af614c-d438-4055-8e14-62bb27d090a7"
   },
   "outputs": [
    {
     "data": {
      "text/html": [
       "<div>\n",
       "<style scoped>\n",
       "    .dataframe tbody tr th:only-of-type {\n",
       "        vertical-align: middle;\n",
       "    }\n",
       "\n",
       "    .dataframe tbody tr th {\n",
       "        vertical-align: top;\n",
       "    }\n",
       "\n",
       "    .dataframe thead th {\n",
       "        text-align: right;\n",
       "    }\n",
       "</style>\n",
       "<table border=\"1\" class=\"dataframe\">\n",
       "  <thead>\n",
       "    <tr style=\"text-align: right;\">\n",
       "      <th></th>\n",
       "      <th>cnt</th>\n",
       "      <th>columns</th>\n",
       "      <th>adj_r_2</th>\n",
       "    </tr>\n",
       "  </thead>\n",
       "  <tbody>\n",
       "    <tr>\n",
       "      <th>0</th>\n",
       "      <td>1</td>\n",
       "      <td>[CRBI]</td>\n",
       "      <td>0.318850</td>\n",
       "    </tr>\n",
       "    <tr>\n",
       "      <th>1</th>\n",
       "      <td>2</td>\n",
       "      <td>[CRBI, Hits]</td>\n",
       "      <td>0.420802</td>\n",
       "    </tr>\n",
       "    <tr>\n",
       "      <th>2</th>\n",
       "      <td>3</td>\n",
       "      <td>[CRBI, Hits, PutOuts]</td>\n",
       "      <td>0.445075</td>\n",
       "    </tr>\n",
       "    <tr>\n",
       "      <th>3</th>\n",
       "      <td>4</td>\n",
       "      <td>[CRBI, Hits, PutOuts, AtBat]</td>\n",
       "      <td>0.462159</td>\n",
       "    </tr>\n",
       "    <tr>\n",
       "      <th>4</th>\n",
       "      <td>5</td>\n",
       "      <td>[CRBI, Hits, PutOuts, AtBat, Walks]</td>\n",
       "      <td>0.480505</td>\n",
       "    </tr>\n",
       "    <tr>\n",
       "      <th>5</th>\n",
       "      <td>6</td>\n",
       "      <td>[CRBI, Hits, PutOuts, AtBat, Walks, CWalks]</td>\n",
       "      <td>0.481896</td>\n",
       "    </tr>\n",
       "    <tr>\n",
       "      <th>6</th>\n",
       "      <td>7</td>\n",
       "      <td>[CRBI, Hits, PutOuts, AtBat, Walks, CWalks, CR...</td>\n",
       "      <td>0.496239</td>\n",
       "    </tr>\n",
       "    <tr>\n",
       "      <th>7</th>\n",
       "      <td>8</td>\n",
       "      <td>[CRBI, Hits, PutOuts, AtBat, Walks, CWalks, CR...</td>\n",
       "      <td>0.503651</td>\n",
       "    </tr>\n",
       "    <tr>\n",
       "      <th>8</th>\n",
       "      <td>9</td>\n",
       "      <td>[CRBI, Hits, PutOuts, AtBat, Walks, CWalks, CR...</td>\n",
       "      <td>0.508641</td>\n",
       "    </tr>\n",
       "    <tr>\n",
       "      <th>9</th>\n",
       "      <td>10</td>\n",
       "      <td>[CRBI, Hits, PutOuts, AtBat, Walks, CWalks, CR...</td>\n",
       "      <td>0.507753</td>\n",
       "    </tr>\n",
       "    <tr>\n",
       "      <th>10</th>\n",
       "      <td>11</td>\n",
       "      <td>[CRBI, Hits, PutOuts, AtBat, Walks, CWalks, CR...</td>\n",
       "      <td>0.506449</td>\n",
       "    </tr>\n",
       "    <tr>\n",
       "      <th>11</th>\n",
       "      <td>12</td>\n",
       "      <td>[CRBI, Hits, PutOuts, AtBat, Walks, CWalks, CR...</td>\n",
       "      <td>0.504940</td>\n",
       "    </tr>\n",
       "    <tr>\n",
       "      <th>12</th>\n",
       "      <td>13</td>\n",
       "      <td>[CRBI, Hits, PutOuts, AtBat, Walks, CWalks, CR...</td>\n",
       "      <td>0.503160</td>\n",
       "    </tr>\n",
       "    <tr>\n",
       "      <th>13</th>\n",
       "      <td>14</td>\n",
       "      <td>[CRBI, Hits, PutOuts, AtBat, Walks, CWalks, CR...</td>\n",
       "      <td>0.501238</td>\n",
       "    </tr>\n",
       "    <tr>\n",
       "      <th>14</th>\n",
       "      <td>15</td>\n",
       "      <td>[CRBI, Hits, PutOuts, AtBat, Walks, CWalks, CR...</td>\n",
       "      <td>0.499263</td>\n",
       "    </tr>\n",
       "    <tr>\n",
       "      <th>15</th>\n",
       "      <td>16</td>\n",
       "      <td>[CRBI, Hits, PutOuts, AtBat, Walks, CWalks, CR...</td>\n",
       "      <td>0.497227</td>\n",
       "    </tr>\n",
       "  </tbody>\n",
       "</table>\n",
       "</div>"
      ],
      "text/plain": [
       "    cnt                                            columns   adj_r_2\n",
       "0     1                                             [CRBI]  0.318850\n",
       "1     2                                       [CRBI, Hits]  0.420802\n",
       "2     3                              [CRBI, Hits, PutOuts]  0.445075\n",
       "3     4                       [CRBI, Hits, PutOuts, AtBat]  0.462159\n",
       "4     5                [CRBI, Hits, PutOuts, AtBat, Walks]  0.480505\n",
       "5     6        [CRBI, Hits, PutOuts, AtBat, Walks, CWalks]  0.481896\n",
       "6     7  [CRBI, Hits, PutOuts, AtBat, Walks, CWalks, CR...  0.496239\n",
       "7     8  [CRBI, Hits, PutOuts, AtBat, Walks, CWalks, CR...  0.503651\n",
       "8     9  [CRBI, Hits, PutOuts, AtBat, Walks, CWalks, CR...  0.508641\n",
       "9    10  [CRBI, Hits, PutOuts, AtBat, Walks, CWalks, CR...  0.507753\n",
       "10   11  [CRBI, Hits, PutOuts, AtBat, Walks, CWalks, CR...  0.506449\n",
       "11   12  [CRBI, Hits, PutOuts, AtBat, Walks, CWalks, CR...  0.504940\n",
       "12   13  [CRBI, Hits, PutOuts, AtBat, Walks, CWalks, CR...  0.503160\n",
       "13   14  [CRBI, Hits, PutOuts, AtBat, Walks, CWalks, CR...  0.501238\n",
       "14   15  [CRBI, Hits, PutOuts, AtBat, Walks, CWalks, CR...  0.499263\n",
       "15   16  [CRBI, Hits, PutOuts, AtBat, Walks, CWalks, CR...  0.497227"
      ]
     },
     "execution_count": 12,
     "metadata": {},
     "output_type": "execute_result"
    }
   ],
   "source": [
    "stats_df = pd.DataFrame(model_stats, columns=['cnt', 'columns', 'adj_r_2'])\n",
    "stats_df"
   ]
  },
  {
   "cell_type": "code",
   "execution_count": 13,
   "id": "4ee386f2",
   "metadata": {
    "ExecuteTime": {
     "end_time": "2022-04-18T17:26:28.864737Z",
     "start_time": "2022-04-18T17:26:28.852921Z"
    },
    "colab": {
     "base_uri": "https://localhost:8080/"
    },
    "executionInfo": {
     "elapsed": 7,
     "status": "ok",
     "timestamp": 1651237643025,
     "user": {
      "displayName": "Lasha Pertakhia",
      "userId": "04655181451055411020"
     },
     "user_tz": -240
    },
    "id": "4ee386f2",
    "outputId": "a46ba84f-cea8-4eba-ec41-b0f0b9487aa6"
   },
   "outputs": [
    {
     "data": {
      "text/plain": [
       "8"
      ]
     },
     "execution_count": 13,
     "metadata": {},
     "output_type": "execute_result"
    }
   ],
   "source": [
    "best_idx = stats_df['adj_r_2'].idxmax()\n",
    "best_idx"
   ]
  },
  {
   "cell_type": "code",
   "execution_count": 14,
   "id": "37d298cc",
   "metadata": {
    "ExecuteTime": {
     "end_time": "2022-04-18T17:26:28.880175Z",
     "start_time": "2022-04-18T17:26:28.866759Z"
    },
    "colab": {
     "base_uri": "https://localhost:8080/"
    },
    "executionInfo": {
     "elapsed": 6,
     "status": "ok",
     "timestamp": 1651237643026,
     "user": {
      "displayName": "Lasha Pertakhia",
      "userId": "04655181451055411020"
     },
     "user_tz": -240
    },
    "id": "37d298cc",
    "outputId": "85d7d10a-f229-453f-c60c-1ac1ee13bb38"
   },
   "outputs": [
    {
     "data": {
      "text/plain": [
       "(9, 0.5086408324706606)"
      ]
     },
     "execution_count": 14,
     "metadata": {},
     "output_type": "execute_result"
    }
   ],
   "source": [
    "stats_df.loc[best_idx, 'cnt'], stats_df.loc[best_idx, 'adj_r_2']"
   ]
  },
  {
   "cell_type": "code",
   "execution_count": 15,
   "id": "3404ce49",
   "metadata": {
    "ExecuteTime": {
     "end_time": "2022-04-18T17:26:29.718481Z",
     "start_time": "2022-04-18T17:26:28.882803Z"
    },
    "colab": {
     "base_uri": "https://localhost:8080/",
     "height": 265
    },
    "executionInfo": {
     "elapsed": 530,
     "status": "ok",
     "timestamp": 1651237643551,
     "user": {
      "displayName": "Lasha Pertakhia",
      "userId": "04655181451055411020"
     },
     "user_tz": -240
    },
    "id": "3404ce49",
    "outputId": "6236eb51-e33f-451b-d197-cff283623a21"
   },
   "outputs": [
    {
     "data": {
      "image/png": "[encoded data removed]",
      "text/plain": [
       "<Figure size 432x288 with 1 Axes>"
      ]
     },
     "metadata": {
      "needs_background": "light"
     },
     "output_type": "display_data"
    }
   ],
   "source": [
    "plt.plot(stats_df['cnt'], stats_df['adj_r_2'])\n",
    "plt.scatter(x=stats_df.loc[best_idx, 'cnt'], y=stats_df.loc[best_idx, 'adj_r_2'], c='r')\n",
    "plt.show()"
   ]
  },
  {
   "cell_type": "code",
   "execution_count": null,
   "id": "3131224c",
   "metadata": {
    "id": "3131224c"
   },
   "outputs": [],
   "source": []
  },
  {
   "cell_type": "markdown",
   "id": "e0625651",
   "metadata": {
    "id": "e0625651"
   },
   "source": [
    "## Backward Selection"
   ]
  },
  {
   "cell_type": "code",
   "execution_count": null,
   "id": "e9ea3ce2",
   "metadata": {
    "id": "e9ea3ce2"
   },
   "outputs": [],
   "source": []
  },
  {
   "cell_type": "code",
   "execution_count": 28,
   "id": "c4ae9a02",
   "metadata": {},
   "outputs": [
    {
     "name": "stdout",
     "output_type": "stream",
     "text": [
      "['CRuns', 'CHmRun', 'AtBat', 'CWalks', 'PutOuts', 'HmRun', 'CHits', 'Assists', 'Hits', 'RBI', 'Runs', 'CAtBat', 'CRBI', 'Errors', 'Walks', 'Years']\n"
     ]
    },
    {
     "data": {
      "text/plain": [
       "[('RBI', 0.4991744631373515),\n",
       " ('RBI', 0.4785621640677833),\n",
       " ('RBI', 0.479075665468929),\n",
       " ('RBI', 0.4798342367584315),\n",
       " ('RBI', 0.46908273021200997),\n",
       " ('RBI', 0.46947977231768245),\n",
       " ('RBI', 0.46865452031941823),\n",
       " ('RBI', 0.4212192129633199)]"
      ]
     },
     "execution_count": 28,
     "metadata": {},
     "output_type": "execute_result"
    }
   ],
   "source": [
    "features = predictors[:]\n",
    "print(features)\n",
    "\n",
    "current_models = []\n",
    "for item in features:\n",
    "    features.pop()\n",
    "    current_features = features\n",
    "    X = hitters_df[current_features]\n",
    "\n",
    "    model = LinearRegression()\n",
    "    model.fit(X, y)\n",
    "    y_hat = model.predict(X)\n",
    "    # number of rows\n",
    "    n = X.shape[0]\n",
    "    # number of columns\n",
    "    k = len(model.coef_)\n",
    "    # degrees of freedom\n",
    "    dof = n - (k + 1)\n",
    "    # rss\n",
    "    rss = np.power(y - y_hat, 2).sum()\n",
    "    # tss\n",
    "    tss = np.power(y - y.mean(), 2).sum()\n",
    "    # adjusterd R^2\n",
    "    adj_r_2 = 1 - (rss/tss)*(n-1)/dof\n",
    "    current_models.append((feature, adj_r_2))\n",
    "current_models"
   ]
  },
  {
   "cell_type": "code",
   "execution_count": null,
   "id": "079dbb67",
   "metadata": {},
   "outputs": [],
   "source": []
  }
 ],
 "metadata": {
  "colab": {
   "collapsed_sections": [],
   "name": "islr_ch06_lab_firstname_lastname.ipynb",
   "provenance": []
  },
  "kernelspec": {
   "display_name": "Python 3 (ipykernel)",
   "language": "python",
   "name": "python3"
  },
  "language_info": {
   "codemirror_mode": {
    "name": "ipython",
    "version": 3
   },
   "file_extension": ".py",
   "mimetype": "text/x-python",
   "name": "python",
   "nbconvert_exporter": "python",
   "pygments_lexer": "ipython3",
   "version": "3.9.7"
  },
  "toc": {
   "base_numbering": 1,
   "nav_menu": {},
   "number_sections": true,
   "sideBar": true,
   "skip_h1_title": false,
   "title_cell": "Table of Contents",
   "title_sidebar": "Contents",
   "toc_cell": false,
   "toc_position": {
    "height": "calc(100% - 180px)",
    "left": "10px",
    "top": "150px",
    "width": "165px"
   },
   "toc_section_display": true,
   "toc_window_display": true
  }
 },
 "nbformat": 4,
 "nbformat_minor": 5
}
