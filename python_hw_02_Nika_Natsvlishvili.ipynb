{
 "cells": [
  {
   "cell_type": "markdown",
   "id": "2f193497",
   "metadata": {},
   "source": [
    "# 1\n",
    "დაწერეთ ფუნქცია `play()` რომელიც მოცემული `n` რიცხვისთვის სიმბოლოებით დაბეჭდავს სამკუთხედს შემდეგნაირად:\n",
    "\n",
    "`play(4)`\n",
    "\n",
    "```\n",
    "********\n",
    "***|\\***\n",
    "***| \\**\n",
    "***|  \\*\n",
    "***|  /*\n",
    "***| /**\n",
    "***|/***\n",
    "********\n",
    "```"
   ]
  },
  {
   "cell_type": "code",
   "execution_count": 140,
   "id": "0b30618b",
   "metadata": {},
   "outputs": [
    {
     "name": "stdout",
     "output_type": "stream",
     "text": [
      "****************\n",
      "***|\\***********\n",
      "***| \\**********\n",
      "***|  \\*********\n",
      "***|   \\********\n",
      "***|    \\*******\n",
      "***|     \\******\n",
      "***|      \\*****\n",
      "***|      /*****\n",
      "***|     /******\n",
      "***|    /*******\n",
      "***|   /********\n",
      "***|  /*********\n",
      "***| /**********\n",
      "***|/***********\n",
      "****************\n"
     ]
    }
   ],
   "source": [
    "def play(n):\n",
    "    n = 2 * n\n",
    "    print(n * \"*\")\n",
    "    \n",
    "    z = (n//2) -1\n",
    "    \n",
    "    for i in range(0,z):\n",
    "        y = n - (i +5)\n",
    "        x = '*' *3 + '|' + i * \" \" +  '\\\\' + y * \"*\"\n",
    "        print(x)\n",
    "\n",
    "\n",
    "    for i in range(z-1,-1,-1):\n",
    "        y = n - (i +5)\n",
    "        x = '*' *3 + '|' + i * \" \" +  '/' + y * \"*\"\n",
    "        print(x)\n",
    "    \n",
    "    print(n* \"*\")                         \n",
    "    \n",
    "    \n",
    "play(8)"
   ]
  },
  {
   "cell_type": "markdown",
   "id": "1cbd5584",
   "metadata": {},
   "source": [
    "# 2\n",
    "დაწერეთ `calc()` ფუნქცია რომელიც string პარამეტრად მიიღებს `<რიცხვი1> <ოპერაცია> <რიცხვი2> =` და პასუხად დააბრუნებს შედეგს.\n",
    "\n",
    "მაგალითად `calc('3 * 4 =')`\n",
    "\n",
    "`12`"
   ]
  },
  {
   "cell_type": "code",
   "execution_count": 144,
   "id": "0b6d8a54",
   "metadata": {},
   "outputs": [
    {
     "data": {
      "text/plain": [
       "25"
      ]
     },
     "execution_count": 144,
     "metadata": {},
     "output_type": "execute_result"
    }
   ],
   "source": [
    "def calc(x):\n",
    "    oper = ['-', '+', '*','/', '%']\n",
    "    oper_index = 0\n",
    "    x_index = 0\n",
    "    for i in oper:\n",
    "        if i not in x:\n",
    "            continue\n",
    "        elif i in x:\n",
    "            oper_index += oper.index(i)\n",
    "            x_index += x.find(i)\n",
    "            break\n",
    "            \n",
    "    a = int(x[0:x_index])\n",
    "    b = int(x[x_index+1 : -1])\n",
    "    \n",
    "    if oper_index == 0:\n",
    "        y = a - b\n",
    "    elif oper_index == 1:\n",
    "        y = a + b\n",
    "    elif oper_index == 2:\n",
    "        y = a * b\n",
    "    elif oper_index == 3:\n",
    "        y = a / b\n",
    "    elif oper_index == 4:\n",
    "        y = a % b\n",
    "    return y\n",
    "string = '5 * 5 ='\n",
    "calc(string)"
   ]
  },
  {
   "cell_type": "code",
   "execution_count": 142,
   "id": "a0e58680",
   "metadata": {},
   "outputs": [
    {
     "name": "stdout",
     "output_type": "stream",
     "text": [
      "15\n"
     ]
    }
   ],
   "source": [
    "n = eval('5 * 3')\n",
    "print(n)"
   ]
  },
  {
   "cell_type": "markdown",
   "id": "b7f56fe9",
   "metadata": {},
   "source": [
    "# 3\n",
    "დაწერეთ ფუნქცია, რომელიც მოცემული რიცხვისთვის დააბრუნებს რიცხვს, რომლის კენტ პოზიციაზე მყოფ ციფრებს შებრუნებულად დაალაგებს.\n",
    "\n",
    "* input: 3 => output: 3\n",
    "* input: 12 => output: 12\n",
    "* input: 123 => output: 321\n",
    "* input: 1234 => output: 3214\n",
    "* input: 12345 => output: 52341"
   ]
  },
  {
   "cell_type": "code",
   "execution_count": 147,
   "id": "5e41f224",
   "metadata": {},
   "outputs": [
    {
     "data": {
      "text/plain": [
       "3214"
      ]
     },
     "execution_count": 147,
     "metadata": {},
     "output_type": "execute_result"
    }
   ],
   "source": [
    "def rev(n):\n",
    "    n_list = list(str(n))\n",
    "    odd_index = []\n",
    "    len_n = len(str(n))\n",
    "    if len_n > 2:\n",
    "        for i in range(0,len(str(n)),2):\n",
    "            odd_index.append(n_list[i])\n",
    "    odd_index.reverse()\n",
    "    for i,j in zip(range(0,len_n,2),range(0,len(odd_index))):\n",
    "        n_list[i] = odd_index[j]\n",
    "    x = ''.join(n_list)\n",
    "    return int(x)\n",
    "rev(1234)"
   ]
  },
  {
   "cell_type": "markdown",
   "id": "426f27b5",
   "metadata": {},
   "source": [
    "# 4\n",
    "დაწერეთ ფუნქცია, რომელიც შეამოწმებს თუ რამდენად ძლიერია პაროლი შემდეგი პირობებით:\n",
    "\n",
    "- ძალიან სუსტი პაროლი შედგება მხოლოდ ციფრებისგან და სიმბოლოების რაოდენობა ნაკლებია 8-ზე;\n",
    "- სუსტი პაროლი შედგება მხოლოდ ლათინური ასოებისგან და სიმბოლოების რაოდენობა ნაკლებია 8-ზე;\n",
    "- ძლიერი პაროლი შედგება ასოებისგან, ასევე შეიცავს ერთ ციფრს მაინც, და სიმბოლოების რაოდენობა არის სულ მცირე 8;\n",
    "- ძალიან ძლიერი პაროლი შედგება ასოებისგან, ციფრებისგან, სპეციალური სიმბოლოებისგან (`.,?;:!@*()-_+=`) და სიმბოლოების რაოდენობა არის სულ მცირე 8.\n",
    "- თუ ისეთი კომბინაციაა, რომ 1:1-ში არ მიესადაგება ჩამოთვლილ პუნქტებს, კლასიფიცირდება როგორც უარესი. მაგალითად თუ 8-ზე მეტი სიმბოლოა, მაგრამ ყველა ციფრია, უნდა იყოს \"ძალიან სუსტი\"\n"
   ]
  },
  {
   "cell_type": "code",
   "execution_count": 148,
   "id": "33edd25d",
   "metadata": {},
   "outputs": [
    {
     "data": {
      "text/plain": [
       "'Very Weak'"
      ]
     },
     "execution_count": 148,
     "metadata": {},
     "output_type": "execute_result"
    }
   ],
   "source": [
    "def cont_num(pasw):\n",
    "    var = 0\n",
    "    for i in pasw:\n",
    "        if i.isdecimal():\n",
    "            var += 1\n",
    "        else:\n",
    "            continue\n",
    "    if var > 1:\n",
    "        return True\n",
    "    else:\n",
    "        False\n",
    "        \n",
    "        \n",
    "def cont_str(pasw):\n",
    "    var = 0\n",
    "    for i in pasw:\n",
    "        if i.isalpha():\n",
    "            var += 1\n",
    "        else:\n",
    "            continue\n",
    "    if var >= 1:\n",
    "        return True\n",
    "    else:\n",
    "        False \n",
    "        \n",
    "        \n",
    "def cont_spec(pasw):\n",
    "    lis = [\".\",\"?\",\";\",\":\",\"!\",\"@\",\"*\",\"(\",\")\",\"-\",\"_\",\"+\",\"=\"]\n",
    "    var = 0\n",
    "    for i in pasw:\n",
    "        if i in lis:\n",
    "            var += 1\n",
    "        else:\n",
    "            continue\n",
    "    if var >= 1:\n",
    "        return True\n",
    "    else:\n",
    "        False         \n",
    "\n",
    "\n",
    "def password(pasw):\n",
    "    if (len(pasw) >= 8) and cont_num(pasw) and cont_str(pasw) and cont_spec(pasw):\n",
    "        return \"Very Strong Password\"\n",
    "    elif (len(pasw) >= 8) and cont_num(pasw) and cont_str(pasw):\n",
    "        return \"Strong Password\"\n",
    "    elif (len(pasw) < 8)  and pasw.isalpha():\n",
    "        return \"weak\"\n",
    "    elif (len(pasw) < 8) and pasw.isdecimal():\n",
    "        return \"Very weak\"\n",
    "    else:\n",
    "        return \"Very Weak\"\n",
    "        \n",
    "    \n",
    "    \n",
    "password(\"sdasdasfdsdafdsfsdfsf\")"
   ]
  }
 ],
 "metadata": {
  "kernelspec": {
   "display_name": "Python 3 (ipykernel)",
   "language": "python",
   "name": "python3"
  },
  "language_info": {
   "codemirror_mode": {
    "name": "ipython",
    "version": 3
   },
   "file_extension": ".py",
   "mimetype": "text/x-python",
   "name": "python",
   "nbconvert_exporter": "python",
   "pygments_lexer": "ipython3",
   "version": "3.9.7"
  },
  "toc": {
   "base_numbering": 1,
   "nav_menu": {},
   "number_sections": true,
   "sideBar": true,
   "skip_h1_title": false,
   "title_cell": "Table of Contents",
   "title_sidebar": "Contents",
   "toc_cell": false,
   "toc_position": {},
   "toc_section_display": true,
   "toc_window_display": false
  }
 },
 "nbformat": 4,
 "nbformat_minor": 5
}
